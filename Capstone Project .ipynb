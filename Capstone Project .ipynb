{
 "cells": [
  {
   "cell_type": "markdown",
   "metadata": {},
   "source": [
    "# Capstone Project"
   ]
  },
  {
   "cell_type": "code",
   "execution_count": 1,
   "metadata": {},
   "outputs": [],
   "source": [
    "import numpy as np\n",
    "import pandas as pd"
   ]
  },
  {
   "cell_type": "code",
   "execution_count": 2,
   "metadata": {},
   "outputs": [
    {
     "name": "stdout",
     "output_type": "stream",
     "text": [
      "Hello Capstone Project Course!\n"
     ]
    }
   ],
   "source": [
    "print('Hello Capstone Project Course!')"
   ]
  },
  {
   "cell_type": "markdown",
   "metadata": {},
   "source": [
    "# Introduction/Business Problem "
   ]
  },
  {
   "cell_type": "markdown",
   "metadata": {},
   "source": [
    "-to solve this problem , i ll review the dataset. so we will have three type of features\n",
    "    * X : they will be used to predict target ones\n",
    "    * Y: Targets\n",
    "    * not relevant : to be droped\n",
    "-each X  feature will be reviewed for NAN value to be replaced, then values are standarized.\n",
    "\n",
    "-Finally, we use X to predict Y through different models"
   ]
  },
  {
   "cell_type": "markdown",
   "metadata": {},
   "source": [
    "# Data "
   ]
  },
  {
   "cell_type": "markdown",
   "metadata": {},
   "source": [
    "* X : [X,Y,ADDRTYPE,INTKEY,INCDTTM,JUNCTIONTYPE,INATTENTIONIND,UNDERINFL,WEATHER,LIGHTCOND\n",
    ",PEDROWNOTGRNT,SPEEDING,SEGLANEKEY,CROSSWALKKEY,HITPARKEDCAR]\n",
    "\n",
    "\n",
    "* Y :[SEVERITYCODE,COLLISIONTYPE,PERSONCOUNT,PEDCOUNT,PEDCYLCOUNT,VEHCOUNT,SDOT_COLCODE]\n",
    "\n",
    "\n",
    "* Drop : ['OBJECTID','INCKEY','COLDETKEY','REPORTNO','STATUS' \n",
    "'LOCATION','EXCEPTRSNDESC','EXCEPTRSNCODE','SEVERITYCODE.1','SEVERITYDESC'\n",
    ",'INCDATE','SDOT_COLDESC','SDOTCOLNUM','ST_COLDESC']"
   ]
  },
  {
   "cell_type": "code",
   "execution_count": null,
   "metadata": {},
   "outputs": [],
   "source": [
    "df=pd.read_csv(r'Data-Collisions.csv')"
   ]
  },
  {
   "cell_type": "code",
   "execution_count": null,
   "metadata": {},
   "outputs": [],
   "source": [
    "#df.iloc[:,38]\n",
    "drop=['OBJECTID','INCKEY','COLDETKEY','REPORTNO','STATUS' ,'LOCATION','EXCEPTRSNDESC','EXCEPTRSNCODE','SEVERITYCODE.1','SEVERITYDESC'\n",
    "     ,'INCDATE','SDOT_COLDESC','SDOTCOLNUM','ST_COLDESC']\n",
    "df1=df.drop(drop,axis=1)\n",
    "df1"
   ]
  },
  {
   "cell_type": "code",
   "execution_count": null,
   "metadata": {},
   "outputs": [],
   "source": [
    "for i in df1.columns:\n",
    "    print(df1.isna()[i].value_counts())\n",
    "#x=[X,Y,ADDRTYPE,INTKEY,INCDTTM,JUNCTIONTYPE,INATTENTIONIND,UNDERINFL,WEATHER,LIGHTCOND,PEDROWNOTGRNT,SPEEDING,SEGLANEKEY,CROSSWALKKEY,HITPARKEDCAR]    \n",
    "#Y=[SEVERITYCODE,COLLISIONTYPE,PERSONCOUNT,PEDCOUNT,PEDCYLCOUNT,VEHCOUNT,SDOT_COLCODE]"
   ]
  },
  {
   "cell_type": "code",
   "execution_count": 59,
   "metadata": {},
   "outputs": [
    {
     "data": {
      "text/plain": [
       "1    136485\n",
       "2     58188\n",
       "Name: SEVERITYCODE, dtype: int64"
      ]
     },
     "execution_count": 59,
     "metadata": {},
     "output_type": "execute_result"
    }
   ],
   "source": [
    "df['SEVERITYCODE'].value_counts()"
   ]
  },
  {
   "cell_type": "code",
   "execution_count": null,
   "metadata": {},
   "outputs": [],
   "source": []
  }
 ],
 "metadata": {
  "kernelspec": {
   "display_name": "Python 3",
   "language": "python",
   "name": "python3"
  },
  "language_info": {
   "codemirror_mode": {
    "name": "ipython",
    "version": 3
   },
   "file_extension": ".py",
   "mimetype": "text/x-python",
   "name": "python",
   "nbconvert_exporter": "python",
   "pygments_lexer": "ipython3",
   "version": "3.6.8"
  }
 },
 "nbformat": 4,
 "nbformat_minor": 2
}
