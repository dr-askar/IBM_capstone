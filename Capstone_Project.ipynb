{
  "nbformat": 4,
  "nbformat_minor": 0,
  "metadata": {
    "kernelspec": {
      "display_name": "Python 3",
      "language": "python",
      "name": "python3"
    },
    "language_info": {
      "codemirror_mode": {
        "name": "ipython",
        "version": 3
      },
      "file_extension": ".py",
      "mimetype": "text/x-python",
      "name": "python",
      "nbconvert_exporter": "python",
      "pygments_lexer": "ipython3",
      "version": "3.6.8"
    },
    "colab": {
      "name": "Copy of Capstone Project .ipynb",
      "provenance": [],
      "collapsed_sections": [
        "Qb90eRtaBUb7",
        "FqWfNIuQBUcE",
        "D187goAEBUdL",
        "aZLXCeT7BUdh",
        "KcjiV6XxBUeW",
        "Kmba4GHqBUhP",
        "0Jrf7PMEBUj0"
      ]
    }
  },
  "cells": [
    {
      "cell_type": "markdown",
      "metadata": {
        "id": "L3eQHegJBUaM"
      },
      "source": [
        "# Capstone Project"
      ]
    },
    {
      "cell_type": "code",
      "metadata": {
        "id": "0N1X1azuBUaT"
      },
      "source": [
        "import numpy as np\n",
        "import pandas as pd"
      ],
      "execution_count": 79,
      "outputs": []
    },
    {
      "cell_type": "code",
      "metadata": {
        "id": "nOldk-asBUat",
        "outputId": "0bcc7937-361a-417e-ab8e-a046b6c24750",
        "colab": {
          "base_uri": "https://localhost:8080/"
        }
      },
      "source": [
        "print('Hello Capstone Project Course!')"
      ],
      "execution_count": 80,
      "outputs": [
        {
          "output_type": "stream",
          "text": [
            "Hello Capstone Project Course!\n"
          ],
          "name": "stdout"
        }
      ]
    },
    {
      "cell_type": "markdown",
      "metadata": {
        "id": "SwPKarg_BUa9"
      },
      "source": [
        "# Introduction/Business Problem "
      ]
    },
    {
      "cell_type": "markdown",
      "metadata": {
        "id": "S4yu7ceIBUa_"
      },
      "source": [
        "# Load Data "
      ]
    },
    {
      "cell_type": "code",
      "metadata": {
        "id": "0s2PaGSxBlaM",
        "outputId": "a92ebc6f-4b4c-4114-cb0c-1d4801fafc7e",
        "colab": {
          "base_uri": "https://localhost:8080/"
        }
      },
      "source": [
        "!wget 'https://github.com/dr-askar/IBM_capstone/raw/master/Data-Collisions.csv'"
      ],
      "execution_count": 81,
      "outputs": [
        {
          "output_type": "stream",
          "text": [
            "--2020-10-29 04:22:31--  https://github.com/dr-askar/IBM_capstone/raw/master/Data-Collisions.csv\n",
            "Resolving github.com (github.com)... 140.82.121.4\n",
            "Connecting to github.com (github.com)|140.82.121.4|:443... connected.\n",
            "HTTP request sent, awaiting response... 302 Found\n",
            "Location: https://raw.githubusercontent.com/dr-askar/IBM_capstone/master/Data-Collisions.csv [following]\n",
            "--2020-10-29 04:22:32--  https://raw.githubusercontent.com/dr-askar/IBM_capstone/master/Data-Collisions.csv\n",
            "Resolving raw.githubusercontent.com (raw.githubusercontent.com)... 151.101.0.133, 151.101.64.133, 151.101.128.133, ...\n",
            "Connecting to raw.githubusercontent.com (raw.githubusercontent.com)|151.101.0.133|:443... connected.\n",
            "HTTP request sent, awaiting response... 200 OK\n",
            "Length: 73722965 (70M) [text/plain]\n",
            "Saving to: ‘Data-Collisions.csv.1’\n",
            "\n",
            "Data-Collisions.csv 100%[===================>]  70.31M   191MB/s    in 0.4s    \n",
            "\n",
            "2020-10-29 04:22:32 (191 MB/s) - ‘Data-Collisions.csv.1’ saved [73722965/73722965]\n",
            "\n"
          ],
          "name": "stdout"
        }
      ]
    },
    {
      "cell_type": "code",
      "metadata": {
        "id": "4k08bwj3EHcJ",
        "outputId": "4388bde2-b49e-4208-9556-095d625f7109",
        "colab": {
          "base_uri": "https://localhost:8080/"
        }
      },
      "source": [
        "!ls"
      ],
      "execution_count": 82,
      "outputs": [
        {
          "output_type": "stream",
          "text": [
            "Data-Collisions.csv  Data-Collisions.csv.1  sample_data\n"
          ],
          "name": "stdout"
        }
      ]
    },
    {
      "cell_type": "code",
      "metadata": {
        "id": "GBqeLshxBUbB",
        "outputId": "33f05712-7ced-46ab-82c3-0fa6aa5bfe98",
        "colab": {
          "base_uri": "https://localhost:8080/"
        }
      },
      "source": [
        "df=pd.read_csv(r'Data-Collisions.csv')"
      ],
      "execution_count": 83,
      "outputs": [
        {
          "output_type": "stream",
          "text": [
            "/usr/local/lib/python3.6/dist-packages/IPython/core/interactiveshell.py:2718: DtypeWarning: Columns (33) have mixed types.Specify dtype option on import or set low_memory=False.\n",
            "  interactivity=interactivity, compiler=compiler, result=result)\n"
          ],
          "name": "stderr"
        }
      ]
    },
    {
      "cell_type": "markdown",
      "metadata": {
        "id": "R8cEFMBLBUbM"
      },
      "source": [
        "# remove unnecessary features"
      ]
    },
    {
      "cell_type": "code",
      "metadata": {
        "id": "Vmsf3NOfBUbN",
        "outputId": "856405a7-f5f7-45a1-d35e-159ce9bae544",
        "colab": {
          "base_uri": "https://localhost:8080/",
          "height": 394
        }
      },
      "source": [
        "#df.iloc[:,38]\n",
        "drop=['OBJECTID','INCKEY','INTKEY','COLDETKEY','REPORTNO','STATUS' ,'LOCATION','EXCEPTRSNDESC','EXCEPTRSNCODE','SEVERITYCODE.1','SEVERITYDESC'\n",
        "     ,'INCDATE','SDOT_COLDESC','SDOTCOLNUM','ST_COLDESC']\n",
        "df1=df.drop(drop,axis=1)\n",
        "df1.head()"
      ],
      "execution_count": 84,
      "outputs": [
        {
          "output_type": "execute_result",
          "data": {
            "text/html": [
              "<div>\n",
              "<style scoped>\n",
              "    .dataframe tbody tr th:only-of-type {\n",
              "        vertical-align: middle;\n",
              "    }\n",
              "\n",
              "    .dataframe tbody tr th {\n",
              "        vertical-align: top;\n",
              "    }\n",
              "\n",
              "    .dataframe thead th {\n",
              "        text-align: right;\n",
              "    }\n",
              "</style>\n",
              "<table border=\"1\" class=\"dataframe\">\n",
              "  <thead>\n",
              "    <tr style=\"text-align: right;\">\n",
              "      <th></th>\n",
              "      <th>SEVERITYCODE</th>\n",
              "      <th>X</th>\n",
              "      <th>Y</th>\n",
              "      <th>ADDRTYPE</th>\n",
              "      <th>COLLISIONTYPE</th>\n",
              "      <th>PERSONCOUNT</th>\n",
              "      <th>PEDCOUNT</th>\n",
              "      <th>PEDCYLCOUNT</th>\n",
              "      <th>VEHCOUNT</th>\n",
              "      <th>INCDTTM</th>\n",
              "      <th>JUNCTIONTYPE</th>\n",
              "      <th>SDOT_COLCODE</th>\n",
              "      <th>INATTENTIONIND</th>\n",
              "      <th>UNDERINFL</th>\n",
              "      <th>WEATHER</th>\n",
              "      <th>ROADCOND</th>\n",
              "      <th>LIGHTCOND</th>\n",
              "      <th>PEDROWNOTGRNT</th>\n",
              "      <th>SPEEDING</th>\n",
              "      <th>ST_COLCODE</th>\n",
              "      <th>SEGLANEKEY</th>\n",
              "      <th>CROSSWALKKEY</th>\n",
              "      <th>HITPARKEDCAR</th>\n",
              "    </tr>\n",
              "  </thead>\n",
              "  <tbody>\n",
              "    <tr>\n",
              "      <th>0</th>\n",
              "      <td>2</td>\n",
              "      <td>-122.323148</td>\n",
              "      <td>47.703140</td>\n",
              "      <td>Intersection</td>\n",
              "      <td>Angles</td>\n",
              "      <td>2</td>\n",
              "      <td>0</td>\n",
              "      <td>0</td>\n",
              "      <td>2</td>\n",
              "      <td>3/27/2013 2:54:00 PM</td>\n",
              "      <td>At Intersection (intersection related)</td>\n",
              "      <td>11</td>\n",
              "      <td>NaN</td>\n",
              "      <td>N</td>\n",
              "      <td>Overcast</td>\n",
              "      <td>Wet</td>\n",
              "      <td>Daylight</td>\n",
              "      <td>NaN</td>\n",
              "      <td>NaN</td>\n",
              "      <td>10</td>\n",
              "      <td>0</td>\n",
              "      <td>0</td>\n",
              "      <td>N</td>\n",
              "    </tr>\n",
              "    <tr>\n",
              "      <th>1</th>\n",
              "      <td>1</td>\n",
              "      <td>-122.347294</td>\n",
              "      <td>47.647172</td>\n",
              "      <td>Block</td>\n",
              "      <td>Sideswipe</td>\n",
              "      <td>2</td>\n",
              "      <td>0</td>\n",
              "      <td>0</td>\n",
              "      <td>2</td>\n",
              "      <td>12/20/2006 6:55:00 PM</td>\n",
              "      <td>Mid-Block (not related to intersection)</td>\n",
              "      <td>16</td>\n",
              "      <td>NaN</td>\n",
              "      <td>0</td>\n",
              "      <td>Raining</td>\n",
              "      <td>Wet</td>\n",
              "      <td>Dark - Street Lights On</td>\n",
              "      <td>NaN</td>\n",
              "      <td>NaN</td>\n",
              "      <td>11</td>\n",
              "      <td>0</td>\n",
              "      <td>0</td>\n",
              "      <td>N</td>\n",
              "    </tr>\n",
              "    <tr>\n",
              "      <th>2</th>\n",
              "      <td>1</td>\n",
              "      <td>-122.334540</td>\n",
              "      <td>47.607871</td>\n",
              "      <td>Block</td>\n",
              "      <td>Parked Car</td>\n",
              "      <td>4</td>\n",
              "      <td>0</td>\n",
              "      <td>0</td>\n",
              "      <td>3</td>\n",
              "      <td>11/18/2004 10:20:00 AM</td>\n",
              "      <td>Mid-Block (not related to intersection)</td>\n",
              "      <td>14</td>\n",
              "      <td>NaN</td>\n",
              "      <td>0</td>\n",
              "      <td>Overcast</td>\n",
              "      <td>Dry</td>\n",
              "      <td>Daylight</td>\n",
              "      <td>NaN</td>\n",
              "      <td>NaN</td>\n",
              "      <td>32</td>\n",
              "      <td>0</td>\n",
              "      <td>0</td>\n",
              "      <td>N</td>\n",
              "    </tr>\n",
              "    <tr>\n",
              "      <th>3</th>\n",
              "      <td>1</td>\n",
              "      <td>-122.334803</td>\n",
              "      <td>47.604803</td>\n",
              "      <td>Block</td>\n",
              "      <td>Other</td>\n",
              "      <td>3</td>\n",
              "      <td>0</td>\n",
              "      <td>0</td>\n",
              "      <td>3</td>\n",
              "      <td>3/29/2013 9:26:00 AM</td>\n",
              "      <td>Mid-Block (not related to intersection)</td>\n",
              "      <td>11</td>\n",
              "      <td>NaN</td>\n",
              "      <td>N</td>\n",
              "      <td>Clear</td>\n",
              "      <td>Dry</td>\n",
              "      <td>Daylight</td>\n",
              "      <td>NaN</td>\n",
              "      <td>NaN</td>\n",
              "      <td>23</td>\n",
              "      <td>0</td>\n",
              "      <td>0</td>\n",
              "      <td>N</td>\n",
              "    </tr>\n",
              "    <tr>\n",
              "      <th>4</th>\n",
              "      <td>2</td>\n",
              "      <td>-122.306426</td>\n",
              "      <td>47.545739</td>\n",
              "      <td>Intersection</td>\n",
              "      <td>Angles</td>\n",
              "      <td>2</td>\n",
              "      <td>0</td>\n",
              "      <td>0</td>\n",
              "      <td>2</td>\n",
              "      <td>1/28/2004 8:04:00 AM</td>\n",
              "      <td>At Intersection (intersection related)</td>\n",
              "      <td>11</td>\n",
              "      <td>NaN</td>\n",
              "      <td>0</td>\n",
              "      <td>Raining</td>\n",
              "      <td>Wet</td>\n",
              "      <td>Daylight</td>\n",
              "      <td>NaN</td>\n",
              "      <td>NaN</td>\n",
              "      <td>10</td>\n",
              "      <td>0</td>\n",
              "      <td>0</td>\n",
              "      <td>N</td>\n",
              "    </tr>\n",
              "  </tbody>\n",
              "</table>\n",
              "</div>"
            ],
            "text/plain": [
              "   SEVERITYCODE           X          Y  ... SEGLANEKEY CROSSWALKKEY  HITPARKEDCAR\n",
              "0             2 -122.323148  47.703140  ...          0            0             N\n",
              "1             1 -122.347294  47.647172  ...          0            0             N\n",
              "2             1 -122.334540  47.607871  ...          0            0             N\n",
              "3             1 -122.334803  47.604803  ...          0            0             N\n",
              "4             2 -122.306426  47.545739  ...          0            0             N\n",
              "\n",
              "[5 rows x 23 columns]"
            ]
          },
          "metadata": {
            "tags": []
          },
          "execution_count": 84
        }
      ]
    },
    {
      "cell_type": "markdown",
      "metadata": {
        "id": "MWyqoShvBUbY"
      },
      "source": [
        "# percentage of na value in each feature"
      ]
    },
    {
      "cell_type": "code",
      "metadata": {
        "id": "3r0Z55ThBUba",
        "outputId": "433978b4-1b12-4b6b-e2b1-e09edb26ba06",
        "colab": {
          "base_uri": "https://localhost:8080/"
        }
      },
      "source": [
        "for i in df1.columns:\n",
        "    print(100*df1.isna()[i].value_counts()/df1.isna()[i].count())\n",
        "#x=[X,Y,ADDRTYPE,INCDTTM,JUNCTIONTYPE,INATTENTIONIND,UNDERINFL,WEATHER,LIGHTCOND,PEDROWNOTGRNT,SPEEDING,SEGLANEKEY,CROSSWALKKEY,HITPARKEDCAR]    \n",
        "#Y=[SEVERITYCODE,COLLISIONTYPE,PERSONCOUNT,PEDCOUNT,PEDCYLCOUNT,VEHCOUNT,SDOT_COLCODE]"
      ],
      "execution_count": 85,
      "outputs": [
        {
          "output_type": "stream",
          "text": [
            "False    100.0\n",
            "Name: SEVERITYCODE, dtype: float64\n",
            "False    97.260021\n",
            "True      2.739979\n",
            "Name: X, dtype: float64\n",
            "False    97.260021\n",
            "True      2.739979\n",
            "Name: Y, dtype: float64\n",
            "False    99.010649\n",
            "True      0.989351\n",
            "Name: ADDRTYPE, dtype: float64\n",
            "False    97.480904\n",
            "True      2.519096\n",
            "Name: COLLISIONTYPE, dtype: float64\n",
            "False    100.0\n",
            "Name: PERSONCOUNT, dtype: float64\n",
            "False    100.0\n",
            "Name: PEDCOUNT, dtype: float64\n",
            "False    100.0\n",
            "Name: PEDCYLCOUNT, dtype: float64\n",
            "False    100.0\n",
            "Name: VEHCOUNT, dtype: float64\n",
            "False    100.0\n",
            "Name: INCDTTM, dtype: float64\n",
            "False    96.748907\n",
            "True      3.251093\n",
            "Name: JUNCTIONTYPE, dtype: float64\n",
            "False    100.0\n",
            "Name: SDOT_COLCODE, dtype: float64\n",
            "True     84.68971\n",
            "False    15.31029\n",
            "Name: INATTENTIONIND, dtype: float64\n",
            "False    97.491178\n",
            "True      2.508822\n",
            "Name: UNDERINFL, dtype: float64\n",
            "False    97.389982\n",
            "True      2.610018\n",
            "Name: WEATHER, dtype: float64\n",
            "False    97.425426\n",
            "True      2.574574\n",
            "Name: ROADCOND, dtype: float64\n",
            "False    97.344264\n",
            "True      2.655736\n",
            "Name: LIGHTCOND, dtype: float64\n",
            "True     97.602646\n",
            "False     2.397354\n",
            "Name: PEDROWNOTGRNT, dtype: float64\n",
            "True     95.205807\n",
            "False     4.794193\n",
            "Name: SPEEDING, dtype: float64\n",
            "False    99.990754\n",
            "True      0.009246\n",
            "Name: ST_COLCODE, dtype: float64\n",
            "False    100.0\n",
            "Name: SEGLANEKEY, dtype: float64\n",
            "False    100.0\n",
            "Name: CROSSWALKKEY, dtype: float64\n",
            "False    100.0\n",
            "Name: HITPARKEDCAR, dtype: float64\n"
          ],
          "name": "stdout"
        }
      ]
    },
    {
      "cell_type": "markdown",
      "metadata": {
        "id": "Nx3EPnvQBUbl"
      },
      "source": [
        "# consider Nan values as No in INATTENTIONIND,UNDERINFL,SPEEDING,PEDROWNOTGRNT"
      ]
    },
    {
      "cell_type": "code",
      "metadata": {
        "id": "MBBF866zBUbn"
      },
      "source": [
        "\n",
        "df1['INATTENTIONIND'].replace(np.NAN,'N',inplace=True)\n",
        "df1['UNDERINFL'].replace('0','N',inplace=True)\n",
        "df1['UNDERINFL'].replace('1','Y',inplace=True)\n",
        "df1['SPEEDING'].replace(np.NAN,'N',inplace=True)\n",
        "df1['PEDROWNOTGRNT'].replace(np.NAN,'N',inplace=True)"
      ],
      "execution_count": 86,
      "outputs": []
    },
    {
      "cell_type": "markdown",
      "metadata": {
        "id": "io8yDEkeBUbx"
      },
      "source": [
        "# deal with other and unknown values as NaN "
      ]
    },
    {
      "cell_type": "code",
      "metadata": {
        "id": "v6NTPw6OBUbz"
      },
      "source": [
        "\n",
        "df1['COLLISIONTYPE'].replace('Other',np.NAN,inplace=True)\n",
        "df1['JUNCTIONTYPE'].replace('Unknown',np.NAN,inplace=True)\n",
        "df1['WEATHER'].replace('Other',np.NAN,inplace=True)\n",
        "df1['WEATHER'].replace('Unknown',np.NAN,inplace=True)\n",
        "df1['ROADCOND'].replace('Other',np.NAN,inplace=True)\n",
        "df1['ROADCOND'].replace('Unknown',np.NAN,inplace=True)\n",
        "df1['LIGHTCOND'].replace('Other',np.NAN,inplace=True)\n",
        "df1['LIGHTCOND'].replace('Unknown',np.NAN,inplace=True)\n"
      ],
      "execution_count": 87,
      "outputs": []
    },
    {
      "cell_type": "markdown",
      "metadata": {
        "id": "Qb90eRtaBUb7"
      },
      "source": [
        "# drop NaN values for SEVERITYCODE"
      ]
    },
    {
      "cell_type": "code",
      "metadata": {
        "id": "aCN4nr_TBUb9"
      },
      "source": [
        "\n",
        "df1.dropna(subset=['SEVERITYCODE'],how='any',inplace=True)"
      ],
      "execution_count": 88,
      "outputs": []
    },
    {
      "cell_type": "markdown",
      "metadata": {
        "id": "FqWfNIuQBUcE"
      },
      "source": [
        "# separate to tow main classes 1 and 2"
      ]
    },
    {
      "cell_type": "code",
      "metadata": {
        "id": "qntIIquVBUcG"
      },
      "source": [
        "\n",
        "df_1=df1[df1['SEVERITYCODE']==1]\n",
        "df_2=df1[df1['SEVERITYCODE']==2]"
      ],
      "execution_count": 89,
      "outputs": []
    },
    {
      "cell_type": "code",
      "metadata": {
        "id": "D4RYXYrPBUcO"
      },
      "source": [
        "# compute mean values for each numeric feature for each class after removing NaN"
      ],
      "execution_count": 90,
      "outputs": []
    },
    {
      "cell_type": "code",
      "metadata": {
        "id": "SyhVpcH2BUcV"
      },
      "source": [
        "\n",
        "mean1=df_1[ df_1.notna()]._get_numeric_data().mean()\n",
        "\n",
        "mean2=df_2[ df_2.notna()]._get_numeric_data().mean()\n"
      ],
      "execution_count": 91,
      "outputs": []
    },
    {
      "cell_type": "code",
      "metadata": {
        "id": "Gv4jU2BJBUcc"
      },
      "source": [
        "# make dictionaries for mean values"
      ],
      "execution_count": 92,
      "outputs": []
    },
    {
      "cell_type": "code",
      "metadata": {
        "id": "fBMcFeozBUck"
      },
      "source": [
        "\n",
        "mean1={'X':mean1[1],'Y':mean1[2],'PERSONCOUNT':mean1[3],'PEDCOUNT':mean1[4],'PEDCYLCOUNT':mean1[5],'VEHCOUNT':mean1[6],'SDOT_COLCODE':mean1[7],'SEGLANEKEY':mean1[8],'CROSSWALKKEY':mean1[9]}\n",
        "\n",
        "mean2={'X':mean2[1],'Y':mean2[2],'PERSONCOUNT':mean2[3],'PEDCOUNT':mean2[4],'PEDCYLCOUNT':mean2[5],'VEHCOUNT':mean2[6],'SDOT_COLCODE':mean2[7],'SEGLANEKEY':mean2[8],'CROSSWALKKEY':mean2[9]}\n"
      ],
      "execution_count": 93,
      "outputs": []
    },
    {
      "cell_type": "code",
      "metadata": {
        "id": "1HCrw8uqBUcs"
      },
      "source": [
        "#fill NaN in numeric features with suitable values"
      ],
      "execution_count": 94,
      "outputs": []
    },
    {
      "cell_type": "code",
      "metadata": {
        "id": "9XOYRW9-BUc9",
        "outputId": "854616f6-4d39-4675-fe5f-706f5b79c57a",
        "colab": {
          "base_uri": "https://localhost:8080/"
        }
      },
      "source": [
        "\n",
        "df_1.fillna(value=mean1,axis=0,inplace=True)\n",
        "df_2.fillna(value=mean2,axis=0,inplace=True)"
      ],
      "execution_count": 95,
      "outputs": [
        {
          "output_type": "stream",
          "text": [
            "/usr/local/lib/python3.6/dist-packages/pandas/core/series.py:4523: SettingWithCopyWarning: \n",
            "A value is trying to be set on a copy of a slice from a DataFrame\n",
            "\n",
            "See the caveats in the documentation: https://pandas.pydata.org/pandas-docs/stable/user_guide/indexing.html#returning-a-view-versus-a-copy\n",
            "  downcast=downcast,\n"
          ],
          "name": "stderr"
        }
      ]
    },
    {
      "cell_type": "markdown",
      "metadata": {
        "id": "D187goAEBUdL"
      },
      "source": [
        "# fill object features NaN values with Mode values for class 1 "
      ]
    },
    {
      "cell_type": "code",
      "metadata": {
        "id": "y0Pe54kABUdO",
        "outputId": "f0df71c6-292c-486d-fe45-db41ae4b3194",
        "colab": {
          "base_uri": "https://localhost:8080/"
        }
      },
      "source": [
        "\n",
        "for i in df_1[ df_1.notna()].columns:\n",
        "    if df_1[ df_1.notna()].loc[:,i].dtype=='object':\n",
        "        df_1.loc[:,i].fillna(value=df_1[ df_1.notna()].loc[:,i].value_counts().idxmax(),axis=0,inplace=True)\n",
        "        print(i,':',df_1[ df_1.notna()].loc[:,i].value_counts().idxmax())\n"
      ],
      "execution_count": 96,
      "outputs": [
        {
          "output_type": "stream",
          "text": [
            "/usr/local/lib/python3.6/dist-packages/pandas/core/series.py:4523: SettingWithCopyWarning: \n",
            "A value is trying to be set on a copy of a slice from a DataFrame\n",
            "\n",
            "See the caveats in the documentation: https://pandas.pydata.org/pandas-docs/stable/user_guide/indexing.html#returning-a-view-versus-a-copy\n",
            "  downcast=downcast,\n"
          ],
          "name": "stderr"
        },
        {
          "output_type": "stream",
          "text": [
            "ADDRTYPE : Block\n",
            "COLLISIONTYPE : Parked Car\n",
            "INCDTTM : 10/3/2008\n",
            "JUNCTIONTYPE : Mid-Block (not related to intersection)\n",
            "INATTENTIONIND : N\n",
            "UNDERINFL : N\n",
            "WEATHER : Clear\n",
            "ROADCOND : Dry\n",
            "LIGHTCOND : Daylight\n",
            "PEDROWNOTGRNT : N\n",
            "SPEEDING : N\n",
            "ST_COLCODE : 32\n",
            "HITPARKEDCAR : N\n"
          ],
          "name": "stdout"
        }
      ]
    },
    {
      "cell_type": "markdown",
      "metadata": {
        "id": "aZLXCeT7BUdh"
      },
      "source": [
        "# fill object features NaN values with Mode values for class 2"
      ]
    },
    {
      "cell_type": "code",
      "metadata": {
        "scrolled": true,
        "id": "fIVdqvG_BUdj",
        "outputId": "d9b07ba5-a743-45ed-fd22-6f4eda2f41ec",
        "colab": {
          "base_uri": "https://localhost:8080/"
        }
      },
      "source": [
        "\n",
        "for i in df_2[ df_2.notna()].columns:\n",
        "    if df_2[ df_2.notna()].loc[:,i].dtype=='object':\n",
        "        df_2.loc[:,i].fillna(value=df_2[ df_2.notna()].loc[:,i].value_counts().idxmax(),axis=0,inplace=True)\n",
        "        print(i,':',df_2[ df_2.notna()].loc[:,i].value_counts().idxmax())\n"
      ],
      "execution_count": 97,
      "outputs": [
        {
          "output_type": "stream",
          "text": [
            "/usr/local/lib/python3.6/dist-packages/pandas/core/series.py:4523: SettingWithCopyWarning: \n",
            "A value is trying to be set on a copy of a slice from a DataFrame\n",
            "\n",
            "See the caveats in the documentation: https://pandas.pydata.org/pandas-docs/stable/user_guide/indexing.html#returning-a-view-versus-a-copy\n",
            "  downcast=downcast,\n"
          ],
          "name": "stderr"
        },
        {
          "output_type": "stream",
          "text": [
            "ADDRTYPE : Block\n",
            "COLLISIONTYPE : Rear Ended\n",
            "INCDTTM : 11/2/2006\n",
            "JUNCTIONTYPE : At Intersection (intersection related)\n",
            "INATTENTIONIND : N\n",
            "UNDERINFL : N\n",
            "WEATHER : Clear\n",
            "ROADCOND : Dry\n",
            "LIGHTCOND : Daylight\n",
            "PEDROWNOTGRNT : N\n",
            "SPEEDING : N\n",
            "ST_COLCODE : 10\n",
            "HITPARKEDCAR : N\n"
          ],
          "name": "stdout"
        }
      ]
    },
    {
      "cell_type": "code",
      "metadata": {
        "id": "D4VYMV0zBUd0"
      },
      "source": [
        "# dataframe after cleaning"
      ],
      "execution_count": 98,
      "outputs": []
    },
    {
      "cell_type": "code",
      "metadata": {
        "id": "QFqm02e8BUeD",
        "outputId": "89ee232f-74f1-4388-d806-533fbb9ea36c",
        "colab": {
          "base_uri": "https://localhost:8080/",
          "height": 0
        }
      },
      "source": [
        "\n",
        "df1=pd.concat([df_1,df_2])\n",
        "df1.head()"
      ],
      "execution_count": 99,
      "outputs": [
        {
          "output_type": "execute_result",
          "data": {
            "text/html": [
              "<div>\n",
              "<style scoped>\n",
              "    .dataframe tbody tr th:only-of-type {\n",
              "        vertical-align: middle;\n",
              "    }\n",
              "\n",
              "    .dataframe tbody tr th {\n",
              "        vertical-align: top;\n",
              "    }\n",
              "\n",
              "    .dataframe thead th {\n",
              "        text-align: right;\n",
              "    }\n",
              "</style>\n",
              "<table border=\"1\" class=\"dataframe\">\n",
              "  <thead>\n",
              "    <tr style=\"text-align: right;\">\n",
              "      <th></th>\n",
              "      <th>SEVERITYCODE</th>\n",
              "      <th>X</th>\n",
              "      <th>Y</th>\n",
              "      <th>ADDRTYPE</th>\n",
              "      <th>COLLISIONTYPE</th>\n",
              "      <th>PERSONCOUNT</th>\n",
              "      <th>PEDCOUNT</th>\n",
              "      <th>PEDCYLCOUNT</th>\n",
              "      <th>VEHCOUNT</th>\n",
              "      <th>INCDTTM</th>\n",
              "      <th>JUNCTIONTYPE</th>\n",
              "      <th>SDOT_COLCODE</th>\n",
              "      <th>INATTENTIONIND</th>\n",
              "      <th>UNDERINFL</th>\n",
              "      <th>WEATHER</th>\n",
              "      <th>ROADCOND</th>\n",
              "      <th>LIGHTCOND</th>\n",
              "      <th>PEDROWNOTGRNT</th>\n",
              "      <th>SPEEDING</th>\n",
              "      <th>ST_COLCODE</th>\n",
              "      <th>SEGLANEKEY</th>\n",
              "      <th>CROSSWALKKEY</th>\n",
              "      <th>HITPARKEDCAR</th>\n",
              "    </tr>\n",
              "  </thead>\n",
              "  <tbody>\n",
              "    <tr>\n",
              "      <th>1</th>\n",
              "      <td>1</td>\n",
              "      <td>-122.347294</td>\n",
              "      <td>47.647172</td>\n",
              "      <td>Block</td>\n",
              "      <td>Sideswipe</td>\n",
              "      <td>2</td>\n",
              "      <td>0</td>\n",
              "      <td>0</td>\n",
              "      <td>2</td>\n",
              "      <td>12/20/2006 6:55:00 PM</td>\n",
              "      <td>Mid-Block (not related to intersection)</td>\n",
              "      <td>16</td>\n",
              "      <td>N</td>\n",
              "      <td>N</td>\n",
              "      <td>Raining</td>\n",
              "      <td>Wet</td>\n",
              "      <td>Dark - Street Lights On</td>\n",
              "      <td>N</td>\n",
              "      <td>N</td>\n",
              "      <td>11</td>\n",
              "      <td>0</td>\n",
              "      <td>0</td>\n",
              "      <td>N</td>\n",
              "    </tr>\n",
              "    <tr>\n",
              "      <th>2</th>\n",
              "      <td>1</td>\n",
              "      <td>-122.334540</td>\n",
              "      <td>47.607871</td>\n",
              "      <td>Block</td>\n",
              "      <td>Parked Car</td>\n",
              "      <td>4</td>\n",
              "      <td>0</td>\n",
              "      <td>0</td>\n",
              "      <td>3</td>\n",
              "      <td>11/18/2004 10:20:00 AM</td>\n",
              "      <td>Mid-Block (not related to intersection)</td>\n",
              "      <td>14</td>\n",
              "      <td>N</td>\n",
              "      <td>N</td>\n",
              "      <td>Overcast</td>\n",
              "      <td>Dry</td>\n",
              "      <td>Daylight</td>\n",
              "      <td>N</td>\n",
              "      <td>N</td>\n",
              "      <td>32</td>\n",
              "      <td>0</td>\n",
              "      <td>0</td>\n",
              "      <td>N</td>\n",
              "    </tr>\n",
              "    <tr>\n",
              "      <th>3</th>\n",
              "      <td>1</td>\n",
              "      <td>-122.334803</td>\n",
              "      <td>47.604803</td>\n",
              "      <td>Block</td>\n",
              "      <td>Parked Car</td>\n",
              "      <td>3</td>\n",
              "      <td>0</td>\n",
              "      <td>0</td>\n",
              "      <td>3</td>\n",
              "      <td>3/29/2013 9:26:00 AM</td>\n",
              "      <td>Mid-Block (not related to intersection)</td>\n",
              "      <td>11</td>\n",
              "      <td>N</td>\n",
              "      <td>N</td>\n",
              "      <td>Clear</td>\n",
              "      <td>Dry</td>\n",
              "      <td>Daylight</td>\n",
              "      <td>N</td>\n",
              "      <td>N</td>\n",
              "      <td>23</td>\n",
              "      <td>0</td>\n",
              "      <td>0</td>\n",
              "      <td>N</td>\n",
              "    </tr>\n",
              "    <tr>\n",
              "      <th>5</th>\n",
              "      <td>1</td>\n",
              "      <td>-122.387598</td>\n",
              "      <td>47.690575</td>\n",
              "      <td>Intersection</td>\n",
              "      <td>Angles</td>\n",
              "      <td>2</td>\n",
              "      <td>0</td>\n",
              "      <td>0</td>\n",
              "      <td>2</td>\n",
              "      <td>4/20/2019 5:42:00 PM</td>\n",
              "      <td>At Intersection (intersection related)</td>\n",
              "      <td>11</td>\n",
              "      <td>N</td>\n",
              "      <td>N</td>\n",
              "      <td>Clear</td>\n",
              "      <td>Dry</td>\n",
              "      <td>Daylight</td>\n",
              "      <td>N</td>\n",
              "      <td>N</td>\n",
              "      <td>10</td>\n",
              "      <td>0</td>\n",
              "      <td>0</td>\n",
              "      <td>N</td>\n",
              "    </tr>\n",
              "    <tr>\n",
              "      <th>6</th>\n",
              "      <td>1</td>\n",
              "      <td>-122.338485</td>\n",
              "      <td>47.618534</td>\n",
              "      <td>Intersection</td>\n",
              "      <td>Angles</td>\n",
              "      <td>2</td>\n",
              "      <td>0</td>\n",
              "      <td>0</td>\n",
              "      <td>2</td>\n",
              "      <td>12/9/2008</td>\n",
              "      <td>At Intersection (intersection related)</td>\n",
              "      <td>11</td>\n",
              "      <td>N</td>\n",
              "      <td>N</td>\n",
              "      <td>Raining</td>\n",
              "      <td>Wet</td>\n",
              "      <td>Daylight</td>\n",
              "      <td>N</td>\n",
              "      <td>N</td>\n",
              "      <td>10</td>\n",
              "      <td>0</td>\n",
              "      <td>0</td>\n",
              "      <td>N</td>\n",
              "    </tr>\n",
              "  </tbody>\n",
              "</table>\n",
              "</div>"
            ],
            "text/plain": [
              "   SEVERITYCODE           X          Y  ... SEGLANEKEY CROSSWALKKEY  HITPARKEDCAR\n",
              "1             1 -122.347294  47.647172  ...          0            0             N\n",
              "2             1 -122.334540  47.607871  ...          0            0             N\n",
              "3             1 -122.334803  47.604803  ...          0            0             N\n",
              "5             1 -122.387598  47.690575  ...          0            0             N\n",
              "6             1 -122.338485  47.618534  ...          0            0             N\n",
              "\n",
              "[5 rows x 23 columns]"
            ]
          },
          "metadata": {
            "tags": []
          },
          "execution_count": 99
        }
      ]
    },
    {
      "cell_type": "markdown",
      "metadata": {
        "id": "KcjiV6XxBUeW"
      },
      "source": [
        "# study the relationship beatween sevirtity and features"
      ]
    },
    {
      "cell_type": "code",
      "metadata": {
        "id": "MvYDo4C3BUed"
      },
      "source": [
        "import matplotlib.pyplot as plt\n",
        "import seaborn as sns\n",
        "from scipy.stats import chi2_contingency,normaltest"
      ],
      "execution_count": 100,
      "outputs": []
    },
    {
      "cell_type": "code",
      "metadata": {
        "id": "azM_RCexBUex"
      },
      "source": [
        "#function to draw bar chart for categorical features clustered according to severitycode classes (1,2)\n",
        "# y axis show the persent value of each class for each category in categorical features\n",
        "def draw_bar_perc(c):\n",
        "    ((df1.groupby([c,'SEVERITYCODE']).count()['ST_COLCODE']/df1.groupby([c]).count()['ST_COLCODE'])*100).unstack().plot(kind='bar')\n",
        "    \n"
      ],
      "execution_count": 101,
      "outputs": []
    },
    {
      "cell_type": "code",
      "metadata": {
        "id": "zX6-KrImBUe9"
      },
      "source": [
        "def draw_bar_count(c):\n",
        "    ((df1.groupby([c,'SEVERITYCODE']).count()['ST_COLCODE'])).unstack().plot(kind='bar')"
      ],
      "execution_count": 102,
      "outputs": []
    },
    {
      "cell_type": "code",
      "metadata": {
        "id": "yxrj-ODVBUfK",
        "outputId": "3173b21a-f646-45d0-e16b-309f0e853d8e",
        "colab": {
          "base_uri": "https://localhost:8080/",
          "height": 0
        }
      },
      "source": [
        "draw_bar_perc('ADDRTYPE')\n",
        "chi2_contingency(pd.crosstab(df1['ADDRTYPE'],df1['SEVERITYCODE']))[1]"
      ],
      "execution_count": 103,
      "outputs": [
        {
          "output_type": "execute_result",
          "data": {
            "text/plain": [
              "0.0"
            ]
          },
          "metadata": {
            "tags": []
          },
          "execution_count": 103
        },
        {
          "output_type": "display_data",
          "data": {
            "image/png": "[encoded data removed]",
            "text/plain": [
              "<Figure size 432x288 with 1 Axes>"
            ]
          },
          "metadata": {
            "tags": [],
            "needs_background": "light"
          }
        }
      ]
    },
    {
      "cell_type": "code",
      "metadata": {
        "id": "kEJkoM-EBUfY",
        "outputId": "d9005a4f-71d2-467a-8e04-cb4391623f96",
        "colab": {
          "base_uri": "https://localhost:8080/",
          "height": 0
        }
      },
      "source": [
        "draw_bar_perc('COLLISIONTYPE')\n",
        "chi2_contingency(pd.crosstab(df1['COLLISIONTYPE'],df1['SEVERITYCODE']))[1]"
      ],
      "execution_count": 104,
      "outputs": [
        {
          "output_type": "execute_result",
          "data": {
            "text/plain": [
              "0.0"
            ]
          },
          "metadata": {
            "tags": []
          },
          "execution_count": 104
        },
        {
          "output_type": "display_data",
          "data": {
            "image/png": "[encoded data removed]",
            "text/plain": [
              "<Figure size 432x288 with 1 Axes>"
            ]
          },
          "metadata": {
            "tags": [],
            "needs_background": "light"
          }
        }
      ]
    },
    {
      "cell_type": "code",
      "metadata": {
        "id": "aSXqs_LmBUfo",
        "outputId": "bdfd4b87-fb26-492d-b8e9-0c6e3352c542",
        "colab": {
          "base_uri": "https://localhost:8080/",
          "height": 0
        }
      },
      "source": [
        "draw_bar_perc('JUNCTIONTYPE')\n",
        "chi2_contingency(pd.crosstab(df1['JUNCTIONTYPE'],df1['SEVERITYCODE']))[1]"
      ],
      "execution_count": 105,
      "outputs": [
        {
          "output_type": "execute_result",
          "data": {
            "text/plain": [
              "0.0"
            ]
          },
          "metadata": {
            "tags": []
          },
          "execution_count": 105
        },
        {
          "output_type": "display_data",
          "data": {
            "image/png": "[encoded data removed]",
            "text/plain": [
              "<Figure size 432x288 with 1 Axes>"
            ]
          },
          "metadata": {
            "tags": [],
            "needs_background": "light"
          }
        }
      ]
    },
    {
      "cell_type": "code",
      "metadata": {
        "id": "p2Pw_iCiBUf4",
        "outputId": "5d0e6aac-13b8-4971-b07f-0b038c467a87",
        "colab": {
          "base_uri": "https://localhost:8080/",
          "height": 0
        }
      },
      "source": [
        "draw_bar_perc('INATTENTIONIND')\n",
        "chi2_contingency(pd.crosstab(df1['INATTENTIONIND'],df1['SEVERITYCODE']))[1]"
      ],
      "execution_count": 106,
      "outputs": [
        {
          "output_type": "execute_result",
          "data": {
            "text/plain": [
              "5.335191180698436e-93"
            ]
          },
          "metadata": {
            "tags": []
          },
          "execution_count": 106
        },
        {
          "output_type": "display_data",
          "data": {
            "image/png": "[encoded data removed]",
            "text/plain": [
              "<Figure size 432x288 with 1 Axes>"
            ]
          },
          "metadata": {
            "tags": [],
            "needs_background": "light"
          }
        }
      ]
    },
    {
      "cell_type": "code",
      "metadata": {
        "id": "NWbFVTryBUgD",
        "outputId": "bc5ac7d5-952b-4c26-9903-82dbcb5ad0b4",
        "colab": {
          "base_uri": "https://localhost:8080/",
          "height": 0
        }
      },
      "source": [
        "draw_bar_perc('UNDERINFL')\n",
        "chi2_contingency(pd.crosstab(df1['UNDERINFL'],df1['SEVERITYCODE']))[1]"
      ],
      "execution_count": 107,
      "outputs": [
        {
          "output_type": "execute_result",
          "data": {
            "text/plain": [
              "2.8963951861952226e-85"
            ]
          },
          "metadata": {
            "tags": []
          },
          "execution_count": 107
        },
        {
          "output_type": "display_data",
          "data": {
            "image/png": "[encoded data removed]",
            "text/plain": [
              "<Figure size 432x288 with 1 Axes>"
            ]
          },
          "metadata": {
            "tags": [],
            "needs_background": "light"
          }
        }
      ]
    },
    {
      "cell_type": "code",
      "metadata": {
        "id": "kQVFRl5nBUgM",
        "outputId": "617f6ffc-5c66-48b2-a90c-4e34da5f9bdd",
        "colab": {
          "base_uri": "https://localhost:8080/",
          "height": 0
        }
      },
      "source": [
        "draw_bar_perc('WEATHER')\n",
        "chi2_contingency(pd.crosstab(df1['WEATHER'],df1['SEVERITYCODE']))[1]"
      ],
      "execution_count": 108,
      "outputs": [
        {
          "output_type": "execute_result",
          "data": {
            "text/plain": [
              "1.0022761144840179e-86"
            ]
          },
          "metadata": {
            "tags": []
          },
          "execution_count": 108
        },
        {
          "output_type": "display_data",
          "data": {
            "image/png": "[encoded data removed]",
            "text/plain": [
              "<Figure size 432x288 with 1 Axes>"
            ]
          },
          "metadata": {
            "tags": [],
            "needs_background": "light"
          }
        }
      ]
    },
    {
      "cell_type": "code",
      "metadata": {
        "id": "WdEKjPeZBUgW",
        "outputId": "28a78756-018e-43b1-ab69-961a3a7fec99",
        "colab": {
          "base_uri": "https://localhost:8080/",
          "height": 0
        }
      },
      "source": [
        "draw_bar_perc('ROADCOND')\n",
        "chi2_contingency(pd.crosstab(df1['ROADCOND'],df1['SEVERITYCODE']))[1]"
      ],
      "execution_count": 109,
      "outputs": [
        {
          "output_type": "execute_result",
          "data": {
            "text/plain": [
              "2.6123792997913166e-88"
            ]
          },
          "metadata": {
            "tags": []
          },
          "execution_count": 109
        },
        {
          "output_type": "display_data",
          "data": {
            "image/png": "[encoded data removed]",
            "text/plain": [
              "<Figure size 432x288 with 1 Axes>"
            ]
          },
          "metadata": {
            "tags": [],
            "needs_background": "light"
          }
        }
      ]
    },
    {
      "cell_type": "code",
      "metadata": {
        "id": "EdKWl9RgBUgf",
        "outputId": "73c53914-a2be-4ac4-e3bd-900c97a4b680",
        "colab": {
          "base_uri": "https://localhost:8080/",
          "height": 0
        }
      },
      "source": [
        "draw_bar_perc('LIGHTCOND')\n",
        "chi2_contingency(pd.crosstab(df1['LIGHTCOND'],df1['SEVERITYCODE']))[1]"
      ],
      "execution_count": 110,
      "outputs": [
        {
          "output_type": "execute_result",
          "data": {
            "text/plain": [
              "5.336920968434019e-18"
            ]
          },
          "metadata": {
            "tags": []
          },
          "execution_count": 110
        },
        {
          "output_type": "display_data",
          "data": {
            "image/png": "[encoded data removed]",
            "text/plain": [
              "<Figure size 432x288 with 1 Axes>"
            ]
          },
          "metadata": {
            "tags": [],
            "needs_background": "light"
          }
        }
      ]
    },
    {
      "cell_type": "code",
      "metadata": {
        "id": "kDhKkgHaBUgo",
        "outputId": "c0cfbf37-424b-4bbc-a8a3-473bf67cdc48",
        "colab": {
          "base_uri": "https://localhost:8080/",
          "height": 0
        }
      },
      "source": [
        "draw_bar_perc('WEATHER')\n",
        "chi2_contingency(pd.crosstab(df1['WEATHER'],df1['SEVERITYCODE']))[1]"
      ],
      "execution_count": 111,
      "outputs": [
        {
          "output_type": "execute_result",
          "data": {
            "text/plain": [
              "1.0022761144840179e-86"
            ]
          },
          "metadata": {
            "tags": []
          },
          "execution_count": 111
        },
        {
          "output_type": "display_data",
          "data": {
            "image/png": "[encoded data removed]",
            "text/plain": [
              "<Figure size 432x288 with 1 Axes>"
            ]
          },
          "metadata": {
            "tags": [],
            "needs_background": "light"
          }
        }
      ]
    },
    {
      "cell_type": "code",
      "metadata": {
        "id": "ito4oycEBUgw",
        "outputId": "299027e8-b93c-47d6-8793-15c43fc50e40",
        "colab": {
          "base_uri": "https://localhost:8080/",
          "height": 0
        }
      },
      "source": [
        "draw_bar_perc('SPEEDING')\n",
        "chi2_contingency(pd.crosstab(df1['SPEEDING'],df1['SEVERITYCODE']))[1]"
      ],
      "execution_count": 112,
      "outputs": [
        {
          "output_type": "execute_result",
          "data": {
            "text/plain": [
              "4.5554876319924223e-66"
            ]
          },
          "metadata": {
            "tags": []
          },
          "execution_count": 112
        },
        {
          "output_type": "display_data",
          "data": {
            "image/png": "[encoded data removed]",
            "text/plain": [
              "<Figure size 432x288 with 1 Axes>"
            ]
          },
          "metadata": {
            "tags": [],
            "needs_background": "light"
          }
        }
      ]
    },
    {
      "cell_type": "code",
      "metadata": {
        "id": "-W0wdfAuBUg4",
        "outputId": "82b344d8-0045-4afc-8ee1-6f49a6993ba6",
        "colab": {
          "base_uri": "https://localhost:8080/",
          "height": 0
        }
      },
      "source": [
        "draw_bar_perc('HITPARKEDCAR')\n",
        "chi2_contingency(pd.crosstab(df1['HITPARKEDCAR'],df1['SEVERITYCODE']))[1]"
      ],
      "execution_count": 113,
      "outputs": [
        {
          "output_type": "execute_result",
          "data": {
            "text/plain": [
              "0.0"
            ]
          },
          "metadata": {
            "tags": []
          },
          "execution_count": 113
        },
        {
          "output_type": "display_data",
          "data": {
            "image/png": "[encoded data removed]",
            "text/plain": [
              "<Figure size 432x288 with 1 Axes>"
            ]
          },
          "metadata": {
            "tags": [],
            "needs_background": "light"
          }
        }
      ]
    },
    {
      "cell_type": "code",
      "metadata": {
        "id": "0RYE9d8YBUhA",
        "outputId": "e4be3c2d-ddef-4699-aca6-9f0640e99070",
        "colab": {
          "base_uri": "https://localhost:8080/",
          "height": 0
        }
      },
      "source": [
        "draw_bar_perc('PEDROWNOTGRNT')\n",
        "chi2_contingency(pd.crosstab(df1['PEDROWNOTGRNT'],df1['SEVERITYCODE']))[1]"
      ],
      "execution_count": 114,
      "outputs": [
        {
          "output_type": "execute_result",
          "data": {
            "text/plain": [
              "0.0"
            ]
          },
          "metadata": {
            "tags": []
          },
          "execution_count": 114
        },
        {
          "output_type": "display_data",
          "data": {
            "image/png": "[encoded data removed]",
            "text/plain": [
              "<Figure size 432x288 with 1 Axes>"
            ]
          },
          "metadata": {
            "tags": [],
            "needs_background": "light"
          }
        }
      ]
    },
    {
      "cell_type": "markdown",
      "metadata": {
        "id": "Kmba4GHqBUhP"
      },
      "source": [
        "# Date & Time"
      ]
    },
    {
      "cell_type": "code",
      "metadata": {
        "id": "IybC7c5PBUhS"
      },
      "source": [
        "df1['INCDTTM']=pd.to_datetime(df1['INCDTTM'])"
      ],
      "execution_count": 115,
      "outputs": []
    },
    {
      "cell_type": "code",
      "metadata": {
        "id": "tIcEJ6E6BUhf",
        "outputId": "84155bcf-ee93-4329-c37e-5c574d9b6312",
        "colab": {
          "base_uri": "https://localhost:8080/",
          "height": 0
        }
      },
      "source": [
        "draw_bar_perc(df1['INCDTTM'].dt.day)\n",
        "chi2_contingency(pd.crosstab(df1['INCDTTM'].dt.day,df1['SEVERITYCODE']))[1]"
      ],
      "execution_count": 116,
      "outputs": [
        {
          "output_type": "execute_result",
          "data": {
            "text/plain": [
              "0.29460148535864267"
            ]
          },
          "metadata": {
            "tags": []
          },
          "execution_count": 116
        },
        {
          "output_type": "display_data",
          "data": {
            "image/png": "[encoded data removed]",
            "text/plain": [
              "<Figure size 432x288 with 1 Axes>"
            ]
          },
          "metadata": {
            "tags": [],
            "needs_background": "light"
          }
        }
      ]
    },
    {
      "cell_type": "code",
      "metadata": {
        "id": "jmRwyu3cBUhm",
        "outputId": "75902bf4-addf-4f11-986f-9316ba013e93",
        "colab": {
          "base_uri": "https://localhost:8080/",
          "height": 0
        }
      },
      "source": [
        "draw_bar_perc(df1['INCDTTM'].dt.month)\n",
        "chi2_contingency(pd.crosstab(df1['INCDTTM'].dt.month,df1['SEVERITYCODE']))[1]"
      ],
      "execution_count": 117,
      "outputs": [
        {
          "output_type": "execute_result",
          "data": {
            "text/plain": [
              "3.590857347063849e-18"
            ]
          },
          "metadata": {
            "tags": []
          },
          "execution_count": 117
        },
        {
          "output_type": "display_data",
          "data": {
            "image/png": "[encoded data removed]",
            "text/plain": [
              "<Figure size 432x288 with 1 Axes>"
            ]
          },
          "metadata": {
            "tags": [],
            "needs_background": "light"
          }
        }
      ]
    },
    {
      "cell_type": "code",
      "metadata": {
        "id": "SPN1fFe8BUhv",
        "outputId": "64746813-ef00-4607-938f-6afcfb4ac0b8",
        "colab": {
          "base_uri": "https://localhost:8080/",
          "height": 0
        }
      },
      "source": [
        "draw_bar_perc(df1['INCDTTM'].dt.year)\n",
        "chi2_contingency(pd.crosstab(df1['INCDTTM'].dt.year,df1['SEVERITYCODE']))[1]"
      ],
      "execution_count": 118,
      "outputs": [
        {
          "output_type": "execute_result",
          "data": {
            "text/plain": [
              "2.1322482284151897e-39"
            ]
          },
          "metadata": {
            "tags": []
          },
          "execution_count": 118
        },
        {
          "output_type": "display_data",
          "data": {
            "image/png": "[encoded data removed]",
            "text/plain": [
              "<Figure size 432x288 with 1 Axes>"
            ]
          },
          "metadata": {
            "tags": [],
            "needs_background": "light"
          }
        }
      ]
    },
    {
      "cell_type": "code",
      "metadata": {
        "id": "roGlHjL3BUh2",
        "outputId": "9cc6bf26-424a-4d3a-f059-905587a12d86",
        "colab": {
          "base_uri": "https://localhost:8080/",
          "height": 0
        }
      },
      "source": [
        "draw_bar_perc(df1['INCDTTM'].dt.hour)\n",
        "chi2_contingency(pd.crosstab(df1['INCDTTM'].dt.hour,df1['SEVERITYCODE']))[1]"
      ],
      "execution_count": 119,
      "outputs": [
        {
          "output_type": "execute_result",
          "data": {
            "text/plain": [
              "8.104007576719765e-167"
            ]
          },
          "metadata": {
            "tags": []
          },
          "execution_count": 119
        },
        {
          "output_type": "display_data",
          "data": {
            "image/png": "[encoded data removed]",
            "text/plain": [
              "<Figure size 432x288 with 1 Axes>"
            ]
          },
          "metadata": {
            "tags": [],
            "needs_background": "light"
          }
        }
      ]
    },
    {
      "cell_type": "markdown",
      "metadata": {
        "id": "nV2F9TPPBUiG"
      },
      "source": [
        "# choose only hour and month to use as features"
      ]
    },
    {
      "cell_type": "code",
      "metadata": {
        "id": "Ui-TtC-zBUiJ"
      },
      "source": [
        "df1['Hour']=df1['INCDTTM'].dt.hour\n",
        "df1['Month']=df1['INCDTTM'].dt.month\n",
        "#df1['Year']=df1['INCDTTM'].dt.year\n",
        "\n"
      ],
      "execution_count": 120,
      "outputs": []
    },
    {
      "cell_type": "code",
      "metadata": {
        "id": "DB9uzdyKBUiQ"
      },
      "source": [
        "# convert person count to 3 category"
      ],
      "execution_count": 121,
      "outputs": []
    },
    {
      "cell_type": "code",
      "metadata": {
        "id": "o4_BYrawBUie"
      },
      "source": [
        "#ax=plt.subplot(111)\n",
        "bins = [-1,30,60,np.inf]\n",
        "names = ['<30', '30-60',  '>60']\n",
        "\n",
        "df1['PERSONCOUNT_cat'] = pd.cut(df1['PERSONCOUNT'], bins, labels=names)\n"
      ],
      "execution_count": 122,
      "outputs": []
    },
    {
      "cell_type": "code",
      "metadata": {
        "id": "BYPLcqmjBUik",
        "outputId": "04e342d6-0aeb-4644-c245-f3b1d8a81e61",
        "colab": {
          "base_uri": "https://localhost:8080/",
          "height": 316
        }
      },
      "source": [
        "data=((df1[['PERSONCOUNT_cat','PERSONCOUNT','SEVERITYCODE']].groupby(['PERSONCOUNT_cat','SEVERITYCODE',]).count())/df1[['PERSONCOUNT_cat','PERSONCOUNT']].groupby(['PERSONCOUNT_cat']).count()).unstack()\n",
        "#plt.bar(x='PERSONCOUNT_cat',height='PERSONCOUNT',data=data)\n",
        "data.plot(kind='bar')"
      ],
      "execution_count": 123,
      "outputs": [
        {
          "output_type": "execute_result",
          "data": {
            "text/plain": [
              "<matplotlib.axes._subplots.AxesSubplot at 0x7f391e051470>"
            ]
          },
          "metadata": {
            "tags": []
          },
          "execution_count": 123
        },
        {
          "output_type": "display_data",
          "data": {
            "image/png": "[encoded data removed]",
            "text/plain": [
              "<Figure size 432x288 with 1 Axes>"
            ]
          },
          "metadata": {
            "tags": [],
            "needs_background": "light"
          }
        }
      ]
    },
    {
      "cell_type": "code",
      "metadata": {
        "id": "Wsufd1EOBUiz",
        "outputId": "2ae8d2ef-27f5-4af3-83c1-a0101c02512c",
        "colab": {
          "base_uri": "https://localhost:8080/",
          "height": 276
        }
      },
      "source": [
        "draw_bar_perc(df1['PEDCOUNT'])"
      ],
      "execution_count": 124,
      "outputs": [
        {
          "output_type": "display_data",
          "data": {
            "image/png": "[encoded data removed]",
            "text/plain": [
              "<Figure size 432x288 with 1 Axes>"
            ]
          },
          "metadata": {
            "tags": [],
            "needs_background": "light"
          }
        }
      ]
    },
    {
      "cell_type": "code",
      "metadata": {
        "id": "pIYL3dZ7BUi7",
        "outputId": "37fe693b-e71b-44ac-e415-07e11638e8de",
        "colab": {
          "base_uri": "https://localhost:8080/",
          "height": 276
        }
      },
      "source": [
        "draw_bar_perc(df1['PEDCYLCOUNT'])"
      ],
      "execution_count": 125,
      "outputs": [
        {
          "output_type": "display_data",
          "data": {
            "image/png": "[encoded data removed]",
            "text/plain": [
              "<Figure size 432x288 with 1 Axes>"
            ]
          },
          "metadata": {
            "tags": [],
            "needs_background": "light"
          }
        }
      ]
    },
    {
      "cell_type": "code",
      "metadata": {
        "id": "53oUMvqSBUjD",
        "outputId": "9d0b59b9-7d2b-41e5-cb73-5993e644f8ec",
        "colab": {
          "base_uri": "https://localhost:8080/",
          "height": 810
        }
      },
      "source": [
        "ax=plt.subplot(111)\n",
        "bins = [-1,3,6,10,np.inf]\n",
        "names = ['<3', '3-6','6-10',  '>10']\n",
        "\n",
        "df1['VEHCOUNT_cat'] = pd.cut(df1['VEHCOUNT'], bins, labels=names)\n",
        "\n",
        "data=((df1[['VEHCOUNT_cat','VEHCOUNT','SEVERITYCODE']].groupby(['VEHCOUNT_cat','SEVERITYCODE',]).count())/df1[['VEHCOUNT_cat','VEHCOUNT']].groupby(['VEHCOUNT_cat']).count()).unstack()\n",
        "data.plot(kind='bar')\n",
        "\n",
        "draw_bar_perc(df1['VEHCOUNT'])"
      ],
      "execution_count": 126,
      "outputs": [
        {
          "output_type": "display_data",
          "data": {
            "image/png": "[encoded data removed]",
            "text/plain": [
              "<Figure size 432x288 with 1 Axes>"
            ]
          },
          "metadata": {
            "tags": [],
            "needs_background": "light"
          }
        },
        {
          "output_type": "display_data",
          "data": {
            "image/png": "[encoded data removed]",
            "text/plain": [
              "<Figure size 432x288 with 1 Axes>"
            ]
          },
          "metadata": {
            "tags": [],
            "needs_background": "light"
          }
        },
        {
          "output_type": "display_data",
          "data": {
            "image/png": "[encoded data removed]",
            "text/plain": [
              "<Figure size 432x288 with 1 Axes>"
            ]
          },
          "metadata": {
            "tags": [],
            "needs_background": "light"
          }
        }
      ]
    },
    {
      "cell_type": "code",
      "metadata": {
        "id": "WqRE5tdbBUjJ",
        "outputId": "0b25d104-ecbd-4f98-d4c1-d0b02c3a4858",
        "colab": {
          "base_uri": "https://localhost:8080/",
          "height": 296
        }
      },
      "source": [
        "df1['Y'][df1['SEVERITYCODE']==1].hist(bins=30)\n",
        "df1['Y'][df1['SEVERITYCODE']==2].hist(bins=30)\n",
        "plt.legend(['SEVERITY 1','SEVERITY 2'])\n",
        "plt.xlabel(\"Y\")"
      ],
      "execution_count": 127,
      "outputs": [
        {
          "output_type": "execute_result",
          "data": {
            "text/plain": [
              "Text(0.5, 0, 'Y')"
            ]
          },
          "metadata": {
            "tags": []
          },
          "execution_count": 127
        },
        {
          "output_type": "display_data",
          "data": {
            "image/png": "[encoded data removed]",
            "text/plain": [
              "<Figure size 432x288 with 1 Axes>"
            ]
          },
          "metadata": {
            "tags": [],
            "needs_background": "light"
          }
        }
      ]
    },
    {
      "cell_type": "code",
      "metadata": {
        "id": "G481sJ-IBUjR",
        "outputId": "64e6e2a2-22c9-435c-80d2-0bbf99844294",
        "colab": {
          "base_uri": "https://localhost:8080/",
          "height": 296
        }
      },
      "source": [
        "df1['X'][df1['SEVERITYCODE']==1].hist(bins=30)\n",
        "df1['X'][df1['SEVERITYCODE']==2].hist(bins=30)\n",
        "plt.legend(['SEVERITY 1','SEVERITY 2'])\n",
        "plt.xlabel('X')"
      ],
      "execution_count": 128,
      "outputs": [
        {
          "output_type": "execute_result",
          "data": {
            "text/plain": [
              "Text(0.5, 0, 'X')"
            ]
          },
          "metadata": {
            "tags": []
          },
          "execution_count": 128
        },
        {
          "output_type": "display_data",
          "data": {
            "image/png": "[encoded data removed]",
            "text/plain": [
              "<Figure size 432x288 with 1 Axes>"
            ]
          },
          "metadata": {
            "tags": [],
            "needs_background": "light"
          }
        }
      ]
    },
    {
      "cell_type": "code",
      "metadata": {
        "id": "H143t82kBUjb",
        "outputId": "98fbcdda-aef1-4c75-ffe5-a3778e7386ed",
        "colab": {
          "base_uri": "https://localhost:8080/"
        }
      },
      "source": [
        "# analysis numeric features\n",
        "df1._get_numeric_data().columns\n",
        "#chi2_contingency(pd.crosstab(df1['ADDRTYPE'],df1['SEVERITYCODE']))[1]"
      ],
      "execution_count": 129,
      "outputs": [
        {
          "output_type": "execute_result",
          "data": {
            "text/plain": [
              "Index(['SEVERITYCODE', 'X', 'Y', 'PERSONCOUNT', 'PEDCOUNT', 'PEDCYLCOUNT',\n",
              "       'VEHCOUNT', 'SDOT_COLCODE', 'SEGLANEKEY', 'CROSSWALKKEY', 'Hour',\n",
              "       'Month'],\n",
              "      dtype='object')"
            ]
          },
          "metadata": {
            "tags": []
          },
          "execution_count": 129
        }
      ]
    },
    {
      "cell_type": "code",
      "metadata": {
        "id": "G1RsSueiBUjh",
        "outputId": "e109c537-1299-477f-8214-cadcd31d765a",
        "colab": {
          "base_uri": "https://localhost:8080/",
          "height": 409
        }
      },
      "source": [
        "sns.heatmap(df1.corr())\n",
        "print(normaltest(df1._get_numeric_data(),axis=1)[1])"
      ],
      "execution_count": 130,
      "outputs": [
        {
          "output_type": "stream",
          "text": [
            "/usr/local/lib/python3.6/dist-packages/scipy/stats/stats.py:1535: UserWarning: kurtosistest only valid for n>=20 ... continuing anyway, n=12\n",
            "  \"anyway, n=%i\" % int(n))\n"
          ],
          "name": "stderr"
        },
        {
          "output_type": "stream",
          "text": [
            "[4.58574001e-06 3.66005171e-06 3.89767747e-06 ... 3.63155211e-06\n",
            " 4.14150288e-06 5.15975230e-08]\n"
          ],
          "name": "stdout"
        },
        {
          "output_type": "display_data",
          "data": {
            "image/png": "[encoded data removed]",
            "text/plain": [
              "<Figure size 432x288 with 2 Axes>"
            ]
          },
          "metadata": {
            "tags": [],
            "needs_background": "light"
          }
        }
      ]
    },
    {
      "cell_type": "markdown",
      "metadata": {
        "id": "0Jrf7PMEBUj0"
      },
      "source": [
        "# apply standard scaler to numeric feature"
      ]
    },
    {
      "cell_type": "code",
      "metadata": {
        "id": "Xr_yUu_8BUj1"
      },
      "source": [
        "from sklearn.preprocessing import StandardScaler\n",
        "scaler=StandardScaler()\n",
        "df2=scaler.fit_transform(df1._get_numeric_data())\n",
        "df2=pd.DataFrame(df2,columns=df1._get_numeric_data().columns)\n",
        "df2['SEVERITYCODE']=df2['SEVERITYCODE'].apply(lambda x:1 if ( x<0) else 2 )\n"
      ],
      "execution_count": 131,
      "outputs": []
    },
    {
      "cell_type": "code",
      "metadata": {
        "id": "odTo7mxCBUj7"
      },
      "source": [
        "# applt t test (large sample) and draw box"
      ],
      "execution_count": 132,
      "outputs": []
    },
    {
      "cell_type": "code",
      "metadata": {
        "scrolled": true,
        "id": "IbpPezgrBUkG",
        "outputId": "0a4c0a02-b881-452e-9eec-1935137eca6b",
        "colab": {
          "base_uri": "https://localhost:8080/",
          "height": 0
        }
      },
      "source": [
        "from scipy.stats import kruskal,mannwhitneyu,ttest_ind\n",
        "for i in df2.columns[1:]:\n",
        "    fig=plt.figure(figsize=(10,10))\n",
        "    ax=plt.subplot(111)\n",
        "    print(i,ttest_ind\n",
        "         (df2[i][df2['SEVERITYCODE']==1],df2[i][df2['SEVERITYCODE']==2]))\n",
        "    print(df2[i][df2['SEVERITYCODE']==1].median(),df2[i][df2['SEVERITYCODE']==2].median())\n",
        "    sns.boxplot(x='SEVERITYCODE', y=i,  data=df2,ax=ax)\n",
        "    #df2.boxplot(by='SEVERITYCODE',column=i)"
      ],
      "execution_count": 133,
      "outputs": [
        {
          "output_type": "stream",
          "text": [
            "X Ttest_indResult(statistic=-4.600169708800576, pvalue=4.224122661086044e-06)\n",
            "-0.006807284150664517 0.0159670751767419\n",
            "Y Ttest_indResult(statistic=-7.9156382379644, pvalue=2.4727048728788962e-15)\n",
            "-0.04937123415429224 -0.04937123415429224\n",
            "PERSONCOUNT Ttest_indResult(statistic=-58.27876111972112, pvalue=0.0)\n",
            "-0.33020207385511424 -0.33020207385511424\n",
            "PEDCOUNT Ttest_indResult(statistic=-112.14401726708239, pvalue=0.0)\n",
            "-0.18743028624854363 -0.18743028624854363\n",
            "PEDCYLCOUNT Ttest_indResult(statistic=-96.76261731490953, pvalue=0.0)\n",
            "-0.16958840897224053 -0.16958840897224053\n",
            "VEHCOUNT Ttest_indResult(statistic=24.164360243056954, pvalue=8.177903921506128e-129)\n",
            "0.1255378252325378 0.1255378252325378\n",
            "SDOT_COLCODE Ttest_indResult(statistic=-84.87588960356668, pvalue=0.0)\n",
            "-0.4175102365871053 0.01925128298358212\n",
            "SEGLANEKEY Ttest_indResult(statistic=-46.26023586762551, pvalue=0.0)\n",
            "-0.08124849240009997 -0.08124849240009997\n",
            "CROSSWALKKEY Ttest_indResult(statistic=-78.46606165264929, pvalue=0.0)\n",
            "-0.13536152925748654 -0.13536152925748654\n",
            "Hour Ttest_indResult(statistic=-14.632594062334148, pvalue=1.846698249538815e-48)\n",
            "0.11771891267329702 0.2590560978988941\n",
            "Month Ttest_indResult(statistic=-2.0869244259965503, pvalue=0.036896264117314434)\n",
            "0.13124468524601837 0.13124468524601837\n"
          ],
          "name": "stdout"
        },
        {
          "output_type": "display_data",
          "data": {
            "image/png": "[encoded data removed]",
            "text/plain": [
              "<Figure size 720x720 with 1 Axes>"
            ]
          },
          "metadata": {
            "tags": [],
            "needs_background": "light"
          }
        },
        {
          "output_type": "display_data",
          "data": {
            "image/png": "[encoded data removed]",
            "text/plain": [
              "<Figure size 720x720 with 1 Axes>"
            ]
          },
          "metadata": {
            "tags": [],
            "needs_background": "light"
          }
        },
        {
          "output_type": "display_data",
          "data": {
            "image/png": "[encoded data removed]",
            "text/plain": [
              "<Figure size 720x720 with 1 Axes>"
            ]
          },
          "metadata": {
            "tags": [],
            "needs_background": "light"
          }
        },
        {
          "output_type": "display_data",
          "data": {
            "image/png": "[encoded data removed]",
            "text/plain": [
              "<Figure size 720x720 with 1 Axes>"
            ]
          },
          "metadata": {
            "tags": [],
            "needs_background": "light"
          }
        },
        {
          "output_type": "display_data",
          "data": {
            "image/png": "[encoded data removed]",
            "text/plain": [
              "<Figure size 720x720 with 1 Axes>"
            ]
          },
          "metadata": {
            "tags": [],
            "needs_background": "light"
          }
        },
        {
          "output_type": "display_data",
          "data": {
            "image/png": "[encoded data removed]",
            "text/plain": [
              "<Figure size 720x720 with 1 Axes>"
            ]
          },
          "metadata": {
            "tags": [],
            "needs_background": "light"
          }
        },
        {
          "output_type": "display_data",
          "data": {
            "image/png": "[encoded data removed]",
            "text/plain": [
              "<Figure size 720x720 with 1 Axes>"
            ]
          },
          "metadata": {
            "tags": [],
            "needs_background": "light"
          }
        },
        {
          "output_type": "display_data",
          "data": {
            "image/png": "[encoded data removed]",
            "text/plain": [
              "<Figure size 720x720 with 1 Axes>"
            ]
          },
          "metadata": {
            "tags": [],
            "needs_background": "light"
          }
        },
        {
          "output_type": "display_data",
          "data": {
            "image/png": "[encoded data removed]",
            "text/plain": [
              "<Figure size 720x720 with 1 Axes>"
            ]
          },
          "metadata": {
            "tags": [],
            "needs_background": "light"
          }
        },
        {
          "output_type": "display_data",
          "data": {
            "image/png": "[encoded data removed]",
            "text/plain": [
              "<Figure size 720x720 with 1 Axes>"
            ]
          },
          "metadata": {
            "tags": [],
            "needs_background": "light"
          }
        },
        {
          "output_type": "display_data",
          "data": {
            "image/png": "[encoded data removed]",
            "text/plain": [
              "<Figure size 720x720 with 1 Axes>"
            ]
          },
          "metadata": {
            "tags": [],
            "needs_background": "light"
          }
        }
      ]
    },
    {
      "cell_type": "markdown",
      "metadata": {
        "id": "4OiFvcOGBUkM"
      },
      "source": [
        "# select features"
      ]
    },
    {
      "cell_type": "code",
      "metadata": {
        "id": "Pv3i7ZvsBUkN"
      },
      "source": [
        "from sklearn.preprocessing import label_binarize\n",
        "from sklearn.model_selection import train_test_split"
      ],
      "execution_count": 134,
      "outputs": []
    },
    {
      "cell_type": "code",
      "metadata": {
        "id": "Ikr3vq3OBUkW"
      },
      "source": [
        "x=['ADDRTYPE','COLLISIONTYPE','Hour','Month','JUNCTIONTYPE','INATTENTIONIND','UNDERINFL','WEATHER','LIGHTCOND','PEDROWNOTGRNT',\n",
        "   'SPEEDING','HITPARKEDCAR']    \n",
        "y=['SEVERITYCODE','PERSONCOUNT','PEDCOUNT','PEDCYLCOUNT','Year','VEHCOUNT','SDOT_COLCODE','X','Y','SEGLANEKEY','CROSSWALKKEY']"
      ],
      "execution_count": 135,
      "outputs": []
    },
    {
      "cell_type": "code",
      "metadata": {
        "id": "VSiXX_COBUka"
      },
      "source": [
        "\n",
        "X=df1[x]\n",
        "Y=df1[y[0]]"
      ],
      "execution_count": 136,
      "outputs": []
    },
    {
      "cell_type": "code",
      "metadata": {
        "id": "MXrPPJDWBUkh",
        "outputId": "1f297da0-5f84-46c4-b9fe-ae60c4f00eda",
        "colab": {
          "base_uri": "https://localhost:8080/"
        }
      },
      "source": [
        "X['X']=df2['X']\n",
        "X['Y']=df2['Y']\n",
        "X['PERSONCOUNT']=df2['PERSONCOUNT']\n",
        "X['PEDCOUNT']=df2['PEDCOUNT']\n",
        "X['PEDCYLCOUNT']=df2['PEDCYLCOUNT']\n",
        "X['VEHCOUNT']=df2['VEHCOUNT']\n",
        "X['Hour']=df2['Hour']\n",
        "X['Month']=df2['Month']"
      ],
      "execution_count": 137,
      "outputs": [
        {
          "output_type": "stream",
          "text": [
            "/usr/local/lib/python3.6/dist-packages/ipykernel_launcher.py:1: SettingWithCopyWarning: \n",
            "A value is trying to be set on a copy of a slice from a DataFrame.\n",
            "Try using .loc[row_indexer,col_indexer] = value instead\n",
            "\n",
            "See the caveats in the documentation: https://pandas.pydata.org/pandas-docs/stable/user_guide/indexing.html#returning-a-view-versus-a-copy\n",
            "  \"\"\"Entry point for launching an IPython kernel.\n",
            "/usr/local/lib/python3.6/dist-packages/ipykernel_launcher.py:2: SettingWithCopyWarning: \n",
            "A value is trying to be set on a copy of a slice from a DataFrame.\n",
            "Try using .loc[row_indexer,col_indexer] = value instead\n",
            "\n",
            "See the caveats in the documentation: https://pandas.pydata.org/pandas-docs/stable/user_guide/indexing.html#returning-a-view-versus-a-copy\n",
            "  \n",
            "/usr/local/lib/python3.6/dist-packages/ipykernel_launcher.py:3: SettingWithCopyWarning: \n",
            "A value is trying to be set on a copy of a slice from a DataFrame.\n",
            "Try using .loc[row_indexer,col_indexer] = value instead\n",
            "\n",
            "See the caveats in the documentation: https://pandas.pydata.org/pandas-docs/stable/user_guide/indexing.html#returning-a-view-versus-a-copy\n",
            "  This is separate from the ipykernel package so we can avoid doing imports until\n",
            "/usr/local/lib/python3.6/dist-packages/ipykernel_launcher.py:4: SettingWithCopyWarning: \n",
            "A value is trying to be set on a copy of a slice from a DataFrame.\n",
            "Try using .loc[row_indexer,col_indexer] = value instead\n",
            "\n",
            "See the caveats in the documentation: https://pandas.pydata.org/pandas-docs/stable/user_guide/indexing.html#returning-a-view-versus-a-copy\n",
            "  after removing the cwd from sys.path.\n",
            "/usr/local/lib/python3.6/dist-packages/ipykernel_launcher.py:5: SettingWithCopyWarning: \n",
            "A value is trying to be set on a copy of a slice from a DataFrame.\n",
            "Try using .loc[row_indexer,col_indexer] = value instead\n",
            "\n",
            "See the caveats in the documentation: https://pandas.pydata.org/pandas-docs/stable/user_guide/indexing.html#returning-a-view-versus-a-copy\n",
            "  \"\"\"\n",
            "/usr/local/lib/python3.6/dist-packages/ipykernel_launcher.py:6: SettingWithCopyWarning: \n",
            "A value is trying to be set on a copy of a slice from a DataFrame.\n",
            "Try using .loc[row_indexer,col_indexer] = value instead\n",
            "\n",
            "See the caveats in the documentation: https://pandas.pydata.org/pandas-docs/stable/user_guide/indexing.html#returning-a-view-versus-a-copy\n",
            "  \n",
            "/usr/local/lib/python3.6/dist-packages/ipykernel_launcher.py:7: SettingWithCopyWarning: \n",
            "A value is trying to be set on a copy of a slice from a DataFrame.\n",
            "Try using .loc[row_indexer,col_indexer] = value instead\n",
            "\n",
            "See the caveats in the documentation: https://pandas.pydata.org/pandas-docs/stable/user_guide/indexing.html#returning-a-view-versus-a-copy\n",
            "  import sys\n",
            "/usr/local/lib/python3.6/dist-packages/ipykernel_launcher.py:8: SettingWithCopyWarning: \n",
            "A value is trying to be set on a copy of a slice from a DataFrame.\n",
            "Try using .loc[row_indexer,col_indexer] = value instead\n",
            "\n",
            "See the caveats in the documentation: https://pandas.pydata.org/pandas-docs/stable/user_guide/indexing.html#returning-a-view-versus-a-copy\n",
            "  \n"
          ],
          "name": "stderr"
        }
      ]
    },
    {
      "cell_type": "code",
      "metadata": {
        "id": "LVbTvnK6BUkr",
        "outputId": "5568a922-ee11-4857-b105-31c005ec3d7e",
        "colab": {
          "base_uri": "https://localhost:8080/",
          "height": 394
        }
      },
      "source": [
        "X.head()"
      ],
      "execution_count": 138,
      "outputs": [
        {
          "output_type": "execute_result",
          "data": {
            "text/html": [
              "<div>\n",
              "<style scoped>\n",
              "    .dataframe tbody tr th:only-of-type {\n",
              "        vertical-align: middle;\n",
              "    }\n",
              "\n",
              "    .dataframe tbody tr th {\n",
              "        vertical-align: top;\n",
              "    }\n",
              "\n",
              "    .dataframe thead th {\n",
              "        text-align: right;\n",
              "    }\n",
              "</style>\n",
              "<table border=\"1\" class=\"dataframe\">\n",
              "  <thead>\n",
              "    <tr style=\"text-align: right;\">\n",
              "      <th></th>\n",
              "      <th>ADDRTYPE</th>\n",
              "      <th>COLLISIONTYPE</th>\n",
              "      <th>Hour</th>\n",
              "      <th>Month</th>\n",
              "      <th>JUNCTIONTYPE</th>\n",
              "      <th>INATTENTIONIND</th>\n",
              "      <th>UNDERINFL</th>\n",
              "      <th>WEATHER</th>\n",
              "      <th>LIGHTCOND</th>\n",
              "      <th>PEDROWNOTGRNT</th>\n",
              "      <th>SPEEDING</th>\n",
              "      <th>HITPARKEDCAR</th>\n",
              "      <th>X</th>\n",
              "      <th>Y</th>\n",
              "      <th>PERSONCOUNT</th>\n",
              "      <th>PEDCOUNT</th>\n",
              "      <th>PEDCYLCOUNT</th>\n",
              "      <th>VEHCOUNT</th>\n",
              "    </tr>\n",
              "  </thead>\n",
              "  <tbody>\n",
              "    <tr>\n",
              "      <th>1</th>\n",
              "      <td>Block</td>\n",
              "      <td>Sideswipe</td>\n",
              "      <td>-0.164955</td>\n",
              "      <td>1.297410</td>\n",
              "      <td>Mid-Block (not related to intersection)</td>\n",
              "      <td>N</td>\n",
              "      <td>N</td>\n",
              "      <td>Raining</td>\n",
              "      <td>Dark - Street Lights On</td>\n",
              "      <td>N</td>\n",
              "      <td>N</td>\n",
              "      <td>N</td>\n",
              "      <td>-0.135973</td>\n",
              "      <td>-0.210629</td>\n",
              "      <td>1.155765</td>\n",
              "      <td>-0.18743</td>\n",
              "      <td>-0.169588</td>\n",
              "      <td>1.710211</td>\n",
              "    </tr>\n",
              "    <tr>\n",
              "      <th>2</th>\n",
              "      <td>Block</td>\n",
              "      <td>Parked Car</td>\n",
              "      <td>-0.306293</td>\n",
              "      <td>-1.034920</td>\n",
              "      <td>Mid-Block (not related to intersection)</td>\n",
              "      <td>N</td>\n",
              "      <td>N</td>\n",
              "      <td>Overcast</td>\n",
              "      <td>Daylight</td>\n",
              "      <td>N</td>\n",
              "      <td>N</td>\n",
              "      <td>N</td>\n",
              "      <td>-0.144879</td>\n",
              "      <td>-0.266036</td>\n",
              "      <td>0.412781</td>\n",
              "      <td>-0.18743</td>\n",
              "      <td>-0.169588</td>\n",
              "      <td>1.710211</td>\n",
              "    </tr>\n",
              "    <tr>\n",
              "      <th>3</th>\n",
              "      <td>Block</td>\n",
              "      <td>Parked Car</td>\n",
              "      <td>0.824405</td>\n",
              "      <td>-0.743379</td>\n",
              "      <td>Mid-Block (not related to intersection)</td>\n",
              "      <td>N</td>\n",
              "      <td>N</td>\n",
              "      <td>Clear</td>\n",
              "      <td>Daylight</td>\n",
              "      <td>N</td>\n",
              "      <td>N</td>\n",
              "      <td>N</td>\n",
              "      <td>-1.930751</td>\n",
              "      <td>1.282708</td>\n",
              "      <td>-0.330202</td>\n",
              "      <td>-0.18743</td>\n",
              "      <td>-0.169588</td>\n",
              "      <td>0.125538</td>\n",
              "    </tr>\n",
              "    <tr>\n",
              "      <th>5</th>\n",
              "      <td>Intersection</td>\n",
              "      <td>Angles</td>\n",
              "      <td>0.259056</td>\n",
              "      <td>-0.160297</td>\n",
              "      <td>At Intersection (intersection related)</td>\n",
              "      <td>N</td>\n",
              "      <td>N</td>\n",
              "      <td>Clear</td>\n",
              "      <td>Daylight</td>\n",
              "      <td>N</td>\n",
              "      <td>N</td>\n",
              "      <td>N</td>\n",
              "      <td>-0.183002</td>\n",
              "      <td>-0.137824</td>\n",
              "      <td>-0.330202</td>\n",
              "      <td>-0.18743</td>\n",
              "      <td>-0.169588</td>\n",
              "      <td>0.125538</td>\n",
              "    </tr>\n",
              "    <tr>\n",
              "      <th>6</th>\n",
              "      <td>Intersection</td>\n",
              "      <td>Angles</td>\n",
              "      <td>0.965742</td>\n",
              "      <td>-0.451838</td>\n",
              "      <td>At Intersection (intersection related)</td>\n",
              "      <td>N</td>\n",
              "      <td>N</td>\n",
              "      <td>Raining</td>\n",
              "      <td>Daylight</td>\n",
              "      <td>N</td>\n",
              "      <td>N</td>\n",
              "      <td>N</td>\n",
              "      <td>-0.006807</td>\n",
              "      <td>-0.011712</td>\n",
              "      <td>-0.330202</td>\n",
              "      <td>-0.18743</td>\n",
              "      <td>-0.169588</td>\n",
              "      <td>0.125538</td>\n",
              "    </tr>\n",
              "  </tbody>\n",
              "</table>\n",
              "</div>"
            ],
            "text/plain": [
              "       ADDRTYPE COLLISIONTYPE      Hour  ...  PEDCOUNT PEDCYLCOUNT  VEHCOUNT\n",
              "1         Block     Sideswipe -0.164955  ...  -0.18743   -0.169588  1.710211\n",
              "2         Block    Parked Car -0.306293  ...  -0.18743   -0.169588  1.710211\n",
              "3         Block    Parked Car  0.824405  ...  -0.18743   -0.169588  0.125538\n",
              "5  Intersection        Angles  0.259056  ...  -0.18743   -0.169588  0.125538\n",
              "6  Intersection        Angles  0.965742  ...  -0.18743   -0.169588  0.125538\n",
              "\n",
              "[5 rows x 18 columns]"
            ]
          },
          "metadata": {
            "tags": []
          },
          "execution_count": 138
        }
      ]
    },
    {
      "cell_type": "code",
      "metadata": {
        "id": "6VACm2pxBUk0"
      },
      "source": [
        "# from categorial to separate columns"
      ],
      "execution_count": 139,
      "outputs": []
    },
    {
      "cell_type": "code",
      "metadata": {
        "scrolled": true,
        "id": "9OLfuD7eBUk4"
      },
      "source": [
        "def to_gat(c,X):\n",
        "    temp=label_binarize(X[c],classes=X[c].value_counts().index)\n",
        "    temp=pd.DataFrame(temp,columns=X[c].value_counts().index)\n",
        "    X=pd.concat([X,temp],axis=1)\n",
        "    X.drop(columns=c,inplace=True)\n",
        "    return X"
      ],
      "execution_count": 140,
      "outputs": []
    },
    {
      "cell_type": "code",
      "metadata": {
        "id": "bo3wQbOkBUk-",
        "outputId": "5be204a8-1dcd-45e3-afe2-f8ba618b9956",
        "colab": {
          "base_uri": "https://localhost:8080/"
        }
      },
      "source": [
        "obj=['ADDRTYPE','JUNCTIONTYPE','WEATHER','LIGHTCOND','COLLISIONTYPE'\n",
        "     ]\n",
        "num=['X','Y','SEGLANEKEY','CROSSWALKKEY']\n",
        "#'SPEEDING','INATTENTIONIND','UNDERINFL','HITPARKEDCAR'\n",
        "#'INCDTTM',\n",
        "for i in obj:\n",
        "    print(i)\n",
        "    X=to_gat(i,X)"
      ],
      "execution_count": 141,
      "outputs": [
        {
          "output_type": "stream",
          "text": [
            "ADDRTYPE\n",
            "JUNCTIONTYPE\n",
            "WEATHER\n",
            "LIGHTCOND\n",
            "COLLISIONTYPE\n"
          ],
          "name": "stdout"
        }
      ]
    },
    {
      "cell_type": "code",
      "metadata": {
        "id": "43P1pT5QBUlF",
        "outputId": "e0d9cd35-2917-4e82-c879-192c6493ab20",
        "colab": {
          "base_uri": "https://localhost:8080/",
          "height": 292
        }
      },
      "source": [
        "X.head()"
      ],
      "execution_count": 142,
      "outputs": [
        {
          "output_type": "execute_result",
          "data": {
            "text/html": [
              "<div>\n",
              "<style scoped>\n",
              "    .dataframe tbody tr th:only-of-type {\n",
              "        vertical-align: middle;\n",
              "    }\n",
              "\n",
              "    .dataframe tbody tr th {\n",
              "        vertical-align: top;\n",
              "    }\n",
              "\n",
              "    .dataframe thead th {\n",
              "        text-align: right;\n",
              "    }\n",
              "</style>\n",
              "<table border=\"1\" class=\"dataframe\">\n",
              "  <thead>\n",
              "    <tr style=\"text-align: right;\">\n",
              "      <th></th>\n",
              "      <th>Hour</th>\n",
              "      <th>Month</th>\n",
              "      <th>INATTENTIONIND</th>\n",
              "      <th>UNDERINFL</th>\n",
              "      <th>PEDROWNOTGRNT</th>\n",
              "      <th>SPEEDING</th>\n",
              "      <th>HITPARKEDCAR</th>\n",
              "      <th>X</th>\n",
              "      <th>Y</th>\n",
              "      <th>PERSONCOUNT</th>\n",
              "      <th>PEDCOUNT</th>\n",
              "      <th>PEDCYLCOUNT</th>\n",
              "      <th>VEHCOUNT</th>\n",
              "      <th>Block</th>\n",
              "      <th>Intersection</th>\n",
              "      <th>Alley</th>\n",
              "      <th>Mid-Block (not related to intersection)</th>\n",
              "      <th>At Intersection (intersection related)</th>\n",
              "      <th>Mid-Block (but intersection related)</th>\n",
              "      <th>Driveway Junction</th>\n",
              "      <th>At Intersection (but not related to intersection)</th>\n",
              "      <th>Ramp Junction</th>\n",
              "      <th>Clear</th>\n",
              "      <th>Raining</th>\n",
              "      <th>Overcast</th>\n",
              "      <th>Snowing</th>\n",
              "      <th>Fog/Smog/Smoke</th>\n",
              "      <th>Sleet/Hail/Freezing Rain</th>\n",
              "      <th>Blowing Sand/Dirt</th>\n",
              "      <th>Severe Crosswind</th>\n",
              "      <th>Partly Cloudy</th>\n",
              "      <th>Daylight</th>\n",
              "      <th>Dark - Street Lights On</th>\n",
              "      <th>Dusk</th>\n",
              "      <th>Dawn</th>\n",
              "      <th>Dark - No Street Lights</th>\n",
              "      <th>Dark - Street Lights Off</th>\n",
              "      <th>Dark - Unknown Lighting</th>\n",
              "      <th>Parked Car</th>\n",
              "      <th>Rear Ended</th>\n",
              "      <th>Angles</th>\n",
              "      <th>Sideswipe</th>\n",
              "      <th>Left Turn</th>\n",
              "      <th>Pedestrian</th>\n",
              "      <th>Cycles</th>\n",
              "      <th>Right Turn</th>\n",
              "      <th>Head On</th>\n",
              "    </tr>\n",
              "  </thead>\n",
              "  <tbody>\n",
              "    <tr>\n",
              "      <th>0</th>\n",
              "      <td>0.965742</td>\n",
              "      <td>1.588951</td>\n",
              "      <td>N</td>\n",
              "      <td>N</td>\n",
              "      <td>N</td>\n",
              "      <td>N</td>\n",
              "      <td>N</td>\n",
              "      <td>-0.567408</td>\n",
              "      <td>0.499007</td>\n",
              "      <td>-0.330202</td>\n",
              "      <td>-0.18743</td>\n",
              "      <td>-0.169588</td>\n",
              "      <td>0.125538</td>\n",
              "      <td>1</td>\n",
              "      <td>0</td>\n",
              "      <td>0</td>\n",
              "      <td>0</td>\n",
              "      <td>1</td>\n",
              "      <td>0</td>\n",
              "      <td>0</td>\n",
              "      <td>0</td>\n",
              "      <td>0</td>\n",
              "      <td>0</td>\n",
              "      <td>0</td>\n",
              "      <td>1</td>\n",
              "      <td>0</td>\n",
              "      <td>0</td>\n",
              "      <td>0</td>\n",
              "      <td>0</td>\n",
              "      <td>0</td>\n",
              "      <td>0</td>\n",
              "      <td>1</td>\n",
              "      <td>0</td>\n",
              "      <td>0</td>\n",
              "      <td>0</td>\n",
              "      <td>0</td>\n",
              "      <td>0</td>\n",
              "      <td>0</td>\n",
              "      <td>0</td>\n",
              "      <td>0</td>\n",
              "      <td>1</td>\n",
              "      <td>0</td>\n",
              "      <td>0</td>\n",
              "      <td>0</td>\n",
              "      <td>0</td>\n",
              "      <td>0</td>\n",
              "      <td>0</td>\n",
              "    </tr>\n",
              "    <tr>\n",
              "      <th>1</th>\n",
              "      <td>-0.164955</td>\n",
              "      <td>1.297410</td>\n",
              "      <td>N</td>\n",
              "      <td>N</td>\n",
              "      <td>N</td>\n",
              "      <td>N</td>\n",
              "      <td>N</td>\n",
              "      <td>-0.135973</td>\n",
              "      <td>-0.210629</td>\n",
              "      <td>1.155765</td>\n",
              "      <td>-0.18743</td>\n",
              "      <td>-0.169588</td>\n",
              "      <td>1.710211</td>\n",
              "      <td>1</td>\n",
              "      <td>0</td>\n",
              "      <td>0</td>\n",
              "      <td>1</td>\n",
              "      <td>0</td>\n",
              "      <td>0</td>\n",
              "      <td>0</td>\n",
              "      <td>0</td>\n",
              "      <td>0</td>\n",
              "      <td>0</td>\n",
              "      <td>1</td>\n",
              "      <td>0</td>\n",
              "      <td>0</td>\n",
              "      <td>0</td>\n",
              "      <td>0</td>\n",
              "      <td>0</td>\n",
              "      <td>0</td>\n",
              "      <td>0</td>\n",
              "      <td>0</td>\n",
              "      <td>1</td>\n",
              "      <td>0</td>\n",
              "      <td>0</td>\n",
              "      <td>0</td>\n",
              "      <td>0</td>\n",
              "      <td>0</td>\n",
              "      <td>0</td>\n",
              "      <td>0</td>\n",
              "      <td>0</td>\n",
              "      <td>1</td>\n",
              "      <td>0</td>\n",
              "      <td>0</td>\n",
              "      <td>0</td>\n",
              "      <td>0</td>\n",
              "      <td>0</td>\n",
              "    </tr>\n",
              "    <tr>\n",
              "      <th>2</th>\n",
              "      <td>-0.306293</td>\n",
              "      <td>-1.034920</td>\n",
              "      <td>N</td>\n",
              "      <td>N</td>\n",
              "      <td>N</td>\n",
              "      <td>N</td>\n",
              "      <td>N</td>\n",
              "      <td>-0.144879</td>\n",
              "      <td>-0.266036</td>\n",
              "      <td>0.412781</td>\n",
              "      <td>-0.18743</td>\n",
              "      <td>-0.169588</td>\n",
              "      <td>1.710211</td>\n",
              "      <td>1</td>\n",
              "      <td>0</td>\n",
              "      <td>0</td>\n",
              "      <td>1</td>\n",
              "      <td>0</td>\n",
              "      <td>0</td>\n",
              "      <td>0</td>\n",
              "      <td>0</td>\n",
              "      <td>0</td>\n",
              "      <td>0</td>\n",
              "      <td>0</td>\n",
              "      <td>1</td>\n",
              "      <td>0</td>\n",
              "      <td>0</td>\n",
              "      <td>0</td>\n",
              "      <td>0</td>\n",
              "      <td>0</td>\n",
              "      <td>0</td>\n",
              "      <td>1</td>\n",
              "      <td>0</td>\n",
              "      <td>0</td>\n",
              "      <td>0</td>\n",
              "      <td>0</td>\n",
              "      <td>0</td>\n",
              "      <td>0</td>\n",
              "      <td>1</td>\n",
              "      <td>0</td>\n",
              "      <td>0</td>\n",
              "      <td>0</td>\n",
              "      <td>0</td>\n",
              "      <td>0</td>\n",
              "      <td>0</td>\n",
              "      <td>0</td>\n",
              "      <td>0</td>\n",
              "    </tr>\n",
              "    <tr>\n",
              "      <th>3</th>\n",
              "      <td>0.824405</td>\n",
              "      <td>-0.743379</td>\n",
              "      <td>N</td>\n",
              "      <td>N</td>\n",
              "      <td>N</td>\n",
              "      <td>N</td>\n",
              "      <td>N</td>\n",
              "      <td>-1.930751</td>\n",
              "      <td>1.282708</td>\n",
              "      <td>-0.330202</td>\n",
              "      <td>-0.18743</td>\n",
              "      <td>-0.169588</td>\n",
              "      <td>0.125538</td>\n",
              "      <td>0</td>\n",
              "      <td>1</td>\n",
              "      <td>0</td>\n",
              "      <td>1</td>\n",
              "      <td>0</td>\n",
              "      <td>0</td>\n",
              "      <td>0</td>\n",
              "      <td>0</td>\n",
              "      <td>0</td>\n",
              "      <td>1</td>\n",
              "      <td>0</td>\n",
              "      <td>0</td>\n",
              "      <td>0</td>\n",
              "      <td>0</td>\n",
              "      <td>0</td>\n",
              "      <td>0</td>\n",
              "      <td>0</td>\n",
              "      <td>0</td>\n",
              "      <td>1</td>\n",
              "      <td>0</td>\n",
              "      <td>0</td>\n",
              "      <td>0</td>\n",
              "      <td>0</td>\n",
              "      <td>0</td>\n",
              "      <td>0</td>\n",
              "      <td>1</td>\n",
              "      <td>0</td>\n",
              "      <td>0</td>\n",
              "      <td>0</td>\n",
              "      <td>0</td>\n",
              "      <td>0</td>\n",
              "      <td>0</td>\n",
              "      <td>0</td>\n",
              "      <td>0</td>\n",
              "    </tr>\n",
              "    <tr>\n",
              "      <th>4</th>\n",
              "      <td>-1.578327</td>\n",
              "      <td>1.588951</td>\n",
              "      <td>N</td>\n",
              "      <td>N</td>\n",
              "      <td>N</td>\n",
              "      <td>N</td>\n",
              "      <td>N</td>\n",
              "      <td>-0.269405</td>\n",
              "      <td>-0.018097</td>\n",
              "      <td>-0.330202</td>\n",
              "      <td>-0.18743</td>\n",
              "      <td>-0.169588</td>\n",
              "      <td>0.125538</td>\n",
              "      <td>0</td>\n",
              "      <td>1</td>\n",
              "      <td>0</td>\n",
              "      <td>0</td>\n",
              "      <td>1</td>\n",
              "      <td>0</td>\n",
              "      <td>0</td>\n",
              "      <td>0</td>\n",
              "      <td>0</td>\n",
              "      <td>0</td>\n",
              "      <td>1</td>\n",
              "      <td>0</td>\n",
              "      <td>0</td>\n",
              "      <td>0</td>\n",
              "      <td>0</td>\n",
              "      <td>0</td>\n",
              "      <td>0</td>\n",
              "      <td>0</td>\n",
              "      <td>1</td>\n",
              "      <td>0</td>\n",
              "      <td>0</td>\n",
              "      <td>0</td>\n",
              "      <td>0</td>\n",
              "      <td>0</td>\n",
              "      <td>0</td>\n",
              "      <td>0</td>\n",
              "      <td>0</td>\n",
              "      <td>1</td>\n",
              "      <td>0</td>\n",
              "      <td>0</td>\n",
              "      <td>0</td>\n",
              "      <td>0</td>\n",
              "      <td>0</td>\n",
              "      <td>0</td>\n",
              "    </tr>\n",
              "  </tbody>\n",
              "</table>\n",
              "</div>"
            ],
            "text/plain": [
              "       Hour     Month INATTENTIONIND  ... Cycles Right Turn Head On\n",
              "0  0.965742  1.588951              N  ...      0          0       0\n",
              "1 -0.164955  1.297410              N  ...      0          0       0\n",
              "2 -0.306293 -1.034920              N  ...      0          0       0\n",
              "3  0.824405 -0.743379              N  ...      0          0       0\n",
              "4 -1.578327  1.588951              N  ...      0          0       0\n",
              "\n",
              "[5 rows x 47 columns]"
            ]
          },
          "metadata": {
            "tags": []
          },
          "execution_count": 142
        }
      ]
    },
    {
      "cell_type": "code",
      "metadata": {
        "id": "wutv8m9tBUlN"
      },
      "source": [
        "# convert all remaining text value to numeric"
      ],
      "execution_count": 143,
      "outputs": []
    },
    {
      "cell_type": "code",
      "metadata": {
        "id": "NBX3ZfSgBUlR"
      },
      "source": [
        "X.replace('Y','1',inplace=True)\n",
        "X.replace('N','0',inplace=True)"
      ],
      "execution_count": 144,
      "outputs": []
    },
    {
      "cell_type": "code",
      "metadata": {
        "id": "qWVf3-EBBUlV",
        "outputId": "efece247-6d3b-4bcf-c46c-54a852aec442",
        "colab": {
          "base_uri": "https://localhost:8080/",
          "height": 292
        }
      },
      "source": [
        "X.head()"
      ],
      "execution_count": 145,
      "outputs": [
        {
          "output_type": "execute_result",
          "data": {
            "text/html": [
              "<div>\n",
              "<style scoped>\n",
              "    .dataframe tbody tr th:only-of-type {\n",
              "        vertical-align: middle;\n",
              "    }\n",
              "\n",
              "    .dataframe tbody tr th {\n",
              "        vertical-align: top;\n",
              "    }\n",
              "\n",
              "    .dataframe thead th {\n",
              "        text-align: right;\n",
              "    }\n",
              "</style>\n",
              "<table border=\"1\" class=\"dataframe\">\n",
              "  <thead>\n",
              "    <tr style=\"text-align: right;\">\n",
              "      <th></th>\n",
              "      <th>Hour</th>\n",
              "      <th>Month</th>\n",
              "      <th>INATTENTIONIND</th>\n",
              "      <th>UNDERINFL</th>\n",
              "      <th>PEDROWNOTGRNT</th>\n",
              "      <th>SPEEDING</th>\n",
              "      <th>HITPARKEDCAR</th>\n",
              "      <th>X</th>\n",
              "      <th>Y</th>\n",
              "      <th>PERSONCOUNT</th>\n",
              "      <th>PEDCOUNT</th>\n",
              "      <th>PEDCYLCOUNT</th>\n",
              "      <th>VEHCOUNT</th>\n",
              "      <th>Block</th>\n",
              "      <th>Intersection</th>\n",
              "      <th>Alley</th>\n",
              "      <th>Mid-Block (not related to intersection)</th>\n",
              "      <th>At Intersection (intersection related)</th>\n",
              "      <th>Mid-Block (but intersection related)</th>\n",
              "      <th>Driveway Junction</th>\n",
              "      <th>At Intersection (but not related to intersection)</th>\n",
              "      <th>Ramp Junction</th>\n",
              "      <th>Clear</th>\n",
              "      <th>Raining</th>\n",
              "      <th>Overcast</th>\n",
              "      <th>Snowing</th>\n",
              "      <th>Fog/Smog/Smoke</th>\n",
              "      <th>Sleet/Hail/Freezing Rain</th>\n",
              "      <th>Blowing Sand/Dirt</th>\n",
              "      <th>Severe Crosswind</th>\n",
              "      <th>Partly Cloudy</th>\n",
              "      <th>Daylight</th>\n",
              "      <th>Dark - Street Lights On</th>\n",
              "      <th>Dusk</th>\n",
              "      <th>Dawn</th>\n",
              "      <th>Dark - No Street Lights</th>\n",
              "      <th>Dark - Street Lights Off</th>\n",
              "      <th>Dark - Unknown Lighting</th>\n",
              "      <th>Parked Car</th>\n",
              "      <th>Rear Ended</th>\n",
              "      <th>Angles</th>\n",
              "      <th>Sideswipe</th>\n",
              "      <th>Left Turn</th>\n",
              "      <th>Pedestrian</th>\n",
              "      <th>Cycles</th>\n",
              "      <th>Right Turn</th>\n",
              "      <th>Head On</th>\n",
              "    </tr>\n",
              "  </thead>\n",
              "  <tbody>\n",
              "    <tr>\n",
              "      <th>0</th>\n",
              "      <td>0.965742</td>\n",
              "      <td>1.588951</td>\n",
              "      <td>0</td>\n",
              "      <td>0</td>\n",
              "      <td>0</td>\n",
              "      <td>0</td>\n",
              "      <td>0</td>\n",
              "      <td>-0.567408</td>\n",
              "      <td>0.499007</td>\n",
              "      <td>-0.330202</td>\n",
              "      <td>-0.18743</td>\n",
              "      <td>-0.169588</td>\n",
              "      <td>0.125538</td>\n",
              "      <td>1</td>\n",
              "      <td>0</td>\n",
              "      <td>0</td>\n",
              "      <td>0</td>\n",
              "      <td>1</td>\n",
              "      <td>0</td>\n",
              "      <td>0</td>\n",
              "      <td>0</td>\n",
              "      <td>0</td>\n",
              "      <td>0</td>\n",
              "      <td>0</td>\n",
              "      <td>1</td>\n",
              "      <td>0</td>\n",
              "      <td>0</td>\n",
              "      <td>0</td>\n",
              "      <td>0</td>\n",
              "      <td>0</td>\n",
              "      <td>0</td>\n",
              "      <td>1</td>\n",
              "      <td>0</td>\n",
              "      <td>0</td>\n",
              "      <td>0</td>\n",
              "      <td>0</td>\n",
              "      <td>0</td>\n",
              "      <td>0</td>\n",
              "      <td>0</td>\n",
              "      <td>0</td>\n",
              "      <td>1</td>\n",
              "      <td>0</td>\n",
              "      <td>0</td>\n",
              "      <td>0</td>\n",
              "      <td>0</td>\n",
              "      <td>0</td>\n",
              "      <td>0</td>\n",
              "    </tr>\n",
              "    <tr>\n",
              "      <th>1</th>\n",
              "      <td>-0.164955</td>\n",
              "      <td>1.297410</td>\n",
              "      <td>0</td>\n",
              "      <td>0</td>\n",
              "      <td>0</td>\n",
              "      <td>0</td>\n",
              "      <td>0</td>\n",
              "      <td>-0.135973</td>\n",
              "      <td>-0.210629</td>\n",
              "      <td>1.155765</td>\n",
              "      <td>-0.18743</td>\n",
              "      <td>-0.169588</td>\n",
              "      <td>1.710211</td>\n",
              "      <td>1</td>\n",
              "      <td>0</td>\n",
              "      <td>0</td>\n",
              "      <td>1</td>\n",
              "      <td>0</td>\n",
              "      <td>0</td>\n",
              "      <td>0</td>\n",
              "      <td>0</td>\n",
              "      <td>0</td>\n",
              "      <td>0</td>\n",
              "      <td>1</td>\n",
              "      <td>0</td>\n",
              "      <td>0</td>\n",
              "      <td>0</td>\n",
              "      <td>0</td>\n",
              "      <td>0</td>\n",
              "      <td>0</td>\n",
              "      <td>0</td>\n",
              "      <td>0</td>\n",
              "      <td>1</td>\n",
              "      <td>0</td>\n",
              "      <td>0</td>\n",
              "      <td>0</td>\n",
              "      <td>0</td>\n",
              "      <td>0</td>\n",
              "      <td>0</td>\n",
              "      <td>0</td>\n",
              "      <td>0</td>\n",
              "      <td>1</td>\n",
              "      <td>0</td>\n",
              "      <td>0</td>\n",
              "      <td>0</td>\n",
              "      <td>0</td>\n",
              "      <td>0</td>\n",
              "    </tr>\n",
              "    <tr>\n",
              "      <th>2</th>\n",
              "      <td>-0.306293</td>\n",
              "      <td>-1.034920</td>\n",
              "      <td>0</td>\n",
              "      <td>0</td>\n",
              "      <td>0</td>\n",
              "      <td>0</td>\n",
              "      <td>0</td>\n",
              "      <td>-0.144879</td>\n",
              "      <td>-0.266036</td>\n",
              "      <td>0.412781</td>\n",
              "      <td>-0.18743</td>\n",
              "      <td>-0.169588</td>\n",
              "      <td>1.710211</td>\n",
              "      <td>1</td>\n",
              "      <td>0</td>\n",
              "      <td>0</td>\n",
              "      <td>1</td>\n",
              "      <td>0</td>\n",
              "      <td>0</td>\n",
              "      <td>0</td>\n",
              "      <td>0</td>\n",
              "      <td>0</td>\n",
              "      <td>0</td>\n",
              "      <td>0</td>\n",
              "      <td>1</td>\n",
              "      <td>0</td>\n",
              "      <td>0</td>\n",
              "      <td>0</td>\n",
              "      <td>0</td>\n",
              "      <td>0</td>\n",
              "      <td>0</td>\n",
              "      <td>1</td>\n",
              "      <td>0</td>\n",
              "      <td>0</td>\n",
              "      <td>0</td>\n",
              "      <td>0</td>\n",
              "      <td>0</td>\n",
              "      <td>0</td>\n",
              "      <td>1</td>\n",
              "      <td>0</td>\n",
              "      <td>0</td>\n",
              "      <td>0</td>\n",
              "      <td>0</td>\n",
              "      <td>0</td>\n",
              "      <td>0</td>\n",
              "      <td>0</td>\n",
              "      <td>0</td>\n",
              "    </tr>\n",
              "    <tr>\n",
              "      <th>3</th>\n",
              "      <td>0.824405</td>\n",
              "      <td>-0.743379</td>\n",
              "      <td>0</td>\n",
              "      <td>0</td>\n",
              "      <td>0</td>\n",
              "      <td>0</td>\n",
              "      <td>0</td>\n",
              "      <td>-1.930751</td>\n",
              "      <td>1.282708</td>\n",
              "      <td>-0.330202</td>\n",
              "      <td>-0.18743</td>\n",
              "      <td>-0.169588</td>\n",
              "      <td>0.125538</td>\n",
              "      <td>0</td>\n",
              "      <td>1</td>\n",
              "      <td>0</td>\n",
              "      <td>1</td>\n",
              "      <td>0</td>\n",
              "      <td>0</td>\n",
              "      <td>0</td>\n",
              "      <td>0</td>\n",
              "      <td>0</td>\n",
              "      <td>1</td>\n",
              "      <td>0</td>\n",
              "      <td>0</td>\n",
              "      <td>0</td>\n",
              "      <td>0</td>\n",
              "      <td>0</td>\n",
              "      <td>0</td>\n",
              "      <td>0</td>\n",
              "      <td>0</td>\n",
              "      <td>1</td>\n",
              "      <td>0</td>\n",
              "      <td>0</td>\n",
              "      <td>0</td>\n",
              "      <td>0</td>\n",
              "      <td>0</td>\n",
              "      <td>0</td>\n",
              "      <td>1</td>\n",
              "      <td>0</td>\n",
              "      <td>0</td>\n",
              "      <td>0</td>\n",
              "      <td>0</td>\n",
              "      <td>0</td>\n",
              "      <td>0</td>\n",
              "      <td>0</td>\n",
              "      <td>0</td>\n",
              "    </tr>\n",
              "    <tr>\n",
              "      <th>4</th>\n",
              "      <td>-1.578327</td>\n",
              "      <td>1.588951</td>\n",
              "      <td>0</td>\n",
              "      <td>0</td>\n",
              "      <td>0</td>\n",
              "      <td>0</td>\n",
              "      <td>0</td>\n",
              "      <td>-0.269405</td>\n",
              "      <td>-0.018097</td>\n",
              "      <td>-0.330202</td>\n",
              "      <td>-0.18743</td>\n",
              "      <td>-0.169588</td>\n",
              "      <td>0.125538</td>\n",
              "      <td>0</td>\n",
              "      <td>1</td>\n",
              "      <td>0</td>\n",
              "      <td>0</td>\n",
              "      <td>1</td>\n",
              "      <td>0</td>\n",
              "      <td>0</td>\n",
              "      <td>0</td>\n",
              "      <td>0</td>\n",
              "      <td>0</td>\n",
              "      <td>1</td>\n",
              "      <td>0</td>\n",
              "      <td>0</td>\n",
              "      <td>0</td>\n",
              "      <td>0</td>\n",
              "      <td>0</td>\n",
              "      <td>0</td>\n",
              "      <td>0</td>\n",
              "      <td>1</td>\n",
              "      <td>0</td>\n",
              "      <td>0</td>\n",
              "      <td>0</td>\n",
              "      <td>0</td>\n",
              "      <td>0</td>\n",
              "      <td>0</td>\n",
              "      <td>0</td>\n",
              "      <td>0</td>\n",
              "      <td>1</td>\n",
              "      <td>0</td>\n",
              "      <td>0</td>\n",
              "      <td>0</td>\n",
              "      <td>0</td>\n",
              "      <td>0</td>\n",
              "      <td>0</td>\n",
              "    </tr>\n",
              "  </tbody>\n",
              "</table>\n",
              "</div>"
            ],
            "text/plain": [
              "       Hour     Month INATTENTIONIND  ... Cycles Right Turn Head On\n",
              "0  0.965742  1.588951              0  ...      0          0       0\n",
              "1 -0.164955  1.297410              0  ...      0          0       0\n",
              "2 -0.306293 -1.034920              0  ...      0          0       0\n",
              "3  0.824405 -0.743379              0  ...      0          0       0\n",
              "4 -1.578327  1.588951              0  ...      0          0       0\n",
              "\n",
              "[5 rows x 47 columns]"
            ]
          },
          "metadata": {
            "tags": []
          },
          "execution_count": 145
        }
      ]
    },
    {
      "cell_type": "code",
      "metadata": {
        "id": "3WOksD4-BUla"
      },
      "source": [
        "X=X.apply(pd.to_numeric)\n"
      ],
      "execution_count": 146,
      "outputs": []
    },
    {
      "cell_type": "code",
      "metadata": {
        "id": "2MBHQYJwBUlf",
        "outputId": "e83c597b-5626-4da6-ee56-fc564d186a49",
        "colab": {
          "base_uri": "https://localhost:8080/"
        }
      },
      "source": [
        "X.info()"
      ],
      "execution_count": 147,
      "outputs": [
        {
          "output_type": "stream",
          "text": [
            "<class 'pandas.core.frame.DataFrame'>\n",
            "Int64Index: 194673 entries, 0 to 194672\n",
            "Data columns (total 47 columns):\n",
            " #   Column                                             Non-Null Count   Dtype  \n",
            "---  ------                                             --------------   -----  \n",
            " 0   Hour                                               194673 non-null  float64\n",
            " 1   Month                                              194673 non-null  float64\n",
            " 2   INATTENTIONIND                                     194673 non-null  int64  \n",
            " 3   UNDERINFL                                          194673 non-null  int64  \n",
            " 4   PEDROWNOTGRNT                                      194673 non-null  int64  \n",
            " 5   SPEEDING                                           194673 non-null  int64  \n",
            " 6   HITPARKEDCAR                                       194673 non-null  int64  \n",
            " 7   X                                                  194673 non-null  float64\n",
            " 8   Y                                                  194673 non-null  float64\n",
            " 9   PERSONCOUNT                                        194673 non-null  float64\n",
            " 10  PEDCOUNT                                           194673 non-null  float64\n",
            " 11  PEDCYLCOUNT                                        194673 non-null  float64\n",
            " 12  VEHCOUNT                                           194673 non-null  float64\n",
            " 13  Block                                              194673 non-null  int64  \n",
            " 14  Intersection                                       194673 non-null  int64  \n",
            " 15  Alley                                              194673 non-null  int64  \n",
            " 16  Mid-Block (not related to intersection)            194673 non-null  int64  \n",
            " 17  At Intersection (intersection related)             194673 non-null  int64  \n",
            " 18  Mid-Block (but intersection related)               194673 non-null  int64  \n",
            " 19  Driveway Junction                                  194673 non-null  int64  \n",
            " 20  At Intersection (but not related to intersection)  194673 non-null  int64  \n",
            " 21  Ramp Junction                                      194673 non-null  int64  \n",
            " 22  Clear                                              194673 non-null  int64  \n",
            " 23  Raining                                            194673 non-null  int64  \n",
            " 24  Overcast                                           194673 non-null  int64  \n",
            " 25  Snowing                                            194673 non-null  int64  \n",
            " 26  Fog/Smog/Smoke                                     194673 non-null  int64  \n",
            " 27  Sleet/Hail/Freezing Rain                           194673 non-null  int64  \n",
            " 28  Blowing Sand/Dirt                                  194673 non-null  int64  \n",
            " 29  Severe Crosswind                                   194673 non-null  int64  \n",
            " 30  Partly Cloudy                                      194673 non-null  int64  \n",
            " 31  Daylight                                           194673 non-null  int64  \n",
            " 32  Dark - Street Lights On                            194673 non-null  int64  \n",
            " 33  Dusk                                               194673 non-null  int64  \n",
            " 34  Dawn                                               194673 non-null  int64  \n",
            " 35  Dark - No Street Lights                            194673 non-null  int64  \n",
            " 36  Dark - Street Lights Off                           194673 non-null  int64  \n",
            " 37  Dark - Unknown Lighting                            194673 non-null  int64  \n",
            " 38  Parked Car                                         194673 non-null  int64  \n",
            " 39  Rear Ended                                         194673 non-null  int64  \n",
            " 40  Angles                                             194673 non-null  int64  \n",
            " 41  Sideswipe                                          194673 non-null  int64  \n",
            " 42  Left Turn                                          194673 non-null  int64  \n",
            " 43  Pedestrian                                         194673 non-null  int64  \n",
            " 44  Cycles                                             194673 non-null  int64  \n",
            " 45  Right Turn                                         194673 non-null  int64  \n",
            " 46  Head On                                            194673 non-null  int64  \n",
            "dtypes: float64(8), int64(39)\n",
            "memory usage: 71.3 MB\n"
          ],
          "name": "stdout"
        }
      ]
    },
    {
      "cell_type": "markdown",
      "metadata": {
        "id": "aGpmzVYcBUlk"
      },
      "source": [
        "# split data to train, test set"
      ]
    },
    {
      "cell_type": "code",
      "metadata": {
        "id": "OqA0_4NaBUlq"
      },
      "source": [
        "from sklearn.model_selection import train_test_split\n",
        "X_train,X_test,y_train,y_test=train_test_split(X,Y,test_size=.33,random_state=13)"
      ],
      "execution_count": 148,
      "outputs": []
    },
    {
      "cell_type": "code",
      "metadata": {
        "id": "Ws5T4kGHBUlu"
      },
      "source": [
        "from sklearn import metrics\n"
      ],
      "execution_count": 149,
      "outputs": []
    },
    {
      "cell_type": "code",
      "metadata": {
        "id": "tQRx5kxJBUl3"
      },
      "source": [
        "from sklearn.ensemble import RandomForestClassifier,VotingClassifier,GradientBoostingClassifier\n",
        "from sklearn.linear_model import LogisticRegression\n",
        "from sklearn.svm import SVC\n",
        "from sklearn.neighbors import KNeighborsClassifier\n",
        "from sklearn.linear_model import LinearRegression\n",
        "from sklearn.neighbors import KNeighborsRegressor\n",
        "from sklearn.neural_network import MLPRegressor,BernoulliRBM\n",
        "from sklearn.naive_bayes import GaussianNB,CategoricalNB\n",
        "from sklearn import preprocessing\n",
        "from sklearn.tree import DecisionTreeClassifier,DecisionTreeRegressor"
      ],
      "execution_count": 150,
      "outputs": []
    },
    {
      "cell_type": "markdown",
      "metadata": {
        "id": "R0O_p_FHBUl9"
      },
      "source": [
        "# logistic regression models"
      ]
    },
    {
      "cell_type": "code",
      "metadata": {
        "id": "a_ydB-19BUl-",
        "outputId": "56951b25-415d-4dad-cc89-4c1585ed0c36",
        "colab": {
          "base_uri": "https://localhost:8080/"
        }
      },
      "source": [
        "model_lr=LogisticRegression(solver='liblinear',max_iter=100)\n",
        "model_lr.fit(X_train,y_train)\n",
        "pred_lr=model_lr.predict(X_test)\n",
        "pred_lr_prob=model_lr.predict_proba(X_test)\n",
        "metrics.log_loss(y_test,pred_lr_prob),model_lr.score(X_test,y_test)\n"
      ],
      "execution_count": 151,
      "outputs": [
        {
          "output_type": "execute_result",
          "data": {
            "text/plain": [
              "(0.48453302734619663, 0.783976464361876)"
            ]
          },
          "metadata": {
            "tags": []
          },
          "execution_count": 151
        }
      ]
    },
    {
      "cell_type": "code",
      "metadata": {
        "id": "WeMDi5JoBUmD"
      },
      "source": [
        "def pred_2nd(pred):\n",
        "    pred1=[]\n",
        "    for i in pred:\n",
        "        pred1.append(i[1])\n",
        "    return pred1\n"
      ],
      "execution_count": 152,
      "outputs": []
    },
    {
      "cell_type": "code",
      "metadata": {
        "id": "zagPRJaBBUmK"
      },
      "source": [
        "pred_lr_prob2=pred_2nd(pred_lr_prob)\n",
        "fprlr, tprlr, thresholdslr = metrics.roc_curve(y_test, pred_lr_prob2, pos_label=2)\n"
      ],
      "execution_count": 153,
      "outputs": []
    },
    {
      "cell_type": "code",
      "metadata": {
        "id": "61Ryn_2jBUmS",
        "outputId": "61b9ca6f-e58d-4b1b-c2e9-75cd328024b1",
        "colab": {
          "base_uri": "https://localhost:8080/"
        }
      },
      "source": [
        "print(pd.crosstab(y_test,pred_lr))\n",
        "print(metrics.classification_report(y_test,pred_lr))\n"
      ],
      "execution_count": 154,
      "outputs": [
        {
          "output_type": "stream",
          "text": [
            "col_0             1     2\n",
            "SEVERITYCODE             \n",
            "1             43743  1275\n",
            "2             12603  6622\n",
            "              precision    recall  f1-score   support\n",
            "\n",
            "           1       0.78      0.97      0.86     45018\n",
            "           2       0.84      0.34      0.49     19225\n",
            "\n",
            "    accuracy                           0.78     64243\n",
            "   macro avg       0.81      0.66      0.68     64243\n",
            "weighted avg       0.79      0.78      0.75     64243\n",
            "\n"
          ],
          "name": "stdout"
        }
      ]
    },
    {
      "cell_type": "markdown",
      "metadata": {
        "id": "cgnjwGT-BUmY"
      },
      "source": [
        "# KNN model"
      ]
    },
    {
      "cell_type": "code",
      "metadata": {
        "id": "z4JHZy0hBUmZ",
        "outputId": "c5b53105-4db9-4df6-a74e-6701811b1362",
        "colab": {
          "base_uri": "https://localhost:8080/"
        }
      },
      "source": [
        "# acc_matrix=[]\n",
        "# acc_matrix1=[]\n",
        "# for i in range(11,50,4):\n",
        "#     model3=KNeighborsClassifier(n_neighbors=i)\n",
        "#     model3.fit(X_train,y_train)\n",
        "#     pred=model3.predict(X_test)\n",
        "#     acc_matrix.append(metrics.log_loss(y_test,pred))\n",
        "#     print (i,metrics.log_loss(y_test,pred),metrics.accuracy_score(y_test,pred))\n",
        "#there is no best model so i chose the simplest\n",
        "model_KNN=KNeighborsClassifier(n_neighbors=3)\n",
        "model_KNN.fit(X_train,y_train)\n"
      ],
      "execution_count": 157,
      "outputs": [
        {
          "output_type": "execute_result",
          "data": {
            "text/plain": [
              "KNeighborsClassifier(algorithm='auto', leaf_size=30, metric='minkowski',\n",
              "                     metric_params=None, n_jobs=None, n_neighbors=3, p=2,\n",
              "                     weights='uniform')"
            ]
          },
          "metadata": {
            "tags": []
          },
          "execution_count": 157
        }
      ]
    },
    {
      "cell_type": "code",
      "metadata": {
        "id": "7_d7vR5HBUmd"
      },
      "source": [
        "pred_knn_prob=model_KNN.predict_proba(X_test)\n",
        "pred_knn=model_KNN.predict(X_test)\n",
        "\n",
        "# plt.plot(acc_matrix)\n",
        "\n",
        "# pred=model_KNN.predict_proba(X_test)"
      ],
      "execution_count": 158,
      "outputs": []
    },
    {
      "cell_type": "code",
      "metadata": {
        "id": "-nKSe1pSBUmh",
        "outputId": "66bf4005-f868-4dde-c865-55d35488e3e2",
        "colab": {
          "base_uri": "https://localhost:8080/"
        }
      },
      "source": [
        "#pred=model_KNN.predict_proba(X_test)\n",
        "metrics.accuracy_score(y_test,pred_knn),metrics.log_loss(y_test,pred_knn)\n"
      ],
      "execution_count": 159,
      "outputs": [
        {
          "output_type": "execute_result",
          "data": {
            "text/plain": [
              "(0.7355509549678564, 24.20345612787699)"
            ]
          },
          "metadata": {
            "tags": []
          },
          "execution_count": 159
        }
      ]
    },
    {
      "cell_type": "code",
      "metadata": {
        "id": "5p-nh90WBUmn"
      },
      "source": [
        "pred_knn_prob2=pred_2nd(pred_knn_prob)\n",
        "fprknn, tprknn, thresholdsknn = metrics.roc_curve(y_test, pred_knn_prob2, pos_label=2)"
      ],
      "execution_count": 160,
      "outputs": []
    },
    {
      "cell_type": "code",
      "metadata": {
        "scrolled": true,
        "id": "hg7dONWiBUmt",
        "outputId": "b31c6de2-5a44-4b78-bd62-3d0abb925f00",
        "colab": {
          "base_uri": "https://localhost:8080/"
        }
      },
      "source": [
        "print(pd.crosstab(y_test,pred_knn))\n",
        "print(metrics.classification_report(y_test,pred_knn))\n"
      ],
      "execution_count": 161,
      "outputs": [
        {
          "output_type": "stream",
          "text": [
            "col_0             1     2\n",
            "SEVERITYCODE             \n",
            "1             39115  5903\n",
            "2             11086  8139\n",
            "              precision    recall  f1-score   support\n",
            "\n",
            "           1       0.78      0.87      0.82     45018\n",
            "           2       0.58      0.42      0.49     19225\n",
            "\n",
            "    accuracy                           0.74     64243\n",
            "   macro avg       0.68      0.65      0.66     64243\n",
            "weighted avg       0.72      0.74      0.72     64243\n",
            "\n"
          ],
          "name": "stdout"
        }
      ]
    },
    {
      "cell_type": "markdown",
      "metadata": {
        "id": "ZHwGLvFCBUm5"
      },
      "source": [
        "# Decession tree model"
      ]
    },
    {
      "cell_type": "code",
      "metadata": {
        "id": "KBmvKrCnBUm6",
        "outputId": "9a55f74c-d456-4f2a-c672-c7c4aed261cf",
        "colab": {
          "base_uri": "https://localhost:8080/"
        }
      },
      "source": [
        "\n",
        "\n",
        "model_DT=DecisionTreeClassifier()\n",
        "model_DT.fit(X_train,y_train)\n",
        "pred_dt_prob=model_DT.predict_proba(X_test)\n",
        "print(metrics.log_loss(y_test,pred_dt_prob),model_DT.score(X_test,y_test))\n",
        "pred_dt_prob2=pred_2nd(pred_dt_prob)\n",
        "fprdt, tprdt, thresholdsdt = metrics.roc_curve(y_test, pred_dt_prob2, pos_label=2)\n",
        "pred_dt=model_DT.predict(X_test)\n",
        "print(pd.crosstab(y_test,pred_dt))\n",
        "print(metrics.classification_report(y_test,pred_dt))"
      ],
      "execution_count": 162,
      "outputs": [
        {
          "output_type": "stream",
          "text": [
            "10.411739946760628 0.6985352489765422\n",
            "col_0             1      2\n",
            "SEVERITYCODE              \n",
            "1             34924  10094\n",
            "2              9273   9952\n",
            "              precision    recall  f1-score   support\n",
            "\n",
            "           1       0.79      0.78      0.78     45018\n",
            "           2       0.50      0.52      0.51     19225\n",
            "\n",
            "    accuracy                           0.70     64243\n",
            "   macro avg       0.64      0.65      0.64     64243\n",
            "weighted avg       0.70      0.70      0.70     64243\n",
            "\n"
          ],
          "name": "stdout"
        }
      ]
    },
    {
      "cell_type": "markdown",
      "metadata": {
        "id": "cmvRZbHtBUm-"
      },
      "source": [
        "# RandomForestClassifier"
      ]
    },
    {
      "cell_type": "code",
      "metadata": {
        "id": "T62KMxm7BUm_",
        "outputId": "b7bed986-7693-4397-f42c-bb40d224ed0c",
        "colab": {
          "base_uri": "https://localhost:8080/"
        }
      },
      "source": [
        "model_RF=RandomForestClassifier()\n",
        "model_RF.fit(X_train,y_train)\n",
        "pred_rf_prob=model_RF.predict_proba(X_test)\n",
        "print(metrics.log_loss(y_test,pred_rf_prob),model_RF.score(X_test,y_test))\n",
        "pred_rf_prob2=pred_2nd(pred_rf_prob)\n",
        "fprrf, tprrf, thresholdsrf = metrics.roc_curve(y_test, pred_rf_prob2, pos_label=2)\n",
        "pred_rf=model_RF.predict(X_test)\n",
        "print(pd.crosstab(y_test,pred_rf))\n",
        "print(metrics.classification_report(y_test,pred_rf))"
      ],
      "execution_count": 163,
      "outputs": [
        {
          "output_type": "stream",
          "text": [
            "0.4981694209628595 0.781703843220273\n",
            "col_0             1     2\n",
            "SEVERITYCODE             \n",
            "1             42139  2879\n",
            "2             11145  8080\n",
            "              precision    recall  f1-score   support\n",
            "\n",
            "           1       0.79      0.94      0.86     45018\n",
            "           2       0.74      0.42      0.54     19225\n",
            "\n",
            "    accuracy                           0.78     64243\n",
            "   macro avg       0.76      0.68      0.70     64243\n",
            "weighted avg       0.77      0.78      0.76     64243\n",
            "\n"
          ],
          "name": "stdout"
        }
      ]
    },
    {
      "cell_type": "markdown",
      "metadata": {
        "id": "xQAfy01sBUnF"
      },
      "source": [
        "# GradientBoostingClassifier"
      ]
    },
    {
      "cell_type": "code",
      "metadata": {
        "id": "yGmkjDvhBUnF",
        "outputId": "398cfd5c-01cf-4010-87cd-128bc4fadabf",
        "colab": {
          "base_uri": "https://localhost:8080/"
        }
      },
      "source": [
        "model_GBC=GradientBoostingClassifier()\n",
        "model_GBC.fit(X_train,y_train)\n",
        "pred_gbc_prob=model_GBC.predict_proba(X_test)\n",
        "print(metrics.log_loss(y_test,pred_gbc_prob),model_GBC.score(X_test,y_test))\n",
        "pred_gbc_prob2=pred_2nd(pred_gbc_prob)\n",
        "fprgb, tprgb, thresholdsgb = metrics.roc_curve(y_test, pred_gbc_prob2, pos_label=2)\n",
        "pred_gbc=model_GBC.predict(X_test)\n",
        "print(pd.crosstab(y_test,pred_gbc))\n",
        "print(metrics.classification_report(y_test,pred_gbc))"
      ],
      "execution_count": 164,
      "outputs": [
        {
          "output_type": "stream",
          "text": [
            "0.46478340083945274 0.7878679389194153\n",
            "col_0             1     2\n",
            "SEVERITYCODE             \n",
            "1             43744  1274\n",
            "2             12354  6871\n",
            "              precision    recall  f1-score   support\n",
            "\n",
            "           1       0.78      0.97      0.87     45018\n",
            "           2       0.84      0.36      0.50     19225\n",
            "\n",
            "    accuracy                           0.79     64243\n",
            "   macro avg       0.81      0.66      0.68     64243\n",
            "weighted avg       0.80      0.79      0.76     64243\n",
            "\n"
          ],
          "name": "stdout"
        }
      ]
    },
    {
      "cell_type": "markdown",
      "metadata": {
        "id": "U6jti5DhBUnJ"
      },
      "source": [
        "# SVM model with kfold 1/10 for training 9/10 for validation "
      ]
    },
    {
      "cell_type": "code",
      "metadata": {
        "id": "ef8FXaEvBUnK",
        "outputId": "0ac349ea-c8c0-4939-87e2-21161fb54c4d",
        "colab": {
          "base_uri": "https://localhost:8080/"
        }
      },
      "source": [
        "from sklearn.model_selection import KFold\n",
        "from sklearn.model_selection import cross_val_score\n",
        "model_svc=SVC(probability=True)\n",
        "# prepare the cross-validation procedure\n",
        "cv = KFold(n_splits=10, random_state=1, shuffle=True)\n",
        "# create model\n",
        "models_svm=[]\n",
        "log_loss=[]\n",
        "for test_index,train_index in cv.split(X):\n",
        "    model_svc.fit(X.iloc[train_index,:],Y.iloc[train_index])\n",
        "    pred_svc_prob=model_svc.predict_proba(X.iloc[test_index,:])\n",
        "    log_loss.append(metrics.log_loss(Y.iloc[test_index],pred_svc_prob))\n",
        "    models_svm.append(model_svc)\n",
        "print(log_loss)"
      ],
      "execution_count": 165,
      "outputs": [
        {
          "output_type": "stream",
          "text": [
            "[0.5019468941069699, 0.49840302665554215, 0.49729488319317106, 0.4996952209149869, 0.4977343279055632, 0.4992591595253105, 0.5006552670991352, 0.5000084202264796, 0.5023233486739256, 0.49923665439128084]\n"
          ],
          "name": "stdout"
        }
      ]
    },
    {
      "cell_type": "code",
      "metadata": {
        "scrolled": true,
        "id": "sZ_vKmrtBUnP",
        "outputId": "395197a4-4ea3-4144-b152-abb42519aa12",
        "colab": {
          "base_uri": "https://localhost:8080/"
        }
      },
      "source": [
        "# best model\n",
        "#models_svm[4].score(X.iloc[test_index,:],Y.iloc[test_index])\n",
        "pred_svm_prob=models_svm[4].predict_proba(X_test)\n",
        "print(metrics.log_loss(y_test,pred_svm_prob),models_svm[4].score(X_test,y_test))\n",
        "pred_svm_prob2=pred_2nd(pred_svm_prob)\n",
        "fprsvm, tprsvm, thresholdssvm = metrics.roc_curve(y_test, pred_svm_prob2, pos_label=2)"
      ],
      "execution_count": 166,
      "outputs": [
        {
          "output_type": "stream",
          "text": [
            "0.49714986101584735 0.7830269445698363\n"
          ],
          "name": "stdout"
        }
      ]
    },
    {
      "cell_type": "code",
      "metadata": {
        "id": "uABaYs3hBUnT",
        "outputId": "a12cbc6f-942b-4227-9972-7937b3c398ca",
        "colab": {
          "base_uri": "https://localhost:8080/"
        }
      },
      "source": [
        "pred_svm=models_svm[4].predict(X_test)\n",
        "print(pd.crosstab(y_test,pred_svm))\n",
        "print(metrics.classification_report(y_test,pred_svm))"
      ],
      "execution_count": 167,
      "outputs": [
        {
          "output_type": "stream",
          "text": [
            "col_0             1     2\n",
            "SEVERITYCODE             \n",
            "1             44242   776\n",
            "2             13163  6062\n",
            "              precision    recall  f1-score   support\n",
            "\n",
            "           1       0.77      0.98      0.86     45018\n",
            "           2       0.89      0.32      0.47     19225\n",
            "\n",
            "    accuracy                           0.78     64243\n",
            "   macro avg       0.83      0.65      0.66     64243\n",
            "weighted avg       0.81      0.78      0.74     64243\n",
            "\n"
          ],
          "name": "stdout"
        }
      ]
    },
    {
      "cell_type": "markdown",
      "metadata": {
        "id": "JVpEANaeBUna"
      },
      "source": [
        "# VotingClassifier"
      ]
    },
    {
      "cell_type": "code",
      "metadata": {
        "id": "YByLX7PUBUnb"
      },
      "source": [
        "# modelv=VotingClassifier(estimators=[('model_SVM',models_svm[4]),('model_KNN', model_KNN),('model_DT', model_DT), ('model_RF', model_RF), ('model_GBC', model_GBC)], voting='soft')\n",
        "# modelv.fit(X_train,y_train)#('model_KNN', model_KNN),\n",
        "# pred_v_prob=modelv.predict_proba(X_test)\n",
        "# print(metrics.log_loss(y_test,pred_v_prob),modelv.score(X_test,y_test))\n",
        "# pred_v_prob2=pred_2nd(pred_v_prob)\n",
        "# fprv, tprv, thresholdsv = metrics.roc_curve(y_test, pred_v_prob2, pos_label=2)\n",
        "# pred_v=modelv.predict(X_test)\n",
        "# print(pd.crosstab(y_test,pred_v))\n",
        "# print(metrics.classification_report(y_test,pred_v))"
      ],
      "execution_count": 168,
      "outputs": []
    },
    {
      "cell_type": "code",
      "metadata": {
        "id": "-dzR-YQ6BUnf",
        "outputId": "ab569e94-7766-4705-8ff4-e537de2fff38",
        "colab": {
          "base_uri": "https://localhost:8080/",
          "height": 623
        }
      },
      "source": [
        "plt.figure(figsize=(10,10))\n",
        "plt.plot(fprlr,tprlr,label='LR',c='m',linestyle='dashed')\n",
        "plt.plot(fprknn,tprknn,label='KNN',c='b',linestyle='dashed')\n",
        "plt.plot(fprdt,tprdt,label='DT',c='g',linestyle='dashed')\n",
        "plt.plot(fprrf,tprrf,label='RF',c='y',linestyle='dashed')\n",
        "plt.plot(fprsvm,tprsvm,label='SVM',c='c',linestyle='dashed')\n",
        "\n",
        "#plt.plot(fprv,tprv,label='Vote',c='b',linestyle='dashed')\n",
        "plt.plot(fprgb,tprgb,label='GB',c='r',linestyle='dashed')\n",
        "plt.xlabel(\"False Positive ratio\")\n",
        "plt.ylabel(\"True Positive ratio\")\n",
        "plt.legend()"
      ],
      "execution_count": 169,
      "outputs": [
        {
          "output_type": "execute_result",
          "data": {
            "text/plain": [
              "<matplotlib.legend.Legend at 0x7f392f17d5f8>"
            ]
          },
          "metadata": {
            "tags": []
          },
          "execution_count": 169
        },
        {
          "output_type": "display_data",
          "data": {
            "image/png": "[encoded data removed]",
            "text/plain": [
              "<Figure size 720x720 with 1 Axes>"
            ]
          },
          "metadata": {
            "tags": [],
            "needs_background": "light"
          }
        }
      ]
    },
    {
      "cell_type": "code",
      "metadata": {
        "id": "p1svOtuJBUnj"
      },
      "source": [
        "importance=pd.DataFrame({'importance':model_GBC.feature_importances_} ,index=X_train.columns)"
      ],
      "execution_count": 170,
      "outputs": []
    },
    {
      "cell_type": "code",
      "metadata": {
        "id": "MaC8gPNOBUnn",
        "outputId": "b11cd5bd-4ff8-48a2-b516-855625994cb9",
        "colab": {
          "base_uri": "https://localhost:8080/",
          "height": 832
        }
      },
      "source": [
        "fig=plt.figure(figsize=(10,10))\n",
        "ax=plt.subplot(111)\n",
        "importance.sort_values(by='importance',ascending=False).plot(kind='bar',ax=ax)"
      ],
      "execution_count": 171,
      "outputs": [
        {
          "output_type": "execute_result",
          "data": {
            "text/plain": [
              "<matplotlib.axes._subplots.AxesSubplot at 0x7f392f5fb160>"
            ]
          },
          "metadata": {
            "tags": []
          },
          "execution_count": 171
        },
        {
          "output_type": "display_data",
          "data": {
            "image/png": "[encoded data removed]",
            "text/plain": [
              "<Figure size 720x720 with 1 Axes>"
            ]
          },
          "metadata": {
            "tags": [],
            "needs_background": "light"
          }
        }
      ]
    },
    {
      "cell_type": "code",
      "metadata": {
        "id": "UPXl1pO5BUnt"
      },
      "source": [
        "\n"
      ],
      "execution_count": null,
      "outputs": []
    },
    {
      "cell_type": "code",
      "metadata": {
        "id": "1NDuiobPBUnx"
      },
      "source": [
        ""
      ],
      "execution_count": null,
      "outputs": []
    }
  ]
}