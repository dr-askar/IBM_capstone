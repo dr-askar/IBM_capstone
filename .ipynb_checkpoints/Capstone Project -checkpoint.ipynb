{
 "cells": [
  {
   "cell_type": "markdown",
   "metadata": {},
   "source": [
    "# Capstone Project"
   ]
  },
  {
   "cell_type": "code",
   "execution_count": 2,
   "metadata": {},
   "outputs": [],
   "source": [
    "import numpy as np\n",
    "import pandas as pd"
   ]
  },
  {
   "cell_type": "code",
   "execution_count": 3,
   "metadata": {},
   "outputs": [
    {
     "name": "stdout",
     "output_type": "stream",
     "text": [
      "Hello Capstone Project Course!\n"
     ]
    }
   ],
   "source": [
    "print('Hello Capstone Project Course!')"
   ]
  },
  {
   "cell_type": "markdown",
   "metadata": {},
   "source": [
    "# Introduction/Business Problem "
   ]
  },
  {
   "cell_type": "markdown",
   "metadata": {},
   "source": [
    "# Load Data "
   ]
  },
  {
   "cell_type": "code",
   "execution_count": 4,
   "metadata": {},
   "outputs": [
    {
     "name": "stderr",
     "output_type": "stream",
     "text": [
      "C:\\Users\\mohammad\\Miniconda3\\lib\\site-packages\\IPython\\core\\interactiveshell.py:3020: DtypeWarning: Columns (33) have mixed types. Specify dtype option on import or set low_memory=False.\n",
      "  interactivity=interactivity, compiler=compiler, result=result)\n"
     ]
    }
   ],
   "source": [
    "df=pd.read_csv(r'Data-Collisions.csv')"
   ]
  },
  {
   "cell_type": "markdown",
   "metadata": {},
   "source": [
    "# remove unnecessary features"
   ]
  },
  {
   "cell_type": "code",
   "execution_count": 5,
   "metadata": {},
   "outputs": [
    {
     "data": {
      "text/html": [
       "<div>\n",
       "<style scoped>\n",
       "    .dataframe tbody tr th:only-of-type {\n",
       "        vertical-align: middle;\n",
       "    }\n",
       "\n",
       "    .dataframe tbody tr th {\n",
       "        vertical-align: top;\n",
       "    }\n",
       "\n",
       "    .dataframe thead th {\n",
       "        text-align: right;\n",
       "    }\n",
       "</style>\n",
       "<table border=\"1\" class=\"dataframe\">\n",
       "  <thead>\n",
       "    <tr style=\"text-align: right;\">\n",
       "      <th></th>\n",
       "      <th>SEVERITYCODE</th>\n",
       "      <th>X</th>\n",
       "      <th>Y</th>\n",
       "      <th>ADDRTYPE</th>\n",
       "      <th>COLLISIONTYPE</th>\n",
       "      <th>PERSONCOUNT</th>\n",
       "      <th>PEDCOUNT</th>\n",
       "      <th>PEDCYLCOUNT</th>\n",
       "      <th>VEHCOUNT</th>\n",
       "      <th>INCDTTM</th>\n",
       "      <th>...</th>\n",
       "      <th>UNDERINFL</th>\n",
       "      <th>WEATHER</th>\n",
       "      <th>ROADCOND</th>\n",
       "      <th>LIGHTCOND</th>\n",
       "      <th>PEDROWNOTGRNT</th>\n",
       "      <th>SPEEDING</th>\n",
       "      <th>ST_COLCODE</th>\n",
       "      <th>SEGLANEKEY</th>\n",
       "      <th>CROSSWALKKEY</th>\n",
       "      <th>HITPARKEDCAR</th>\n",
       "    </tr>\n",
       "  </thead>\n",
       "  <tbody>\n",
       "    <tr>\n",
       "      <th>0</th>\n",
       "      <td>2</td>\n",
       "      <td>-122.323148</td>\n",
       "      <td>47.703140</td>\n",
       "      <td>Intersection</td>\n",
       "      <td>Angles</td>\n",
       "      <td>2</td>\n",
       "      <td>0</td>\n",
       "      <td>0</td>\n",
       "      <td>2</td>\n",
       "      <td>3/27/2013 2:54:00 PM</td>\n",
       "      <td>...</td>\n",
       "      <td>N</td>\n",
       "      <td>Overcast</td>\n",
       "      <td>Wet</td>\n",
       "      <td>Daylight</td>\n",
       "      <td>NaN</td>\n",
       "      <td>NaN</td>\n",
       "      <td>10</td>\n",
       "      <td>0</td>\n",
       "      <td>0</td>\n",
       "      <td>N</td>\n",
       "    </tr>\n",
       "    <tr>\n",
       "      <th>1</th>\n",
       "      <td>1</td>\n",
       "      <td>-122.347294</td>\n",
       "      <td>47.647172</td>\n",
       "      <td>Block</td>\n",
       "      <td>Sideswipe</td>\n",
       "      <td>2</td>\n",
       "      <td>0</td>\n",
       "      <td>0</td>\n",
       "      <td>2</td>\n",
       "      <td>12/20/2006 6:55:00 PM</td>\n",
       "      <td>...</td>\n",
       "      <td>0</td>\n",
       "      <td>Raining</td>\n",
       "      <td>Wet</td>\n",
       "      <td>Dark - Street Lights On</td>\n",
       "      <td>NaN</td>\n",
       "      <td>NaN</td>\n",
       "      <td>11</td>\n",
       "      <td>0</td>\n",
       "      <td>0</td>\n",
       "      <td>N</td>\n",
       "    </tr>\n",
       "    <tr>\n",
       "      <th>2</th>\n",
       "      <td>1</td>\n",
       "      <td>-122.334540</td>\n",
       "      <td>47.607871</td>\n",
       "      <td>Block</td>\n",
       "      <td>Parked Car</td>\n",
       "      <td>4</td>\n",
       "      <td>0</td>\n",
       "      <td>0</td>\n",
       "      <td>3</td>\n",
       "      <td>11/18/2004 10:20:00 AM</td>\n",
       "      <td>...</td>\n",
       "      <td>0</td>\n",
       "      <td>Overcast</td>\n",
       "      <td>Dry</td>\n",
       "      <td>Daylight</td>\n",
       "      <td>NaN</td>\n",
       "      <td>NaN</td>\n",
       "      <td>32</td>\n",
       "      <td>0</td>\n",
       "      <td>0</td>\n",
       "      <td>N</td>\n",
       "    </tr>\n",
       "    <tr>\n",
       "      <th>3</th>\n",
       "      <td>1</td>\n",
       "      <td>-122.334803</td>\n",
       "      <td>47.604803</td>\n",
       "      <td>Block</td>\n",
       "      <td>Other</td>\n",
       "      <td>3</td>\n",
       "      <td>0</td>\n",
       "      <td>0</td>\n",
       "      <td>3</td>\n",
       "      <td>3/29/2013 9:26:00 AM</td>\n",
       "      <td>...</td>\n",
       "      <td>N</td>\n",
       "      <td>Clear</td>\n",
       "      <td>Dry</td>\n",
       "      <td>Daylight</td>\n",
       "      <td>NaN</td>\n",
       "      <td>NaN</td>\n",
       "      <td>23</td>\n",
       "      <td>0</td>\n",
       "      <td>0</td>\n",
       "      <td>N</td>\n",
       "    </tr>\n",
       "    <tr>\n",
       "      <th>4</th>\n",
       "      <td>2</td>\n",
       "      <td>-122.306426</td>\n",
       "      <td>47.545739</td>\n",
       "      <td>Intersection</td>\n",
       "      <td>Angles</td>\n",
       "      <td>2</td>\n",
       "      <td>0</td>\n",
       "      <td>0</td>\n",
       "      <td>2</td>\n",
       "      <td>1/28/2004 8:04:00 AM</td>\n",
       "      <td>...</td>\n",
       "      <td>0</td>\n",
       "      <td>Raining</td>\n",
       "      <td>Wet</td>\n",
       "      <td>Daylight</td>\n",
       "      <td>NaN</td>\n",
       "      <td>NaN</td>\n",
       "      <td>10</td>\n",
       "      <td>0</td>\n",
       "      <td>0</td>\n",
       "      <td>N</td>\n",
       "    </tr>\n",
       "  </tbody>\n",
       "</table>\n",
       "<p>5 rows × 23 columns</p>\n",
       "</div>"
      ],
      "text/plain": [
       "   SEVERITYCODE           X          Y      ADDRTYPE COLLISIONTYPE  \\\n",
       "0             2 -122.323148  47.703140  Intersection        Angles   \n",
       "1             1 -122.347294  47.647172         Block     Sideswipe   \n",
       "2             1 -122.334540  47.607871         Block    Parked Car   \n",
       "3             1 -122.334803  47.604803         Block         Other   \n",
       "4             2 -122.306426  47.545739  Intersection        Angles   \n",
       "\n",
       "   PERSONCOUNT  PEDCOUNT  PEDCYLCOUNT  VEHCOUNT                 INCDTTM  \\\n",
       "0            2         0            0         2    3/27/2013 2:54:00 PM   \n",
       "1            2         0            0         2   12/20/2006 6:55:00 PM   \n",
       "2            4         0            0         3  11/18/2004 10:20:00 AM   \n",
       "3            3         0            0         3    3/29/2013 9:26:00 AM   \n",
       "4            2         0            0         2    1/28/2004 8:04:00 AM   \n",
       "\n",
       "      ...      UNDERINFL   WEATHER ROADCOND                LIGHTCOND  \\\n",
       "0     ...              N  Overcast      Wet                 Daylight   \n",
       "1     ...              0   Raining      Wet  Dark - Street Lights On   \n",
       "2     ...              0  Overcast      Dry                 Daylight   \n",
       "3     ...              N     Clear      Dry                 Daylight   \n",
       "4     ...              0   Raining      Wet                 Daylight   \n",
       "\n",
       "  PEDROWNOTGRNT SPEEDING ST_COLCODE SEGLANEKEY CROSSWALKKEY HITPARKEDCAR  \n",
       "0           NaN      NaN         10          0            0            N  \n",
       "1           NaN      NaN         11          0            0            N  \n",
       "2           NaN      NaN         32          0            0            N  \n",
       "3           NaN      NaN         23          0            0            N  \n",
       "4           NaN      NaN         10          0            0            N  \n",
       "\n",
       "[5 rows x 23 columns]"
      ]
     },
     "execution_count": 5,
     "metadata": {},
     "output_type": "execute_result"
    }
   ],
   "source": [
    "#df.iloc[:,38]\n",
    "drop=['OBJECTID','INCKEY','INTKEY','COLDETKEY','REPORTNO','STATUS' ,'LOCATION','EXCEPTRSNDESC','EXCEPTRSNCODE','SEVERITYCODE.1','SEVERITYDESC'\n",
    "     ,'INCDATE','SDOT_COLDESC','SDOTCOLNUM','ST_COLDESC']\n",
    "df1=df.drop(drop,axis=1)\n",
    "df1.head()"
   ]
  },
  {
   "cell_type": "markdown",
   "metadata": {},
   "source": [
    "# percentage of na value in each feature"
   ]
  },
  {
   "cell_type": "code",
   "execution_count": 6,
   "metadata": {},
   "outputs": [
    {
     "name": "stdout",
     "output_type": "stream",
     "text": [
      "False    100.0\n",
      "Name: SEVERITYCODE, dtype: float64\n",
      "False    97.260021\n",
      "True      2.739979\n",
      "Name: X, dtype: float64\n",
      "False    97.260021\n",
      "True      2.739979\n",
      "Name: Y, dtype: float64\n",
      "False    99.010649\n",
      "True      0.989351\n",
      "Name: ADDRTYPE, dtype: float64\n",
      "False    97.480904\n",
      "True      2.519096\n",
      "Name: COLLISIONTYPE, dtype: float64\n",
      "False    100.0\n",
      "Name: PERSONCOUNT, dtype: float64\n",
      "False    100.0\n",
      "Name: PEDCOUNT, dtype: float64\n",
      "False    100.0\n",
      "Name: PEDCYLCOUNT, dtype: float64\n",
      "False    100.0\n",
      "Name: VEHCOUNT, dtype: float64\n",
      "False    100.0\n",
      "Name: INCDTTM, dtype: float64\n",
      "False    96.748907\n",
      "True      3.251093\n",
      "Name: JUNCTIONTYPE, dtype: float64\n",
      "False    100.0\n",
      "Name: SDOT_COLCODE, dtype: float64\n",
      "True     84.68971\n",
      "False    15.31029\n",
      "Name: INATTENTIONIND, dtype: float64\n",
      "False    97.491178\n",
      "True      2.508822\n",
      "Name: UNDERINFL, dtype: float64\n",
      "False    97.389982\n",
      "True      2.610018\n",
      "Name: WEATHER, dtype: float64\n",
      "False    97.425426\n",
      "True      2.574574\n",
      "Name: ROADCOND, dtype: float64\n",
      "False    97.344264\n",
      "True      2.655736\n",
      "Name: LIGHTCOND, dtype: float64\n",
      "True     97.602646\n",
      "False     2.397354\n",
      "Name: PEDROWNOTGRNT, dtype: float64\n",
      "True     95.205807\n",
      "False     4.794193\n",
      "Name: SPEEDING, dtype: float64\n",
      "False    99.990754\n",
      "True      0.009246\n",
      "Name: ST_COLCODE, dtype: float64\n",
      "False    100.0\n",
      "Name: SEGLANEKEY, dtype: float64\n",
      "False    100.0\n",
      "Name: CROSSWALKKEY, dtype: float64\n",
      "False    100.0\n",
      "Name: HITPARKEDCAR, dtype: float64\n"
     ]
    }
   ],
   "source": [
    "for i in df1.columns:\n",
    "    print(100*df1.isna()[i].value_counts()/df1.isna()[i].count())\n",
    "#x=[X,Y,ADDRTYPE,INCDTTM,JUNCTIONTYPE,INATTENTIONIND,UNDERINFL,WEATHER,LIGHTCOND,PEDROWNOTGRNT,SPEEDING,SEGLANEKEY,CROSSWALKKEY,HITPARKEDCAR]    \n",
    "#Y=[SEVERITYCODE,COLLISIONTYPE,PERSONCOUNT,PEDCOUNT,PEDCYLCOUNT,VEHCOUNT,SDOT_COLCODE]"
   ]
  },
  {
   "cell_type": "markdown",
   "metadata": {},
   "source": [
    "# consider Nan values as No in INATTENTIONIND,UNDERINFL,SPEEDING,PEDROWNOTGRNT"
   ]
  },
  {
   "cell_type": "code",
   "execution_count": 7,
   "metadata": {},
   "outputs": [],
   "source": [
    "\n",
    "df1['INATTENTIONIND'].replace(np.NAN,'N',inplace=True)\n",
    "df1['UNDERINFL'].replace('0','N',inplace=True)\n",
    "df1['UNDERINFL'].replace('1','Y',inplace=True)\n",
    "df1['SPEEDING'].replace(np.NAN,'N',inplace=True)\n",
    "df1['PEDROWNOTGRNT'].replace(np.NAN,'N',inplace=True)"
   ]
  },
  {
   "cell_type": "markdown",
   "metadata": {},
   "source": [
    "# deal with other and unknown values as NaN "
   ]
  },
  {
   "cell_type": "code",
   "execution_count": 8,
   "metadata": {},
   "outputs": [],
   "source": [
    "\n",
    "df1['COLLISIONTYPE'].replace('Other',np.NAN,inplace=True)\n",
    "df1['JUNCTIONTYPE'].replace('Unknown',np.NAN,inplace=True)\n",
    "df1['WEATHER'].replace('Other',np.NAN,inplace=True)\n",
    "df1['WEATHER'].replace('Unknown',np.NAN,inplace=True)\n",
    "df1['ROADCOND'].replace('Other',np.NAN,inplace=True)\n",
    "df1['ROADCOND'].replace('Unknown',np.NAN,inplace=True)\n",
    "df1['LIGHTCOND'].replace('Other',np.NAN,inplace=True)\n",
    "df1['LIGHTCOND'].replace('Unknown',np.NAN,inplace=True)\n"
   ]
  },
  {
   "cell_type": "markdown",
   "metadata": {},
   "source": [
    "# drop NaN values for SEVERITYCODE"
   ]
  },
  {
   "cell_type": "code",
   "execution_count": 9,
   "metadata": {},
   "outputs": [],
   "source": [
    "\n",
    "df1.dropna(subset=['SEVERITYCODE'],how='any',inplace=True)"
   ]
  },
  {
   "cell_type": "markdown",
   "metadata": {},
   "source": [
    "# separate to tow main classes 1 and 2"
   ]
  },
  {
   "cell_type": "code",
   "execution_count": 10,
   "metadata": {},
   "outputs": [],
   "source": [
    "\n",
    "df_1=df1[df1['SEVERITYCODE']==1]\n",
    "df_2=df1[df1['SEVERITYCODE']==2]"
   ]
  },
  {
   "cell_type": "code",
   "execution_count": 11,
   "metadata": {},
   "outputs": [],
   "source": [
    "# compute mean values for each numeric feature for each class after removing NaN"
   ]
  },
  {
   "cell_type": "code",
   "execution_count": 12,
   "metadata": {},
   "outputs": [],
   "source": [
    "\n",
    "mean1=df_1[ df_1.notna()]._get_numeric_data().mean()\n",
    "\n",
    "mean2=df_2[ df_2.notna()]._get_numeric_data().mean()\n"
   ]
  },
  {
   "cell_type": "code",
   "execution_count": 13,
   "metadata": {},
   "outputs": [],
   "source": [
    "# make dictionaries for mean values"
   ]
  },
  {
   "cell_type": "code",
   "execution_count": 14,
   "metadata": {},
   "outputs": [],
   "source": [
    "\n",
    "mean1={'X':mean1[1],'Y':mean1[2],'PERSONCOUNT':mean1[3],'PEDCOUNT':mean1[4],'PEDCYLCOUNT':mean1[5],'VEHCOUNT':mean1[6],'SDOT_COLCODE':mean1[7],'SEGLANEKEY':mean1[8],'CROSSWALKKEY':mean1[9]}\n",
    "\n",
    "mean2={'X':mean2[1],'Y':mean2[2],'PERSONCOUNT':mean2[3],'PEDCOUNT':mean2[4],'PEDCYLCOUNT':mean2[5],'VEHCOUNT':mean2[6],'SDOT_COLCODE':mean2[7],'SEGLANEKEY':mean2[8],'CROSSWALKKEY':mean2[9]}\n"
   ]
  },
  {
   "cell_type": "code",
   "execution_count": 15,
   "metadata": {},
   "outputs": [],
   "source": [
    "#fill NaN in numeric features with suitable values"
   ]
  },
  {
   "cell_type": "code",
   "execution_count": 16,
   "metadata": {},
   "outputs": [
    {
     "name": "stderr",
     "output_type": "stream",
     "text": [
      "C:\\Users\\mohammad\\Miniconda3\\lib\\site-packages\\pandas\\core\\generic.py:5434: SettingWithCopyWarning: \n",
      "A value is trying to be set on a copy of a slice from a DataFrame\n",
      "\n",
      "See the caveats in the documentation: http://pandas.pydata.org/pandas-docs/stable/indexing.html#indexing-view-versus-copy\n",
      "  self._update_inplace(new_data)\n"
     ]
    }
   ],
   "source": [
    "\n",
    "df_1.fillna(value=mean1,axis=0,inplace=True)\n",
    "df_2.fillna(value=mean2,axis=0,inplace=True)"
   ]
  },
  {
   "cell_type": "markdown",
   "metadata": {},
   "source": [
    "# fill object features NaN values with Mode values for class 1 "
   ]
  },
  {
   "cell_type": "code",
   "execution_count": 17,
   "metadata": {},
   "outputs": [
    {
     "name": "stdout",
     "output_type": "stream",
     "text": [
      "ADDRTYPE : Block\n",
      "COLLISIONTYPE : Parked Car\n",
      "INCDTTM : 10/3/2008\n",
      "JUNCTIONTYPE : Mid-Block (not related to intersection)\n",
      "INATTENTIONIND : N\n",
      "UNDERINFL : N\n",
      "WEATHER : Clear\n",
      "ROADCOND : Dry\n",
      "LIGHTCOND : Daylight\n",
      "PEDROWNOTGRNT : N\n",
      "SPEEDING : N\n",
      "ST_COLCODE : 32\n",
      "HITPARKEDCAR : N\n"
     ]
    }
   ],
   "source": [
    "\n",
    "for i in df_1[ df_1.notna()].columns:\n",
    "    if df_1[ df_1.notna()].loc[:,i].dtype=='object':\n",
    "        df_1.loc[:,i].fillna(value=df_1[ df_1.notna()].loc[:,i].value_counts().idxmax(),axis=0,inplace=True)\n",
    "        print(i,':',df_1[ df_1.notna()].loc[:,i].value_counts().idxmax())\n"
   ]
  },
  {
   "cell_type": "markdown",
   "metadata": {},
   "source": [
    "# fill object features NaN values with Mode values for class 2"
   ]
  },
  {
   "cell_type": "code",
   "execution_count": 18,
   "metadata": {
    "scrolled": true
   },
   "outputs": [
    {
     "name": "stdout",
     "output_type": "stream",
     "text": [
      "ADDRTYPE : Block\n",
      "COLLISIONTYPE : Rear Ended\n",
      "INCDTTM : 11/2/2006\n",
      "JUNCTIONTYPE : At Intersection (intersection related)\n",
      "INATTENTIONIND : N\n",
      "UNDERINFL : N\n",
      "WEATHER : Clear\n",
      "ROADCOND : Dry\n",
      "LIGHTCOND : Daylight\n",
      "PEDROWNOTGRNT : N\n",
      "SPEEDING : N\n",
      "ST_COLCODE : 10\n",
      "HITPARKEDCAR : N\n"
     ]
    }
   ],
   "source": [
    "\n",
    "for i in df_2[ df_2.notna()].columns:\n",
    "    if df_2[ df_2.notna()].loc[:,i].dtype=='object':\n",
    "        df_2.loc[:,i].fillna(value=df_2[ df_2.notna()].loc[:,i].value_counts().idxmax(),axis=0,inplace=True)\n",
    "        print(i,':',df_2[ df_2.notna()].loc[:,i].value_counts().idxmax())\n"
   ]
  },
  {
   "cell_type": "code",
   "execution_count": 19,
   "metadata": {},
   "outputs": [],
   "source": [
    "# dataframe after cleaning"
   ]
  },
  {
   "cell_type": "code",
   "execution_count": 20,
   "metadata": {},
   "outputs": [
    {
     "data": {
      "text/html": [
       "<div>\n",
       "<style scoped>\n",
       "    .dataframe tbody tr th:only-of-type {\n",
       "        vertical-align: middle;\n",
       "    }\n",
       "\n",
       "    .dataframe tbody tr th {\n",
       "        vertical-align: top;\n",
       "    }\n",
       "\n",
       "    .dataframe thead th {\n",
       "        text-align: right;\n",
       "    }\n",
       "</style>\n",
       "<table border=\"1\" class=\"dataframe\">\n",
       "  <thead>\n",
       "    <tr style=\"text-align: right;\">\n",
       "      <th></th>\n",
       "      <th>SEVERITYCODE</th>\n",
       "      <th>X</th>\n",
       "      <th>Y</th>\n",
       "      <th>ADDRTYPE</th>\n",
       "      <th>COLLISIONTYPE</th>\n",
       "      <th>PERSONCOUNT</th>\n",
       "      <th>PEDCOUNT</th>\n",
       "      <th>PEDCYLCOUNT</th>\n",
       "      <th>VEHCOUNT</th>\n",
       "      <th>INCDTTM</th>\n",
       "      <th>...</th>\n",
       "      <th>UNDERINFL</th>\n",
       "      <th>WEATHER</th>\n",
       "      <th>ROADCOND</th>\n",
       "      <th>LIGHTCOND</th>\n",
       "      <th>PEDROWNOTGRNT</th>\n",
       "      <th>SPEEDING</th>\n",
       "      <th>ST_COLCODE</th>\n",
       "      <th>SEGLANEKEY</th>\n",
       "      <th>CROSSWALKKEY</th>\n",
       "      <th>HITPARKEDCAR</th>\n",
       "    </tr>\n",
       "  </thead>\n",
       "  <tbody>\n",
       "    <tr>\n",
       "      <th>1</th>\n",
       "      <td>1</td>\n",
       "      <td>-122.347294</td>\n",
       "      <td>47.647172</td>\n",
       "      <td>Block</td>\n",
       "      <td>Sideswipe</td>\n",
       "      <td>2</td>\n",
       "      <td>0</td>\n",
       "      <td>0</td>\n",
       "      <td>2</td>\n",
       "      <td>12/20/2006 6:55:00 PM</td>\n",
       "      <td>...</td>\n",
       "      <td>N</td>\n",
       "      <td>Raining</td>\n",
       "      <td>Wet</td>\n",
       "      <td>Dark - Street Lights On</td>\n",
       "      <td>N</td>\n",
       "      <td>N</td>\n",
       "      <td>11</td>\n",
       "      <td>0</td>\n",
       "      <td>0</td>\n",
       "      <td>N</td>\n",
       "    </tr>\n",
       "    <tr>\n",
       "      <th>2</th>\n",
       "      <td>1</td>\n",
       "      <td>-122.334540</td>\n",
       "      <td>47.607871</td>\n",
       "      <td>Block</td>\n",
       "      <td>Parked Car</td>\n",
       "      <td>4</td>\n",
       "      <td>0</td>\n",
       "      <td>0</td>\n",
       "      <td>3</td>\n",
       "      <td>11/18/2004 10:20:00 AM</td>\n",
       "      <td>...</td>\n",
       "      <td>N</td>\n",
       "      <td>Overcast</td>\n",
       "      <td>Dry</td>\n",
       "      <td>Daylight</td>\n",
       "      <td>N</td>\n",
       "      <td>N</td>\n",
       "      <td>32</td>\n",
       "      <td>0</td>\n",
       "      <td>0</td>\n",
       "      <td>N</td>\n",
       "    </tr>\n",
       "    <tr>\n",
       "      <th>3</th>\n",
       "      <td>1</td>\n",
       "      <td>-122.334803</td>\n",
       "      <td>47.604803</td>\n",
       "      <td>Block</td>\n",
       "      <td>Parked Car</td>\n",
       "      <td>3</td>\n",
       "      <td>0</td>\n",
       "      <td>0</td>\n",
       "      <td>3</td>\n",
       "      <td>3/29/2013 9:26:00 AM</td>\n",
       "      <td>...</td>\n",
       "      <td>N</td>\n",
       "      <td>Clear</td>\n",
       "      <td>Dry</td>\n",
       "      <td>Daylight</td>\n",
       "      <td>N</td>\n",
       "      <td>N</td>\n",
       "      <td>23</td>\n",
       "      <td>0</td>\n",
       "      <td>0</td>\n",
       "      <td>N</td>\n",
       "    </tr>\n",
       "    <tr>\n",
       "      <th>5</th>\n",
       "      <td>1</td>\n",
       "      <td>-122.387598</td>\n",
       "      <td>47.690575</td>\n",
       "      <td>Intersection</td>\n",
       "      <td>Angles</td>\n",
       "      <td>2</td>\n",
       "      <td>0</td>\n",
       "      <td>0</td>\n",
       "      <td>2</td>\n",
       "      <td>4/20/2019 5:42:00 PM</td>\n",
       "      <td>...</td>\n",
       "      <td>N</td>\n",
       "      <td>Clear</td>\n",
       "      <td>Dry</td>\n",
       "      <td>Daylight</td>\n",
       "      <td>N</td>\n",
       "      <td>N</td>\n",
       "      <td>10</td>\n",
       "      <td>0</td>\n",
       "      <td>0</td>\n",
       "      <td>N</td>\n",
       "    </tr>\n",
       "    <tr>\n",
       "      <th>6</th>\n",
       "      <td>1</td>\n",
       "      <td>-122.338485</td>\n",
       "      <td>47.618534</td>\n",
       "      <td>Intersection</td>\n",
       "      <td>Angles</td>\n",
       "      <td>2</td>\n",
       "      <td>0</td>\n",
       "      <td>0</td>\n",
       "      <td>2</td>\n",
       "      <td>12/9/2008</td>\n",
       "      <td>...</td>\n",
       "      <td>N</td>\n",
       "      <td>Raining</td>\n",
       "      <td>Wet</td>\n",
       "      <td>Daylight</td>\n",
       "      <td>N</td>\n",
       "      <td>N</td>\n",
       "      <td>10</td>\n",
       "      <td>0</td>\n",
       "      <td>0</td>\n",
       "      <td>N</td>\n",
       "    </tr>\n",
       "  </tbody>\n",
       "</table>\n",
       "<p>5 rows × 23 columns</p>\n",
       "</div>"
      ],
      "text/plain": [
       "   SEVERITYCODE           X          Y      ADDRTYPE COLLISIONTYPE  \\\n",
       "1             1 -122.347294  47.647172         Block     Sideswipe   \n",
       "2             1 -122.334540  47.607871         Block    Parked Car   \n",
       "3             1 -122.334803  47.604803         Block    Parked Car   \n",
       "5             1 -122.387598  47.690575  Intersection        Angles   \n",
       "6             1 -122.338485  47.618534  Intersection        Angles   \n",
       "\n",
       "   PERSONCOUNT  PEDCOUNT  PEDCYLCOUNT  VEHCOUNT                 INCDTTM  \\\n",
       "1            2         0            0         2   12/20/2006 6:55:00 PM   \n",
       "2            4         0            0         3  11/18/2004 10:20:00 AM   \n",
       "3            3         0            0         3    3/29/2013 9:26:00 AM   \n",
       "5            2         0            0         2    4/20/2019 5:42:00 PM   \n",
       "6            2         0            0         2               12/9/2008   \n",
       "\n",
       "      ...      UNDERINFL   WEATHER ROADCOND                LIGHTCOND  \\\n",
       "1     ...              N   Raining      Wet  Dark - Street Lights On   \n",
       "2     ...              N  Overcast      Dry                 Daylight   \n",
       "3     ...              N     Clear      Dry                 Daylight   \n",
       "5     ...              N     Clear      Dry                 Daylight   \n",
       "6     ...              N   Raining      Wet                 Daylight   \n",
       "\n",
       "  PEDROWNOTGRNT SPEEDING ST_COLCODE SEGLANEKEY CROSSWALKKEY HITPARKEDCAR  \n",
       "1             N        N         11          0            0            N  \n",
       "2             N        N         32          0            0            N  \n",
       "3             N        N         23          0            0            N  \n",
       "5             N        N         10          0            0            N  \n",
       "6             N        N         10          0            0            N  \n",
       "\n",
       "[5 rows x 23 columns]"
      ]
     },
     "execution_count": 20,
     "metadata": {},
     "output_type": "execute_result"
    }
   ],
   "source": [
    "\n",
    "df1=pd.concat([df_1,df_2])\n",
    "df1.head()"
   ]
  },
  {
   "cell_type": "markdown",
   "metadata": {},
   "source": [
    "# study the relationship beatween sevirtity and features"
   ]
  },
  {
   "cell_type": "code",
   "execution_count": 21,
   "metadata": {},
   "outputs": [
    {
     "name": "stderr",
     "output_type": "stream",
     "text": [
      "In C:\\Users\\mohammad\\Miniconda3\\lib\\site-packages\\matplotlib\\mpl-data\\stylelib\\_classic_test.mplstyle: \n",
      "The savefig.frameon rcparam was deprecated in Matplotlib 3.1 and will be removed in 3.3.\n",
      "In C:\\Users\\mohammad\\Miniconda3\\lib\\site-packages\\matplotlib\\mpl-data\\stylelib\\_classic_test.mplstyle: \n",
      "The verbose.level rcparam was deprecated in Matplotlib 3.1 and will be removed in 3.3.\n",
      "In C:\\Users\\mohammad\\Miniconda3\\lib\\site-packages\\matplotlib\\mpl-data\\stylelib\\_classic_test.mplstyle: \n",
      "The verbose.fileo rcparam was deprecated in Matplotlib 3.1 and will be removed in 3.3.\n"
     ]
    }
   ],
   "source": [
    "import matplotlib.pyplot as plt\n",
    "import seaborn as sns\n",
    "from scipy.stats import chi2_contingency,normaltest"
   ]
  },
  {
   "cell_type": "code",
   "execution_count": 23,
   "metadata": {},
   "outputs": [],
   "source": [
    "#function to draw bar chart for categorical features clustered according to severitycode classes (1,2)\n",
    "# y axis show the persent value of each class for each category in categorical features\n",
    "def draw_bar_perc(c):\n",
    "    ((df1.groupby([c,'SEVERITYCODE']).count()['ST_COLCODE']/df1.groupby([c]).count()['ST_COLCODE'])*100).unstack().plot(kind='bar')\n",
    "    \n"
   ]
  },
  {
   "cell_type": "code",
   "execution_count": 24,
   "metadata": {},
   "outputs": [],
   "source": [
    "def draw_bar_count(c):\n",
    "    ((df1.groupby([c,'SEVERITYCODE']).count()['ST_COLCODE'])).unstack().plot(kind='bar')"
   ]
  },
  {
   "cell_type": "code",
   "execution_count": 25,
   "metadata": {},
   "outputs": [
    {
     "data": {
      "text/plain": [
       "0.0"
      ]
     },
     "execution_count": 25,
     "metadata": {},
     "output_type": "execute_result"
    },
    {
     "data": {
      "image/png": "[encoded data removed]",
      "text/plain": [
       "<Figure size 432x288 with 1 Axes>"
      ]
     },
     "metadata": {
      "needs_background": "light"
     },
     "output_type": "display_data"
    }
   ],
   "source": [
    "draw_bar_perc('ADDRTYPE')\n",
    "chi2_contingency(pd.crosstab(df1['ADDRTYPE'],df1['SEVERITYCODE']))[1]"
   ]
  },
  {
   "cell_type": "code",
   "execution_count": 26,
   "metadata": {},
   "outputs": [
    {
     "data": {
      "text/plain": [
       "0.0"
      ]
     },
     "execution_count": 26,
     "metadata": {},
     "output_type": "execute_result"
    },
    {
     "data": {
      "image/png": "[encoded data removed]",
      "text/plain": [
       "<Figure size 432x288 with 1 Axes>"
      ]
     },
     "metadata": {
      "needs_background": "light"
     },
     "output_type": "display_data"
    }
   ],
   "source": [
    "draw_bar_perc('COLLISIONTYPE')\n",
    "chi2_contingency(pd.crosstab(df1['COLLISIONTYPE'],df1['SEVERITYCODE']))[1]"
   ]
  },
  {
   "cell_type": "code",
   "execution_count": 27,
   "metadata": {},
   "outputs": [
    {
     "data": {
      "text/plain": [
       "0.0"
      ]
     },
     "execution_count": 27,
     "metadata": {},
     "output_type": "execute_result"
    },
    {
     "data": {
      "image/png": "[encoded data removed]",
      "text/plain": [
       "<Figure size 432x288 with 1 Axes>"
      ]
     },
     "metadata": {
      "needs_background": "light"
     },
     "output_type": "display_data"
    }
   ],
   "source": [
    "draw_bar_perc('JUNCTIONTYPE')\n",
    "chi2_contingency(pd.crosstab(df1['JUNCTIONTYPE'],df1['SEVERITYCODE']))[1]"
   ]
  },
  {
   "cell_type": "code",
   "execution_count": 28,
   "metadata": {},
   "outputs": [
    {
     "data": {
      "text/plain": [
       "5.335191180698436e-93"
      ]
     },
     "execution_count": 28,
     "metadata": {},
     "output_type": "execute_result"
    },
    {
     "data": {
      "image/png": "[encoded data removed]",
      "text/plain": [
       "<Figure size 432x288 with 1 Axes>"
      ]
     },
     "metadata": {
      "needs_background": "light"
     },
     "output_type": "display_data"
    }
   ],
   "source": [
    "draw_bar_perc('INATTENTIONIND')\n",
    "chi2_contingency(pd.crosstab(df1['INATTENTIONIND'],df1['SEVERITYCODE']))[1]"
   ]
  },
  {
   "cell_type": "code",
   "execution_count": 29,
   "metadata": {},
   "outputs": [
    {
     "data": {
      "text/plain": [
       "2.8963951861952226e-85"
      ]
     },
     "execution_count": 29,
     "metadata": {},
     "output_type": "execute_result"
    },
    {
     "data": {
      "image/png": "[encoded data removed]",
      "text/plain": [
       "<Figure size 432x288 with 1 Axes>"
      ]
     },
     "metadata": {
      "needs_background": "light"
     },
     "output_type": "display_data"
    }
   ],
   "source": [
    "draw_bar_perc('UNDERINFL')\n",
    "chi2_contingency(pd.crosstab(df1['UNDERINFL'],df1['SEVERITYCODE']))[1]"
   ]
  },
  {
   "cell_type": "code",
   "execution_count": 30,
   "metadata": {},
   "outputs": [
    {
     "data": {
      "text/plain": [
       "1.0022761144840179e-86"
      ]
     },
     "execution_count": 30,
     "metadata": {},
     "output_type": "execute_result"
    },
    {
     "data": {
      "image/png": "[encoded data removed]",
      "text/plain": [
       "<Figure size 432x288 with 1 Axes>"
      ]
     },
     "metadata": {
      "needs_background": "light"
     },
     "output_type": "display_data"
    }
   ],
   "source": [
    "draw_bar_perc('WEATHER')\n",
    "chi2_contingency(pd.crosstab(df1['WEATHER'],df1['SEVERITYCODE']))[1]"
   ]
  },
  {
   "cell_type": "code",
   "execution_count": 31,
   "metadata": {},
   "outputs": [
    {
     "data": {
      "text/plain": [
       "2.6123792997913166e-88"
      ]
     },
     "execution_count": 31,
     "metadata": {},
     "output_type": "execute_result"
    },
    {
     "data": {
      "image/png": "[encoded data removed]",
      "text/plain": [
       "<Figure size 432x288 with 1 Axes>"
      ]
     },
     "metadata": {
      "needs_background": "light"
     },
     "output_type": "display_data"
    }
   ],
   "source": [
    "draw_bar_perc('ROADCOND')\n",
    "chi2_contingency(pd.crosstab(df1['ROADCOND'],df1['SEVERITYCODE']))[1]"
   ]
  },
  {
   "cell_type": "code",
   "execution_count": 32,
   "metadata": {},
   "outputs": [
    {
     "data": {
      "text/plain": [
       "5.336920968434019e-18"
      ]
     },
     "execution_count": 32,
     "metadata": {},
     "output_type": "execute_result"
    },
    {
     "data": {
      "image/png": "[encoded data removed]",
      "text/plain": [
       "<Figure size 432x288 with 1 Axes>"
      ]
     },
     "metadata": {
      "needs_background": "light"
     },
     "output_type": "display_data"
    }
   ],
   "source": [
    "draw_bar_perc('LIGHTCOND')\n",
    "chi2_contingency(pd.crosstab(df1['LIGHTCOND'],df1['SEVERITYCODE']))[1]"
   ]
  },
  {
   "cell_type": "code",
   "execution_count": 33,
   "metadata": {},
   "outputs": [
    {
     "data": {
      "text/plain": [
       "1.0022761144840179e-86"
      ]
     },
     "execution_count": 33,
     "metadata": {},
     "output_type": "execute_result"
    },
    {
     "data": {
      "image/png": "[encoded data removed]",
      "text/plain": [
       "<Figure size 432x288 with 1 Axes>"
      ]
     },
     "metadata": {
      "needs_background": "light"
     },
     "output_type": "display_data"
    }
   ],
   "source": [
    "draw_bar_perc('WEATHER')\n",
    "chi2_contingency(pd.crosstab(df1['WEATHER'],df1['SEVERITYCODE']))[1]"
   ]
  },
  {
   "cell_type": "code",
   "execution_count": 34,
   "metadata": {},
   "outputs": [
    {
     "data": {
      "text/plain": [
       "4.5554876319924223e-66"
      ]
     },
     "execution_count": 34,
     "metadata": {},
     "output_type": "execute_result"
    },
    {
     "data": {
      "image/png": "[encoded data removed]",
      "text/plain": [
       "<Figure size 432x288 with 1 Axes>"
      ]
     },
     "metadata": {
      "needs_background": "light"
     },
     "output_type": "display_data"
    }
   ],
   "source": [
    "draw_bar_perc('SPEEDING')\n",
    "chi2_contingency(pd.crosstab(df1['SPEEDING'],df1['SEVERITYCODE']))[1]"
   ]
  },
  {
   "cell_type": "code",
   "execution_count": 35,
   "metadata": {},
   "outputs": [
    {
     "data": {
      "text/plain": [
       "0.0"
      ]
     },
     "execution_count": 35,
     "metadata": {},
     "output_type": "execute_result"
    },
    {
     "data": {
      "image/png": "[encoded data removed]",
      "text/plain": [
       "<Figure size 432x288 with 1 Axes>"
      ]
     },
     "metadata": {
      "needs_background": "light"
     },
     "output_type": "display_data"
    }
   ],
   "source": [
    "draw_bar_perc('HITPARKEDCAR')\n",
    "chi2_contingency(pd.crosstab(df1['HITPARKEDCAR'],df1['SEVERITYCODE']))[1]"
   ]
  },
  {
   "cell_type": "code",
   "execution_count": 36,
   "metadata": {},
   "outputs": [
    {
     "data": {
      "text/plain": [
       "0.0"
      ]
     },
     "execution_count": 36,
     "metadata": {},
     "output_type": "execute_result"
    },
    {
     "data": {
      "image/png": "[encoded data removed]",
      "text/plain": [
       "<Figure size 432x288 with 1 Axes>"
      ]
     },
     "metadata": {
      "needs_background": "light"
     },
     "output_type": "display_data"
    }
   ],
   "source": [
    "draw_bar_perc('PEDROWNOTGRNT')\n",
    "chi2_contingency(pd.crosstab(df1['PEDROWNOTGRNT'],df1['SEVERITYCODE']))[1]"
   ]
  },
  {
   "cell_type": "markdown",
   "metadata": {},
   "source": [
    "# Date & Time"
   ]
  },
  {
   "cell_type": "code",
   "execution_count": 22,
   "metadata": {},
   "outputs": [],
   "source": [
    "df1['INCDTTM']=pd.to_datetime(df1['INCDTTM'])"
   ]
  },
  {
   "cell_type": "code",
   "execution_count": 38,
   "metadata": {},
   "outputs": [
    {
     "data": {
      "text/plain": [
       "0.29460148535864267"
      ]
     },
     "execution_count": 38,
     "metadata": {},
     "output_type": "execute_result"
    },
    {
     "data": {
      "image/png": "[encoded data removed]",
      "text/plain": [
       "<Figure size 432x288 with 1 Axes>"
      ]
     },
     "metadata": {
      "needs_background": "light"
     },
     "output_type": "display_data"
    }
   ],
   "source": [
    "draw_bar_perc(df1['INCDTTM'].dt.day)\n",
    "chi2_contingency(pd.crosstab(df1['INCDTTM'].dt.day,df1['SEVERITYCODE']))[1]"
   ]
  },
  {
   "cell_type": "code",
   "execution_count": 39,
   "metadata": {},
   "outputs": [
    {
     "data": {
      "text/plain": [
       "3.590857347063849e-18"
      ]
     },
     "execution_count": 39,
     "metadata": {},
     "output_type": "execute_result"
    },
    {
     "data": {
      "image/png": "[encoded data removed]",
      "text/plain": [
       "<Figure size 432x288 with 1 Axes>"
      ]
     },
     "metadata": {
      "needs_background": "light"
     },
     "output_type": "display_data"
    }
   ],
   "source": [
    "draw_bar_perc(df1['INCDTTM'].dt.month)\n",
    "chi2_contingency(pd.crosstab(df1['INCDTTM'].dt.month,df1['SEVERITYCODE']))[1]"
   ]
  },
  {
   "cell_type": "code",
   "execution_count": 40,
   "metadata": {},
   "outputs": [
    {
     "data": {
      "text/plain": [
       "2.1322482284151897e-39"
      ]
     },
     "execution_count": 40,
     "metadata": {},
     "output_type": "execute_result"
    },
    {
     "data": {
      "image/png": "[encoded data removed]",
      "text/plain": [
       "<Figure size 432x288 with 1 Axes>"
      ]
     },
     "metadata": {
      "needs_background": "light"
     },
     "output_type": "display_data"
    }
   ],
   "source": [
    "draw_bar_perc(df1['INCDTTM'].dt.year)\n",
    "chi2_contingency(pd.crosstab(df1['INCDTTM'].dt.year,df1['SEVERITYCODE']))[1]"
   ]
  },
  {
   "cell_type": "code",
   "execution_count": 41,
   "metadata": {},
   "outputs": [
    {
     "data": {
      "text/plain": [
       "8.104007576719765e-167"
      ]
     },
     "execution_count": 41,
     "metadata": {},
     "output_type": "execute_result"
    },
    {
     "data": {
      "image/png": "[encoded data removed]",
      "text/plain": [
       "<Figure size 432x288 with 1 Axes>"
      ]
     },
     "metadata": {
      "needs_background": "light"
     },
     "output_type": "display_data"
    }
   ],
   "source": [
    "draw_bar_perc(df1['INCDTTM'].dt.hour)\n",
    "chi2_contingency(pd.crosstab(df1['INCDTTM'].dt.hour,df1['SEVERITYCODE']))[1]"
   ]
  },
  {
   "cell_type": "markdown",
   "metadata": {},
   "source": [
    "# choose only hour and month to use as features"
   ]
  },
  {
   "cell_type": "code",
   "execution_count": 23,
   "metadata": {},
   "outputs": [],
   "source": [
    "df1['Hour']=df1['INCDTTM'].dt.hour\n",
    "df1['Month']=df1['INCDTTM'].dt.month\n",
    "#df1['Year']=df1['INCDTTM'].dt.year\n",
    "\n"
   ]
  },
  {
   "cell_type": "code",
   "execution_count": 24,
   "metadata": {},
   "outputs": [],
   "source": [
    "# convert person count to 3 category"
   ]
  },
  {
   "cell_type": "code",
   "execution_count": 25,
   "metadata": {},
   "outputs": [],
   "source": [
    "#ax=plt.subplot(111)\n",
    "bins = [-1,30,60,np.inf]\n",
    "names = ['<30', '30-60',  '>60']\n",
    "\n",
    "df1['PERSONCOUNT_cat'] = pd.cut(df1['PERSONCOUNT'], bins, labels=names)\n"
   ]
  },
  {
   "cell_type": "code",
   "execution_count": 26,
   "metadata": {},
   "outputs": [
    {
     "data": {
      "text/plain": [
       "<matplotlib.axes._subplots.AxesSubplot at 0x29ce86e6048>"
      ]
     },
     "execution_count": 26,
     "metadata": {},
     "output_type": "execute_result"
    },
    {
     "data": {
      "image/png": "[encoded data removed]",
      "text/plain": [
       "<Figure size 432x288 with 1 Axes>"
      ]
     },
     "metadata": {
      "needs_background": "light"
     },
     "output_type": "display_data"
    }
   ],
   "source": [
    "data=((df1[['PERSONCOUNT_cat','PERSONCOUNT','SEVERITYCODE']].groupby(['PERSONCOUNT_cat','SEVERITYCODE',]).count())/df1[['PERSONCOUNT_cat','PERSONCOUNT']].groupby(['PERSONCOUNT_cat']).count()).unstack()\n",
    "#plt.bar(x='PERSONCOUNT_cat',height='PERSONCOUNT',data=data)\n",
    "data.plot(kind='bar')"
   ]
  },
  {
   "cell_type": "code",
   "execution_count": 27,
   "metadata": {},
   "outputs": [
    {
     "ename": "NameError",
     "evalue": "name 'draw_bar_perc' is not defined",
     "output_type": "error",
     "traceback": [
      "\u001b[1;31m---------------------------------------------------------------------------\u001b[0m",
      "\u001b[1;31mNameError\u001b[0m                                 Traceback (most recent call last)",
      "\u001b[1;32m<ipython-input-27-7980b407428f>\u001b[0m in \u001b[0;36m<module>\u001b[1;34m\u001b[0m\n\u001b[1;32m----> 1\u001b[1;33m \u001b[0mdraw_bar_perc\u001b[0m\u001b[1;33m(\u001b[0m\u001b[0mdf1\u001b[0m\u001b[1;33m[\u001b[0m\u001b[1;34m'PEDCOUNT'\u001b[0m\u001b[1;33m]\u001b[0m\u001b[1;33m)\u001b[0m\u001b[1;33m\u001b[0m\u001b[1;33m\u001b[0m\u001b[0m\n\u001b[0m",
      "\u001b[1;31mNameError\u001b[0m: name 'draw_bar_perc' is not defined"
     ]
    }
   ],
   "source": [
    "draw_bar_perc(df1['PEDCOUNT'])"
   ]
  },
  {
   "cell_type": "code",
   "execution_count": null,
   "metadata": {},
   "outputs": [],
   "source": [
    "draw_bar_perc(df1['PEDCYLCOUNT'])"
   ]
  },
  {
   "cell_type": "code",
   "execution_count": null,
   "metadata": {},
   "outputs": [],
   "source": [
    "ax=plt.subplot(111)\n",
    "bins = [-1,3,6,10,np.inf]\n",
    "names = ['<3', '3-6','6-10',  '>10']\n",
    "\n",
    "df1['VEHCOUNT_cat'] = pd.cut(df1['VEHCOUNT'], bins, labels=names)\n",
    "\n",
    "data=((df1[['VEHCOUNT_cat','VEHCOUNT','SEVERITYCODE']].groupby(['VEHCOUNT_cat','SEVERITYCODE',]).count())/df1[['VEHCOUNT_cat','VEHCOUNT']].groupby(['VEHCOUNT_cat']).count()).unstack()\n",
    "data.plot(kind='bar')\n",
    "\n",
    "draw_bar_perc(df1['VEHCOUNT'])"
   ]
  },
  {
   "cell_type": "code",
   "execution_count": null,
   "metadata": {},
   "outputs": [],
   "source": [
    "df1['Y'][df1['SEVERITYCODE']==1].hist(bins=30)\n",
    "df1['Y'][df1['SEVERITYCODE']==2].hist(bins=30)\n",
    "plt.legend(['SEVERITY 1','SEVERITY 2'])\n",
    "plt.xlabel(\"Y\")"
   ]
  },
  {
   "cell_type": "code",
   "execution_count": null,
   "metadata": {},
   "outputs": [],
   "source": [
    "df1['X'][df1['SEVERITYCODE']==1].hist(bins=30)\n",
    "df1['X'][df1['SEVERITYCODE']==2].hist(bins=30)\n",
    "plt.legend(['SEVERITY 1','SEVERITY 2'])\n",
    "plt.xlabel('X')"
   ]
  },
  {
   "cell_type": "code",
   "execution_count": null,
   "metadata": {},
   "outputs": [],
   "source": [
    "# analysis numeric features\n",
    "df1._get_numeric_data().columns\n",
    "#chi2_contingency(pd.crosstab(df1['ADDRTYPE'],df1['SEVERITYCODE']))[1]"
   ]
  },
  {
   "cell_type": "code",
   "execution_count": null,
   "metadata": {},
   "outputs": [],
   "source": [
    "sns.heatmap(df1.corr())\n",
    "print(normaltest(df1._get_numeric_data(),axis=1)[1])"
   ]
  },
  {
   "cell_type": "markdown",
   "metadata": {},
   "source": [
    "# apply standard scaler to numeric feature"
   ]
  },
  {
   "cell_type": "code",
   "execution_count": 28,
   "metadata": {},
   "outputs": [],
   "source": [
    "from sklearn.preprocessing import StandardScaler\n",
    "scaler=StandardScaler()\n",
    "df2=scaler.fit_transform(df1._get_numeric_data())\n",
    "df2=pd.DataFrame(df2,columns=df1._get_numeric_data().columns)\n",
    "df2['SEVERITYCODE']=df2['SEVERITYCODE'].apply(lambda x:1 if ( x<0) else 2 )\n"
   ]
  },
  {
   "cell_type": "code",
   "execution_count": 29,
   "metadata": {},
   "outputs": [],
   "source": [
    "# applt t test (large sample) and draw box"
   ]
  },
  {
   "cell_type": "code",
   "execution_count": 30,
   "metadata": {
    "scrolled": true
   },
   "outputs": [
    {
     "name": "stdout",
     "output_type": "stream",
     "text": [
      "X Ttest_indResult(statistic=-4.600169708800576, pvalue=4.224122661086044e-06)\n",
      "-0.006807284150664517 0.0159670751767419\n",
      "Y Ttest_indResult(statistic=-7.9156382379644, pvalue=2.4727048728788962e-15)\n",
      "-0.04937123415429224 -0.04937123415429224\n",
      "PERSONCOUNT Ttest_indResult(statistic=-58.27876111972112, pvalue=0.0)\n",
      "-0.33020207385511424 -0.33020207385511424\n",
      "PEDCOUNT Ttest_indResult(statistic=-112.14401726708239, pvalue=0.0)\n",
      "-0.18743028624854363 -0.18743028624854363\n",
      "PEDCYLCOUNT Ttest_indResult(statistic=-96.76261731490953, pvalue=0.0)\n",
      "-0.16958840897224053 -0.16958840897224053\n",
      "VEHCOUNT Ttest_indResult(statistic=24.164360243056954, pvalue=8.177903921506128e-129)\n",
      "0.1255378252325378 0.1255378252325378\n",
      "SDOT_COLCODE Ttest_indResult(statistic=-84.87588960356668, pvalue=0.0)\n",
      "-0.4175102365871053 0.01925128298358212\n",
      "SEGLANEKEY Ttest_indResult(statistic=-46.26023586762551, pvalue=0.0)\n",
      "-0.08124849240009997 -0.08124849240009997\n",
      "CROSSWALKKEY Ttest_indResult(statistic=-78.46606165264929, pvalue=0.0)\n",
      "-0.13536152925748654 -0.13536152925748654\n",
      "Hour Ttest_indResult(statistic=-14.632594062334148, pvalue=1.846698249538815e-48)\n",
      "0.11771891267329702 0.2590560978988941\n",
      "Month Ttest_indResult(statistic=-2.0869244259965503, pvalue=0.036896264117314434)\n",
      "0.13124468524601837 0.13124468524601837\n"
     ]
    },
    {
     "data": {
      "image/png": "[encoded data removed]",
      "text/plain": [
       "<Figure size 720x720 with 1 Axes>"
      ]
     },
     "metadata": {
      "needs_background": "light"
     },
     "output_type": "display_data"
    },
    {
     "data": {
      "image/png": "[encoded data removed]",
      "text/plain": [
       "<Figure size 720x720 with 1 Axes>"
      ]
     },
     "metadata": {
      "needs_background": "light"
     },
     "output_type": "display_data"
    },
    {
     "data": {
      "image/png": "[encoded data removed]",
      "text/plain": [
       "<Figure size 720x720 with 1 Axes>"
      ]
     },
     "metadata": {
      "needs_background": "light"
     },
     "output_type": "display_data"
    },
    {
     "data": {
      "image/png": "[encoded data removed]",
      "text/plain": [
       "<Figure size 720x720 with 1 Axes>"
      ]
     },
     "metadata": {
      "needs_background": "light"
     },
     "output_type": "display_data"
    },
    {
     "data": {
      "image/png": "[encoded data removed]",
      "text/plain": [
       "<Figure size 720x720 with 1 Axes>"
      ]
     },
     "metadata": {
      "needs_background": "light"
     },
     "output_type": "display_data"
    },
    {
     "data": {
      "image/png": "[encoded data removed]",
      "text/plain": [
       "<Figure size 720x720 with 1 Axes>"
      ]
     },
     "metadata": {
      "needs_background": "light"
     },
     "output_type": "display_data"
    },
    {
     "data": {
      "image/png": "[encoded data removed]",
      "text/plain": [
       "<Figure size 720x720 with 1 Axes>"
      ]
     },
     "metadata": {
      "needs_background": "light"
     },
     "output_type": "display_data"
    },
    {
     "data": {
      "image/png": "[encoded data removed]",
      "text/plain": [
       "<Figure size 720x720 with 1 Axes>"
      ]
     },
     "metadata": {
      "needs_background": "light"
     },
     "output_type": "display_data"
    },
    {
     "data": {
      "image/png": "[encoded data removed]",
      "text/plain": [
       "<Figure size 720x720 with 1 Axes>"
      ]
     },
     "metadata": {
      "needs_background": "light"
     },
     "output_type": "display_data"
    },
    {
     "data": {
      "image/png": "[encoded data removed]",
      "text/plain": [
       "<Figure size 720x720 with 1 Axes>"
      ]
     },
     "metadata": {
      "needs_background": "light"
     },
     "output_type": "display_data"
    },
    {
     "data": {
      "image/png": "[encoded data removed]",
      "text/plain": [
       "<Figure size 720x720 with 1 Axes>"
      ]
     },
     "metadata": {
      "needs_background": "light"
     },
     "output_type": "display_data"
    }
   ],
   "source": [
    "from scipy.stats import kruskal,mannwhitneyu,ttest_ind\n",
    "for i in df2.columns[1:]:\n",
    "    fig=plt.figure(figsize=(10,10))\n",
    "    ax=plt.subplot(111)\n",
    "    print(i,ttest_ind\n",
    "         (df2[i][df2['SEVERITYCODE']==1],df2[i][df2['SEVERITYCODE']==2]))\n",
    "    print(df2[i][df2['SEVERITYCODE']==1].median(),df2[i][df2['SEVERITYCODE']==2].median())\n",
    "    sns.boxplot(x='SEVERITYCODE', y=i,  data=df2,ax=ax)\n",
    "    #df2.boxplot(by='SEVERITYCODE',column=i)"
   ]
  },
  {
   "cell_type": "markdown",
   "metadata": {},
   "source": [
    "# select features"
   ]
  },
  {
   "cell_type": "code",
   "execution_count": 31,
   "metadata": {},
   "outputs": [],
   "source": [
    "from sklearn.preprocessing import label_binarize\n",
    "from sklearn.model_selection import train_test_split"
   ]
  },
  {
   "cell_type": "code",
   "execution_count": 32,
   "metadata": {},
   "outputs": [],
   "source": [
    "x=['ADDRTYPE','COLLISIONTYPE','Hour','Month','JUNCTIONTYPE','INATTENTIONIND','UNDERINFL','WEATHER','LIGHTCOND','PEDROWNOTGRNT',\n",
    "   'SPEEDING','HITPARKEDCAR']    \n",
    "y=['SEVERITYCODE','PERSONCOUNT','PEDCOUNT','PEDCYLCOUNT','Year','VEHCOUNT','SDOT_COLCODE','X','Y','SEGLANEKEY','CROSSWALKKEY']"
   ]
  },
  {
   "cell_type": "code",
   "execution_count": 33,
   "metadata": {},
   "outputs": [],
   "source": [
    "\n",
    "X=df1[x]\n",
    "Y=df1[y[0]]"
   ]
  },
  {
   "cell_type": "code",
   "execution_count": 42,
   "metadata": {},
   "outputs": [],
   "source": [
    "X['X']=df2['X']\n",
    "X['Y']=df2['Y']\n",
    "X['PERSONCOUNT']=df2['PERSONCOUNT']\n",
    "X['PEDCOUNT']=df2['PEDCOUNT']\n",
    "X['PEDCYLCOUNT']=df2['PEDCYLCOUNT']\n",
    "X['VEHCOUNT']=df2['VEHCOUNT']\n",
    "X['Hour']=df2['Hour']\n",
    "X['Month']=df2['Month']"
   ]
  },
  {
   "cell_type": "code",
   "execution_count": 43,
   "metadata": {},
   "outputs": [
    {
     "data": {
      "text/html": [
       "<div>\n",
       "<style scoped>\n",
       "    .dataframe tbody tr th:only-of-type {\n",
       "        vertical-align: middle;\n",
       "    }\n",
       "\n",
       "    .dataframe tbody tr th {\n",
       "        vertical-align: top;\n",
       "    }\n",
       "\n",
       "    .dataframe thead th {\n",
       "        text-align: right;\n",
       "    }\n",
       "</style>\n",
       "<table border=\"1\" class=\"dataframe\">\n",
       "  <thead>\n",
       "    <tr style=\"text-align: right;\">\n",
       "      <th></th>\n",
       "      <th>Hour</th>\n",
       "      <th>Month</th>\n",
       "      <th>INATTENTIONIND</th>\n",
       "      <th>UNDERINFL</th>\n",
       "      <th>PEDROWNOTGRNT</th>\n",
       "      <th>SPEEDING</th>\n",
       "      <th>HITPARKEDCAR</th>\n",
       "      <th>X</th>\n",
       "      <th>Y</th>\n",
       "      <th>PERSONCOUNT</th>\n",
       "      <th>...</th>\n",
       "      <th>Dark - Unknown Lighting</th>\n",
       "      <th>Parked Car</th>\n",
       "      <th>Rear Ended</th>\n",
       "      <th>Angles</th>\n",
       "      <th>Sideswipe</th>\n",
       "      <th>Left Turn</th>\n",
       "      <th>Pedestrian</th>\n",
       "      <th>Cycles</th>\n",
       "      <th>Right Turn</th>\n",
       "      <th>Head On</th>\n",
       "    </tr>\n",
       "  </thead>\n",
       "  <tbody>\n",
       "    <tr>\n",
       "      <th>0</th>\n",
       "      <td>0.965742</td>\n",
       "      <td>1.588951</td>\n",
       "      <td>N</td>\n",
       "      <td>N</td>\n",
       "      <td>N</td>\n",
       "      <td>N</td>\n",
       "      <td>N</td>\n",
       "      <td>-0.567408</td>\n",
       "      <td>0.499007</td>\n",
       "      <td>-0.330202</td>\n",
       "      <td>...</td>\n",
       "      <td>0</td>\n",
       "      <td>0</td>\n",
       "      <td>0</td>\n",
       "      <td>1</td>\n",
       "      <td>0</td>\n",
       "      <td>0</td>\n",
       "      <td>0</td>\n",
       "      <td>0</td>\n",
       "      <td>0</td>\n",
       "      <td>0</td>\n",
       "    </tr>\n",
       "    <tr>\n",
       "      <th>1</th>\n",
       "      <td>-0.164955</td>\n",
       "      <td>1.297410</td>\n",
       "      <td>N</td>\n",
       "      <td>N</td>\n",
       "      <td>N</td>\n",
       "      <td>N</td>\n",
       "      <td>N</td>\n",
       "      <td>-0.135973</td>\n",
       "      <td>-0.210629</td>\n",
       "      <td>1.155765</td>\n",
       "      <td>...</td>\n",
       "      <td>0</td>\n",
       "      <td>0</td>\n",
       "      <td>0</td>\n",
       "      <td>0</td>\n",
       "      <td>1</td>\n",
       "      <td>0</td>\n",
       "      <td>0</td>\n",
       "      <td>0</td>\n",
       "      <td>0</td>\n",
       "      <td>0</td>\n",
       "    </tr>\n",
       "    <tr>\n",
       "      <th>2</th>\n",
       "      <td>-0.306293</td>\n",
       "      <td>-1.034920</td>\n",
       "      <td>N</td>\n",
       "      <td>N</td>\n",
       "      <td>N</td>\n",
       "      <td>N</td>\n",
       "      <td>N</td>\n",
       "      <td>-0.144879</td>\n",
       "      <td>-0.266036</td>\n",
       "      <td>0.412781</td>\n",
       "      <td>...</td>\n",
       "      <td>0</td>\n",
       "      <td>1</td>\n",
       "      <td>0</td>\n",
       "      <td>0</td>\n",
       "      <td>0</td>\n",
       "      <td>0</td>\n",
       "      <td>0</td>\n",
       "      <td>0</td>\n",
       "      <td>0</td>\n",
       "      <td>0</td>\n",
       "    </tr>\n",
       "    <tr>\n",
       "      <th>3</th>\n",
       "      <td>0.824405</td>\n",
       "      <td>-0.743379</td>\n",
       "      <td>N</td>\n",
       "      <td>N</td>\n",
       "      <td>N</td>\n",
       "      <td>N</td>\n",
       "      <td>N</td>\n",
       "      <td>-1.930751</td>\n",
       "      <td>1.282708</td>\n",
       "      <td>-0.330202</td>\n",
       "      <td>...</td>\n",
       "      <td>0</td>\n",
       "      <td>1</td>\n",
       "      <td>0</td>\n",
       "      <td>0</td>\n",
       "      <td>0</td>\n",
       "      <td>0</td>\n",
       "      <td>0</td>\n",
       "      <td>0</td>\n",
       "      <td>0</td>\n",
       "      <td>0</td>\n",
       "    </tr>\n",
       "    <tr>\n",
       "      <th>4</th>\n",
       "      <td>-1.578327</td>\n",
       "      <td>1.588951</td>\n",
       "      <td>N</td>\n",
       "      <td>N</td>\n",
       "      <td>N</td>\n",
       "      <td>N</td>\n",
       "      <td>N</td>\n",
       "      <td>-0.269405</td>\n",
       "      <td>-0.018097</td>\n",
       "      <td>-0.330202</td>\n",
       "      <td>...</td>\n",
       "      <td>0</td>\n",
       "      <td>0</td>\n",
       "      <td>0</td>\n",
       "      <td>1</td>\n",
       "      <td>0</td>\n",
       "      <td>0</td>\n",
       "      <td>0</td>\n",
       "      <td>0</td>\n",
       "      <td>0</td>\n",
       "      <td>0</td>\n",
       "    </tr>\n",
       "  </tbody>\n",
       "</table>\n",
       "<p>5 rows × 47 columns</p>\n",
       "</div>"
      ],
      "text/plain": [
       "       Hour     Month INATTENTIONIND UNDERINFL PEDROWNOTGRNT SPEEDING  \\\n",
       "0  0.965742  1.588951              N         N             N        N   \n",
       "1 -0.164955  1.297410              N         N             N        N   \n",
       "2 -0.306293 -1.034920              N         N             N        N   \n",
       "3  0.824405 -0.743379              N         N             N        N   \n",
       "4 -1.578327  1.588951              N         N             N        N   \n",
       "\n",
       "  HITPARKEDCAR         X         Y  PERSONCOUNT   ...     \\\n",
       "0            N -0.567408  0.499007    -0.330202   ...      \n",
       "1            N -0.135973 -0.210629     1.155765   ...      \n",
       "2            N -0.144879 -0.266036     0.412781   ...      \n",
       "3            N -1.930751  1.282708    -0.330202   ...      \n",
       "4            N -0.269405 -0.018097    -0.330202   ...      \n",
       "\n",
       "   Dark - Unknown Lighting  Parked Car  Rear Ended  Angles  Sideswipe  \\\n",
       "0                        0           0           0       1          0   \n",
       "1                        0           0           0       0          1   \n",
       "2                        0           1           0       0          0   \n",
       "3                        0           1           0       0          0   \n",
       "4                        0           0           0       1          0   \n",
       "\n",
       "   Left Turn  Pedestrian  Cycles  Right Turn  Head On  \n",
       "0          0           0       0           0        0  \n",
       "1          0           0       0           0        0  \n",
       "2          0           0       0           0        0  \n",
       "3          0           0       0           0        0  \n",
       "4          0           0       0           0        0  \n",
       "\n",
       "[5 rows x 47 columns]"
      ]
     },
     "execution_count": 43,
     "metadata": {},
     "output_type": "execute_result"
    }
   ],
   "source": [
    "X.head()"
   ]
  },
  {
   "cell_type": "code",
   "execution_count": 44,
   "metadata": {},
   "outputs": [],
   "source": [
    "# from categorial to separate columns"
   ]
  },
  {
   "cell_type": "code",
   "execution_count": 45,
   "metadata": {
    "scrolled": true
   },
   "outputs": [],
   "source": [
    "def to_gat(c,X):\n",
    "    temp=label_binarize(X[c],classes=X[c].value_counts().index)\n",
    "    temp=pd.DataFrame(temp,columns=X[c].value_counts().index)\n",
    "    X=pd.concat([X,temp],axis=1)\n",
    "    X.drop(columns=c,inplace=True)\n",
    "    return X"
   ]
  },
  {
   "cell_type": "code",
   "execution_count": 46,
   "metadata": {},
   "outputs": [
    {
     "name": "stdout",
     "output_type": "stream",
     "text": [
      "ADDRTYPE\n"
     ]
    },
    {
     "ename": "KeyError",
     "evalue": "'ADDRTYPE'",
     "output_type": "error",
     "traceback": [
      "\u001b[1;31m---------------------------------------------------------------------------\u001b[0m",
      "\u001b[1;31mKeyError\u001b[0m                                  Traceback (most recent call last)",
      "\u001b[1;32m~\\Miniconda3\\lib\\site-packages\\pandas\\core\\indexes\\base.py\u001b[0m in \u001b[0;36mget_loc\u001b[1;34m(self, key, method, tolerance)\u001b[0m\n\u001b[0;32m   3077\u001b[0m             \u001b[1;32mtry\u001b[0m\u001b[1;33m:\u001b[0m\u001b[1;33m\u001b[0m\u001b[1;33m\u001b[0m\u001b[0m\n\u001b[1;32m-> 3078\u001b[1;33m                 \u001b[1;32mreturn\u001b[0m \u001b[0mself\u001b[0m\u001b[1;33m.\u001b[0m\u001b[0m_engine\u001b[0m\u001b[1;33m.\u001b[0m\u001b[0mget_loc\u001b[0m\u001b[1;33m(\u001b[0m\u001b[0mkey\u001b[0m\u001b[1;33m)\u001b[0m\u001b[1;33m\u001b[0m\u001b[1;33m\u001b[0m\u001b[0m\n\u001b[0m\u001b[0;32m   3079\u001b[0m             \u001b[1;32mexcept\u001b[0m \u001b[0mKeyError\u001b[0m\u001b[1;33m:\u001b[0m\u001b[1;33m\u001b[0m\u001b[1;33m\u001b[0m\u001b[0m\n",
      "\u001b[1;32mpandas\\_libs\\index.pyx\u001b[0m in \u001b[0;36mpandas._libs.index.IndexEngine.get_loc\u001b[1;34m()\u001b[0m\n",
      "\u001b[1;32mpandas\\_libs\\index.pyx\u001b[0m in \u001b[0;36mpandas._libs.index.IndexEngine.get_loc\u001b[1;34m()\u001b[0m\n",
      "\u001b[1;32mpandas\\_libs\\hashtable_class_helper.pxi\u001b[0m in \u001b[0;36mpandas._libs.hashtable.PyObjectHashTable.get_item\u001b[1;34m()\u001b[0m\n",
      "\u001b[1;32mpandas\\_libs\\hashtable_class_helper.pxi\u001b[0m in \u001b[0;36mpandas._libs.hashtable.PyObjectHashTable.get_item\u001b[1;34m()\u001b[0m\n",
      "\u001b[1;31mKeyError\u001b[0m: 'ADDRTYPE'",
      "\nDuring handling of the above exception, another exception occurred:\n",
      "\u001b[1;31mKeyError\u001b[0m                                  Traceback (most recent call last)",
      "\u001b[1;32m<ipython-input-46-aa697c544fcf>\u001b[0m in \u001b[0;36m<module>\u001b[1;34m\u001b[0m\n\u001b[0;32m      6\u001b[0m \u001b[1;32mfor\u001b[0m \u001b[0mi\u001b[0m \u001b[1;32min\u001b[0m \u001b[0mobj\u001b[0m\u001b[1;33m:\u001b[0m\u001b[1;33m\u001b[0m\u001b[1;33m\u001b[0m\u001b[0m\n\u001b[0;32m      7\u001b[0m     \u001b[0mprint\u001b[0m\u001b[1;33m(\u001b[0m\u001b[0mi\u001b[0m\u001b[1;33m)\u001b[0m\u001b[1;33m\u001b[0m\u001b[1;33m\u001b[0m\u001b[0m\n\u001b[1;32m----> 8\u001b[1;33m     \u001b[0mX\u001b[0m\u001b[1;33m=\u001b[0m\u001b[0mto_gat\u001b[0m\u001b[1;33m(\u001b[0m\u001b[0mi\u001b[0m\u001b[1;33m,\u001b[0m\u001b[0mX\u001b[0m\u001b[1;33m)\u001b[0m\u001b[1;33m\u001b[0m\u001b[1;33m\u001b[0m\u001b[0m\n\u001b[0m",
      "\u001b[1;32m<ipython-input-45-58d9b568f629>\u001b[0m in \u001b[0;36mto_gat\u001b[1;34m(c, X)\u001b[0m\n\u001b[0;32m      1\u001b[0m \u001b[1;32mdef\u001b[0m \u001b[0mto_gat\u001b[0m\u001b[1;33m(\u001b[0m\u001b[0mc\u001b[0m\u001b[1;33m,\u001b[0m\u001b[0mX\u001b[0m\u001b[1;33m)\u001b[0m\u001b[1;33m:\u001b[0m\u001b[1;33m\u001b[0m\u001b[1;33m\u001b[0m\u001b[0m\n\u001b[1;32m----> 2\u001b[1;33m     \u001b[0mtemp\u001b[0m\u001b[1;33m=\u001b[0m\u001b[0mlabel_binarize\u001b[0m\u001b[1;33m(\u001b[0m\u001b[0mX\u001b[0m\u001b[1;33m[\u001b[0m\u001b[0mc\u001b[0m\u001b[1;33m]\u001b[0m\u001b[1;33m,\u001b[0m\u001b[0mclasses\u001b[0m\u001b[1;33m=\u001b[0m\u001b[0mX\u001b[0m\u001b[1;33m[\u001b[0m\u001b[0mc\u001b[0m\u001b[1;33m]\u001b[0m\u001b[1;33m.\u001b[0m\u001b[0mvalue_counts\u001b[0m\u001b[1;33m(\u001b[0m\u001b[1;33m)\u001b[0m\u001b[1;33m.\u001b[0m\u001b[0mindex\u001b[0m\u001b[1;33m)\u001b[0m\u001b[1;33m\u001b[0m\u001b[1;33m\u001b[0m\u001b[0m\n\u001b[0m\u001b[0;32m      3\u001b[0m     \u001b[0mtemp\u001b[0m\u001b[1;33m=\u001b[0m\u001b[0mpd\u001b[0m\u001b[1;33m.\u001b[0m\u001b[0mDataFrame\u001b[0m\u001b[1;33m(\u001b[0m\u001b[0mtemp\u001b[0m\u001b[1;33m,\u001b[0m\u001b[0mcolumns\u001b[0m\u001b[1;33m=\u001b[0m\u001b[0mX\u001b[0m\u001b[1;33m[\u001b[0m\u001b[0mc\u001b[0m\u001b[1;33m]\u001b[0m\u001b[1;33m.\u001b[0m\u001b[0mvalue_counts\u001b[0m\u001b[1;33m(\u001b[0m\u001b[1;33m)\u001b[0m\u001b[1;33m.\u001b[0m\u001b[0mindex\u001b[0m\u001b[1;33m)\u001b[0m\u001b[1;33m\u001b[0m\u001b[1;33m\u001b[0m\u001b[0m\n\u001b[0;32m      4\u001b[0m     \u001b[0mX\u001b[0m\u001b[1;33m=\u001b[0m\u001b[0mpd\u001b[0m\u001b[1;33m.\u001b[0m\u001b[0mconcat\u001b[0m\u001b[1;33m(\u001b[0m\u001b[1;33m[\u001b[0m\u001b[0mX\u001b[0m\u001b[1;33m,\u001b[0m\u001b[0mtemp\u001b[0m\u001b[1;33m]\u001b[0m\u001b[1;33m,\u001b[0m\u001b[0maxis\u001b[0m\u001b[1;33m=\u001b[0m\u001b[1;36m1\u001b[0m\u001b[1;33m)\u001b[0m\u001b[1;33m\u001b[0m\u001b[1;33m\u001b[0m\u001b[0m\n\u001b[0;32m      5\u001b[0m     \u001b[0mX\u001b[0m\u001b[1;33m.\u001b[0m\u001b[0mdrop\u001b[0m\u001b[1;33m(\u001b[0m\u001b[0mcolumns\u001b[0m\u001b[1;33m=\u001b[0m\u001b[0mc\u001b[0m\u001b[1;33m,\u001b[0m\u001b[0minplace\u001b[0m\u001b[1;33m=\u001b[0m\u001b[1;32mTrue\u001b[0m\u001b[1;33m)\u001b[0m\u001b[1;33m\u001b[0m\u001b[1;33m\u001b[0m\u001b[0m\n",
      "\u001b[1;32m~\\Miniconda3\\lib\\site-packages\\pandas\\core\\frame.py\u001b[0m in \u001b[0;36m__getitem__\u001b[1;34m(self, key)\u001b[0m\n\u001b[0;32m   2686\u001b[0m             \u001b[1;32mreturn\u001b[0m \u001b[0mself\u001b[0m\u001b[1;33m.\u001b[0m\u001b[0m_getitem_multilevel\u001b[0m\u001b[1;33m(\u001b[0m\u001b[0mkey\u001b[0m\u001b[1;33m)\u001b[0m\u001b[1;33m\u001b[0m\u001b[1;33m\u001b[0m\u001b[0m\n\u001b[0;32m   2687\u001b[0m         \u001b[1;32melse\u001b[0m\u001b[1;33m:\u001b[0m\u001b[1;33m\u001b[0m\u001b[1;33m\u001b[0m\u001b[0m\n\u001b[1;32m-> 2688\u001b[1;33m             \u001b[1;32mreturn\u001b[0m \u001b[0mself\u001b[0m\u001b[1;33m.\u001b[0m\u001b[0m_getitem_column\u001b[0m\u001b[1;33m(\u001b[0m\u001b[0mkey\u001b[0m\u001b[1;33m)\u001b[0m\u001b[1;33m\u001b[0m\u001b[1;33m\u001b[0m\u001b[0m\n\u001b[0m\u001b[0;32m   2689\u001b[0m \u001b[1;33m\u001b[0m\u001b[0m\n\u001b[0;32m   2690\u001b[0m     \u001b[1;32mdef\u001b[0m \u001b[0m_getitem_column\u001b[0m\u001b[1;33m(\u001b[0m\u001b[0mself\u001b[0m\u001b[1;33m,\u001b[0m \u001b[0mkey\u001b[0m\u001b[1;33m)\u001b[0m\u001b[1;33m:\u001b[0m\u001b[1;33m\u001b[0m\u001b[1;33m\u001b[0m\u001b[0m\n",
      "\u001b[1;32m~\\Miniconda3\\lib\\site-packages\\pandas\\core\\frame.py\u001b[0m in \u001b[0;36m_getitem_column\u001b[1;34m(self, key)\u001b[0m\n\u001b[0;32m   2693\u001b[0m         \u001b[1;31m# get column\u001b[0m\u001b[1;33m\u001b[0m\u001b[1;33m\u001b[0m\u001b[1;33m\u001b[0m\u001b[0m\n\u001b[0;32m   2694\u001b[0m         \u001b[1;32mif\u001b[0m \u001b[0mself\u001b[0m\u001b[1;33m.\u001b[0m\u001b[0mcolumns\u001b[0m\u001b[1;33m.\u001b[0m\u001b[0mis_unique\u001b[0m\u001b[1;33m:\u001b[0m\u001b[1;33m\u001b[0m\u001b[1;33m\u001b[0m\u001b[0m\n\u001b[1;32m-> 2695\u001b[1;33m             \u001b[1;32mreturn\u001b[0m \u001b[0mself\u001b[0m\u001b[1;33m.\u001b[0m\u001b[0m_get_item_cache\u001b[0m\u001b[1;33m(\u001b[0m\u001b[0mkey\u001b[0m\u001b[1;33m)\u001b[0m\u001b[1;33m\u001b[0m\u001b[1;33m\u001b[0m\u001b[0m\n\u001b[0m\u001b[0;32m   2696\u001b[0m \u001b[1;33m\u001b[0m\u001b[0m\n\u001b[0;32m   2697\u001b[0m         \u001b[1;31m# duplicate columns & possible reduce dimensionality\u001b[0m\u001b[1;33m\u001b[0m\u001b[1;33m\u001b[0m\u001b[1;33m\u001b[0m\u001b[0m\n",
      "\u001b[1;32m~\\Miniconda3\\lib\\site-packages\\pandas\\core\\generic.py\u001b[0m in \u001b[0;36m_get_item_cache\u001b[1;34m(self, item)\u001b[0m\n\u001b[0;32m   2487\u001b[0m         \u001b[0mres\u001b[0m \u001b[1;33m=\u001b[0m \u001b[0mcache\u001b[0m\u001b[1;33m.\u001b[0m\u001b[0mget\u001b[0m\u001b[1;33m(\u001b[0m\u001b[0mitem\u001b[0m\u001b[1;33m)\u001b[0m\u001b[1;33m\u001b[0m\u001b[1;33m\u001b[0m\u001b[0m\n\u001b[0;32m   2488\u001b[0m         \u001b[1;32mif\u001b[0m \u001b[0mres\u001b[0m \u001b[1;32mis\u001b[0m \u001b[1;32mNone\u001b[0m\u001b[1;33m:\u001b[0m\u001b[1;33m\u001b[0m\u001b[1;33m\u001b[0m\u001b[0m\n\u001b[1;32m-> 2489\u001b[1;33m             \u001b[0mvalues\u001b[0m \u001b[1;33m=\u001b[0m \u001b[0mself\u001b[0m\u001b[1;33m.\u001b[0m\u001b[0m_data\u001b[0m\u001b[1;33m.\u001b[0m\u001b[0mget\u001b[0m\u001b[1;33m(\u001b[0m\u001b[0mitem\u001b[0m\u001b[1;33m)\u001b[0m\u001b[1;33m\u001b[0m\u001b[1;33m\u001b[0m\u001b[0m\n\u001b[0m\u001b[0;32m   2490\u001b[0m             \u001b[0mres\u001b[0m \u001b[1;33m=\u001b[0m \u001b[0mself\u001b[0m\u001b[1;33m.\u001b[0m\u001b[0m_box_item_values\u001b[0m\u001b[1;33m(\u001b[0m\u001b[0mitem\u001b[0m\u001b[1;33m,\u001b[0m \u001b[0mvalues\u001b[0m\u001b[1;33m)\u001b[0m\u001b[1;33m\u001b[0m\u001b[1;33m\u001b[0m\u001b[0m\n\u001b[0;32m   2491\u001b[0m             \u001b[0mcache\u001b[0m\u001b[1;33m[\u001b[0m\u001b[0mitem\u001b[0m\u001b[1;33m]\u001b[0m \u001b[1;33m=\u001b[0m \u001b[0mres\u001b[0m\u001b[1;33m\u001b[0m\u001b[1;33m\u001b[0m\u001b[0m\n",
      "\u001b[1;32m~\\Miniconda3\\lib\\site-packages\\pandas\\core\\internals.py\u001b[0m in \u001b[0;36mget\u001b[1;34m(self, item, fastpath)\u001b[0m\n\u001b[0;32m   4113\u001b[0m \u001b[1;33m\u001b[0m\u001b[0m\n\u001b[0;32m   4114\u001b[0m             \u001b[1;32mif\u001b[0m \u001b[1;32mnot\u001b[0m \u001b[0misna\u001b[0m\u001b[1;33m(\u001b[0m\u001b[0mitem\u001b[0m\u001b[1;33m)\u001b[0m\u001b[1;33m:\u001b[0m\u001b[1;33m\u001b[0m\u001b[1;33m\u001b[0m\u001b[0m\n\u001b[1;32m-> 4115\u001b[1;33m                 \u001b[0mloc\u001b[0m \u001b[1;33m=\u001b[0m \u001b[0mself\u001b[0m\u001b[1;33m.\u001b[0m\u001b[0mitems\u001b[0m\u001b[1;33m.\u001b[0m\u001b[0mget_loc\u001b[0m\u001b[1;33m(\u001b[0m\u001b[0mitem\u001b[0m\u001b[1;33m)\u001b[0m\u001b[1;33m\u001b[0m\u001b[1;33m\u001b[0m\u001b[0m\n\u001b[0m\u001b[0;32m   4116\u001b[0m             \u001b[1;32melse\u001b[0m\u001b[1;33m:\u001b[0m\u001b[1;33m\u001b[0m\u001b[1;33m\u001b[0m\u001b[0m\n\u001b[0;32m   4117\u001b[0m                 \u001b[0mindexer\u001b[0m \u001b[1;33m=\u001b[0m \u001b[0mnp\u001b[0m\u001b[1;33m.\u001b[0m\u001b[0marange\u001b[0m\u001b[1;33m(\u001b[0m\u001b[0mlen\u001b[0m\u001b[1;33m(\u001b[0m\u001b[0mself\u001b[0m\u001b[1;33m.\u001b[0m\u001b[0mitems\u001b[0m\u001b[1;33m)\u001b[0m\u001b[1;33m)\u001b[0m\u001b[1;33m[\u001b[0m\u001b[0misna\u001b[0m\u001b[1;33m(\u001b[0m\u001b[0mself\u001b[0m\u001b[1;33m.\u001b[0m\u001b[0mitems\u001b[0m\u001b[1;33m)\u001b[0m\u001b[1;33m]\u001b[0m\u001b[1;33m\u001b[0m\u001b[1;33m\u001b[0m\u001b[0m\n",
      "\u001b[1;32m~\\Miniconda3\\lib\\site-packages\\pandas\\core\\indexes\\base.py\u001b[0m in \u001b[0;36mget_loc\u001b[1;34m(self, key, method, tolerance)\u001b[0m\n\u001b[0;32m   3078\u001b[0m                 \u001b[1;32mreturn\u001b[0m \u001b[0mself\u001b[0m\u001b[1;33m.\u001b[0m\u001b[0m_engine\u001b[0m\u001b[1;33m.\u001b[0m\u001b[0mget_loc\u001b[0m\u001b[1;33m(\u001b[0m\u001b[0mkey\u001b[0m\u001b[1;33m)\u001b[0m\u001b[1;33m\u001b[0m\u001b[1;33m\u001b[0m\u001b[0m\n\u001b[0;32m   3079\u001b[0m             \u001b[1;32mexcept\u001b[0m \u001b[0mKeyError\u001b[0m\u001b[1;33m:\u001b[0m\u001b[1;33m\u001b[0m\u001b[1;33m\u001b[0m\u001b[0m\n\u001b[1;32m-> 3080\u001b[1;33m                 \u001b[1;32mreturn\u001b[0m \u001b[0mself\u001b[0m\u001b[1;33m.\u001b[0m\u001b[0m_engine\u001b[0m\u001b[1;33m.\u001b[0m\u001b[0mget_loc\u001b[0m\u001b[1;33m(\u001b[0m\u001b[0mself\u001b[0m\u001b[1;33m.\u001b[0m\u001b[0m_maybe_cast_indexer\u001b[0m\u001b[1;33m(\u001b[0m\u001b[0mkey\u001b[0m\u001b[1;33m)\u001b[0m\u001b[1;33m)\u001b[0m\u001b[1;33m\u001b[0m\u001b[1;33m\u001b[0m\u001b[0m\n\u001b[0m\u001b[0;32m   3081\u001b[0m \u001b[1;33m\u001b[0m\u001b[0m\n\u001b[0;32m   3082\u001b[0m         \u001b[0mindexer\u001b[0m \u001b[1;33m=\u001b[0m \u001b[0mself\u001b[0m\u001b[1;33m.\u001b[0m\u001b[0mget_indexer\u001b[0m\u001b[1;33m(\u001b[0m\u001b[1;33m[\u001b[0m\u001b[0mkey\u001b[0m\u001b[1;33m]\u001b[0m\u001b[1;33m,\u001b[0m \u001b[0mmethod\u001b[0m\u001b[1;33m=\u001b[0m\u001b[0mmethod\u001b[0m\u001b[1;33m,\u001b[0m \u001b[0mtolerance\u001b[0m\u001b[1;33m=\u001b[0m\u001b[0mtolerance\u001b[0m\u001b[1;33m)\u001b[0m\u001b[1;33m\u001b[0m\u001b[1;33m\u001b[0m\u001b[0m\n",
      "\u001b[1;32mpandas\\_libs\\index.pyx\u001b[0m in \u001b[0;36mpandas._libs.index.IndexEngine.get_loc\u001b[1;34m()\u001b[0m\n",
      "\u001b[1;32mpandas\\_libs\\index.pyx\u001b[0m in \u001b[0;36mpandas._libs.index.IndexEngine.get_loc\u001b[1;34m()\u001b[0m\n",
      "\u001b[1;32mpandas\\_libs\\hashtable_class_helper.pxi\u001b[0m in \u001b[0;36mpandas._libs.hashtable.PyObjectHashTable.get_item\u001b[1;34m()\u001b[0m\n",
      "\u001b[1;32mpandas\\_libs\\hashtable_class_helper.pxi\u001b[0m in \u001b[0;36mpandas._libs.hashtable.PyObjectHashTable.get_item\u001b[1;34m()\u001b[0m\n",
      "\u001b[1;31mKeyError\u001b[0m: 'ADDRTYPE'"
     ]
    }
   ],
   "source": [
    "obj=['ADDRTYPE','JUNCTIONTYPE','WEATHER','LIGHTCOND','COLLISIONTYPE'\n",
    "     ]\n",
    "num=['X','Y','SEGLANEKEY','CROSSWALKKEY']\n",
    "#'SPEEDING','INATTENTIONIND','UNDERINFL','HITPARKEDCAR'\n",
    "#'INCDTTM',\n",
    "for i in obj:\n",
    "    print(i)\n",
    "    X=to_gat(i,X)"
   ]
  },
  {
   "cell_type": "code",
   "execution_count": 47,
   "metadata": {},
   "outputs": [
    {
     "data": {
      "text/html": [
       "<div>\n",
       "<style scoped>\n",
       "    .dataframe tbody tr th:only-of-type {\n",
       "        vertical-align: middle;\n",
       "    }\n",
       "\n",
       "    .dataframe tbody tr th {\n",
       "        vertical-align: top;\n",
       "    }\n",
       "\n",
       "    .dataframe thead th {\n",
       "        text-align: right;\n",
       "    }\n",
       "</style>\n",
       "<table border=\"1\" class=\"dataframe\">\n",
       "  <thead>\n",
       "    <tr style=\"text-align: right;\">\n",
       "      <th></th>\n",
       "      <th>Hour</th>\n",
       "      <th>Month</th>\n",
       "      <th>INATTENTIONIND</th>\n",
       "      <th>UNDERINFL</th>\n",
       "      <th>PEDROWNOTGRNT</th>\n",
       "      <th>SPEEDING</th>\n",
       "      <th>HITPARKEDCAR</th>\n",
       "      <th>X</th>\n",
       "      <th>Y</th>\n",
       "      <th>PERSONCOUNT</th>\n",
       "      <th>...</th>\n",
       "      <th>Dark - Unknown Lighting</th>\n",
       "      <th>Parked Car</th>\n",
       "      <th>Rear Ended</th>\n",
       "      <th>Angles</th>\n",
       "      <th>Sideswipe</th>\n",
       "      <th>Left Turn</th>\n",
       "      <th>Pedestrian</th>\n",
       "      <th>Cycles</th>\n",
       "      <th>Right Turn</th>\n",
       "      <th>Head On</th>\n",
       "    </tr>\n",
       "  </thead>\n",
       "  <tbody>\n",
       "    <tr>\n",
       "      <th>0</th>\n",
       "      <td>0.965742</td>\n",
       "      <td>1.588951</td>\n",
       "      <td>N</td>\n",
       "      <td>N</td>\n",
       "      <td>N</td>\n",
       "      <td>N</td>\n",
       "      <td>N</td>\n",
       "      <td>-0.567408</td>\n",
       "      <td>0.499007</td>\n",
       "      <td>-0.330202</td>\n",
       "      <td>...</td>\n",
       "      <td>0</td>\n",
       "      <td>0</td>\n",
       "      <td>0</td>\n",
       "      <td>1</td>\n",
       "      <td>0</td>\n",
       "      <td>0</td>\n",
       "      <td>0</td>\n",
       "      <td>0</td>\n",
       "      <td>0</td>\n",
       "      <td>0</td>\n",
       "    </tr>\n",
       "    <tr>\n",
       "      <th>1</th>\n",
       "      <td>-0.164955</td>\n",
       "      <td>1.297410</td>\n",
       "      <td>N</td>\n",
       "      <td>N</td>\n",
       "      <td>N</td>\n",
       "      <td>N</td>\n",
       "      <td>N</td>\n",
       "      <td>-0.135973</td>\n",
       "      <td>-0.210629</td>\n",
       "      <td>1.155765</td>\n",
       "      <td>...</td>\n",
       "      <td>0</td>\n",
       "      <td>0</td>\n",
       "      <td>0</td>\n",
       "      <td>0</td>\n",
       "      <td>1</td>\n",
       "      <td>0</td>\n",
       "      <td>0</td>\n",
       "      <td>0</td>\n",
       "      <td>0</td>\n",
       "      <td>0</td>\n",
       "    </tr>\n",
       "    <tr>\n",
       "      <th>2</th>\n",
       "      <td>-0.306293</td>\n",
       "      <td>-1.034920</td>\n",
       "      <td>N</td>\n",
       "      <td>N</td>\n",
       "      <td>N</td>\n",
       "      <td>N</td>\n",
       "      <td>N</td>\n",
       "      <td>-0.144879</td>\n",
       "      <td>-0.266036</td>\n",
       "      <td>0.412781</td>\n",
       "      <td>...</td>\n",
       "      <td>0</td>\n",
       "      <td>1</td>\n",
       "      <td>0</td>\n",
       "      <td>0</td>\n",
       "      <td>0</td>\n",
       "      <td>0</td>\n",
       "      <td>0</td>\n",
       "      <td>0</td>\n",
       "      <td>0</td>\n",
       "      <td>0</td>\n",
       "    </tr>\n",
       "    <tr>\n",
       "      <th>3</th>\n",
       "      <td>0.824405</td>\n",
       "      <td>-0.743379</td>\n",
       "      <td>N</td>\n",
       "      <td>N</td>\n",
       "      <td>N</td>\n",
       "      <td>N</td>\n",
       "      <td>N</td>\n",
       "      <td>-1.930751</td>\n",
       "      <td>1.282708</td>\n",
       "      <td>-0.330202</td>\n",
       "      <td>...</td>\n",
       "      <td>0</td>\n",
       "      <td>1</td>\n",
       "      <td>0</td>\n",
       "      <td>0</td>\n",
       "      <td>0</td>\n",
       "      <td>0</td>\n",
       "      <td>0</td>\n",
       "      <td>0</td>\n",
       "      <td>0</td>\n",
       "      <td>0</td>\n",
       "    </tr>\n",
       "    <tr>\n",
       "      <th>4</th>\n",
       "      <td>-1.578327</td>\n",
       "      <td>1.588951</td>\n",
       "      <td>N</td>\n",
       "      <td>N</td>\n",
       "      <td>N</td>\n",
       "      <td>N</td>\n",
       "      <td>N</td>\n",
       "      <td>-0.269405</td>\n",
       "      <td>-0.018097</td>\n",
       "      <td>-0.330202</td>\n",
       "      <td>...</td>\n",
       "      <td>0</td>\n",
       "      <td>0</td>\n",
       "      <td>0</td>\n",
       "      <td>1</td>\n",
       "      <td>0</td>\n",
       "      <td>0</td>\n",
       "      <td>0</td>\n",
       "      <td>0</td>\n",
       "      <td>0</td>\n",
       "      <td>0</td>\n",
       "    </tr>\n",
       "  </tbody>\n",
       "</table>\n",
       "<p>5 rows × 47 columns</p>\n",
       "</div>"
      ],
      "text/plain": [
       "       Hour     Month INATTENTIONIND UNDERINFL PEDROWNOTGRNT SPEEDING  \\\n",
       "0  0.965742  1.588951              N         N             N        N   \n",
       "1 -0.164955  1.297410              N         N             N        N   \n",
       "2 -0.306293 -1.034920              N         N             N        N   \n",
       "3  0.824405 -0.743379              N         N             N        N   \n",
       "4 -1.578327  1.588951              N         N             N        N   \n",
       "\n",
       "  HITPARKEDCAR         X         Y  PERSONCOUNT   ...     \\\n",
       "0            N -0.567408  0.499007    -0.330202   ...      \n",
       "1            N -0.135973 -0.210629     1.155765   ...      \n",
       "2            N -0.144879 -0.266036     0.412781   ...      \n",
       "3            N -1.930751  1.282708    -0.330202   ...      \n",
       "4            N -0.269405 -0.018097    -0.330202   ...      \n",
       "\n",
       "   Dark - Unknown Lighting  Parked Car  Rear Ended  Angles  Sideswipe  \\\n",
       "0                        0           0           0       1          0   \n",
       "1                        0           0           0       0          1   \n",
       "2                        0           1           0       0          0   \n",
       "3                        0           1           0       0          0   \n",
       "4                        0           0           0       1          0   \n",
       "\n",
       "   Left Turn  Pedestrian  Cycles  Right Turn  Head On  \n",
       "0          0           0       0           0        0  \n",
       "1          0           0       0           0        0  \n",
       "2          0           0       0           0        0  \n",
       "3          0           0       0           0        0  \n",
       "4          0           0       0           0        0  \n",
       "\n",
       "[5 rows x 47 columns]"
      ]
     },
     "execution_count": 47,
     "metadata": {},
     "output_type": "execute_result"
    }
   ],
   "source": [
    "X.head()"
   ]
  },
  {
   "cell_type": "code",
   "execution_count": 48,
   "metadata": {},
   "outputs": [],
   "source": [
    "# convert all remaining text value to numeric"
   ]
  },
  {
   "cell_type": "code",
   "execution_count": 49,
   "metadata": {},
   "outputs": [],
   "source": [
    "X.replace('Y','1',inplace=True)\n",
    "X.replace('N','0',inplace=True)"
   ]
  },
  {
   "cell_type": "code",
   "execution_count": 50,
   "metadata": {},
   "outputs": [
    {
     "data": {
      "text/html": [
       "<div>\n",
       "<style scoped>\n",
       "    .dataframe tbody tr th:only-of-type {\n",
       "        vertical-align: middle;\n",
       "    }\n",
       "\n",
       "    .dataframe tbody tr th {\n",
       "        vertical-align: top;\n",
       "    }\n",
       "\n",
       "    .dataframe thead th {\n",
       "        text-align: right;\n",
       "    }\n",
       "</style>\n",
       "<table border=\"1\" class=\"dataframe\">\n",
       "  <thead>\n",
       "    <tr style=\"text-align: right;\">\n",
       "      <th></th>\n",
       "      <th>Hour</th>\n",
       "      <th>Month</th>\n",
       "      <th>INATTENTIONIND</th>\n",
       "      <th>UNDERINFL</th>\n",
       "      <th>PEDROWNOTGRNT</th>\n",
       "      <th>SPEEDING</th>\n",
       "      <th>HITPARKEDCAR</th>\n",
       "      <th>X</th>\n",
       "      <th>Y</th>\n",
       "      <th>PERSONCOUNT</th>\n",
       "      <th>...</th>\n",
       "      <th>Dark - Unknown Lighting</th>\n",
       "      <th>Parked Car</th>\n",
       "      <th>Rear Ended</th>\n",
       "      <th>Angles</th>\n",
       "      <th>Sideswipe</th>\n",
       "      <th>Left Turn</th>\n",
       "      <th>Pedestrian</th>\n",
       "      <th>Cycles</th>\n",
       "      <th>Right Turn</th>\n",
       "      <th>Head On</th>\n",
       "    </tr>\n",
       "  </thead>\n",
       "  <tbody>\n",
       "    <tr>\n",
       "      <th>0</th>\n",
       "      <td>0.965742</td>\n",
       "      <td>1.588951</td>\n",
       "      <td>0</td>\n",
       "      <td>0</td>\n",
       "      <td>0</td>\n",
       "      <td>0</td>\n",
       "      <td>0</td>\n",
       "      <td>-0.567408</td>\n",
       "      <td>0.499007</td>\n",
       "      <td>-0.330202</td>\n",
       "      <td>...</td>\n",
       "      <td>0</td>\n",
       "      <td>0</td>\n",
       "      <td>0</td>\n",
       "      <td>1</td>\n",
       "      <td>0</td>\n",
       "      <td>0</td>\n",
       "      <td>0</td>\n",
       "      <td>0</td>\n",
       "      <td>0</td>\n",
       "      <td>0</td>\n",
       "    </tr>\n",
       "    <tr>\n",
       "      <th>1</th>\n",
       "      <td>-0.164955</td>\n",
       "      <td>1.297410</td>\n",
       "      <td>0</td>\n",
       "      <td>0</td>\n",
       "      <td>0</td>\n",
       "      <td>0</td>\n",
       "      <td>0</td>\n",
       "      <td>-0.135973</td>\n",
       "      <td>-0.210629</td>\n",
       "      <td>1.155765</td>\n",
       "      <td>...</td>\n",
       "      <td>0</td>\n",
       "      <td>0</td>\n",
       "      <td>0</td>\n",
       "      <td>0</td>\n",
       "      <td>1</td>\n",
       "      <td>0</td>\n",
       "      <td>0</td>\n",
       "      <td>0</td>\n",
       "      <td>0</td>\n",
       "      <td>0</td>\n",
       "    </tr>\n",
       "    <tr>\n",
       "      <th>2</th>\n",
       "      <td>-0.306293</td>\n",
       "      <td>-1.034920</td>\n",
       "      <td>0</td>\n",
       "      <td>0</td>\n",
       "      <td>0</td>\n",
       "      <td>0</td>\n",
       "      <td>0</td>\n",
       "      <td>-0.144879</td>\n",
       "      <td>-0.266036</td>\n",
       "      <td>0.412781</td>\n",
       "      <td>...</td>\n",
       "      <td>0</td>\n",
       "      <td>1</td>\n",
       "      <td>0</td>\n",
       "      <td>0</td>\n",
       "      <td>0</td>\n",
       "      <td>0</td>\n",
       "      <td>0</td>\n",
       "      <td>0</td>\n",
       "      <td>0</td>\n",
       "      <td>0</td>\n",
       "    </tr>\n",
       "    <tr>\n",
       "      <th>3</th>\n",
       "      <td>0.824405</td>\n",
       "      <td>-0.743379</td>\n",
       "      <td>0</td>\n",
       "      <td>0</td>\n",
       "      <td>0</td>\n",
       "      <td>0</td>\n",
       "      <td>0</td>\n",
       "      <td>-1.930751</td>\n",
       "      <td>1.282708</td>\n",
       "      <td>-0.330202</td>\n",
       "      <td>...</td>\n",
       "      <td>0</td>\n",
       "      <td>1</td>\n",
       "      <td>0</td>\n",
       "      <td>0</td>\n",
       "      <td>0</td>\n",
       "      <td>0</td>\n",
       "      <td>0</td>\n",
       "      <td>0</td>\n",
       "      <td>0</td>\n",
       "      <td>0</td>\n",
       "    </tr>\n",
       "    <tr>\n",
       "      <th>4</th>\n",
       "      <td>-1.578327</td>\n",
       "      <td>1.588951</td>\n",
       "      <td>0</td>\n",
       "      <td>0</td>\n",
       "      <td>0</td>\n",
       "      <td>0</td>\n",
       "      <td>0</td>\n",
       "      <td>-0.269405</td>\n",
       "      <td>-0.018097</td>\n",
       "      <td>-0.330202</td>\n",
       "      <td>...</td>\n",
       "      <td>0</td>\n",
       "      <td>0</td>\n",
       "      <td>0</td>\n",
       "      <td>1</td>\n",
       "      <td>0</td>\n",
       "      <td>0</td>\n",
       "      <td>0</td>\n",
       "      <td>0</td>\n",
       "      <td>0</td>\n",
       "      <td>0</td>\n",
       "    </tr>\n",
       "  </tbody>\n",
       "</table>\n",
       "<p>5 rows × 47 columns</p>\n",
       "</div>"
      ],
      "text/plain": [
       "       Hour     Month INATTENTIONIND UNDERINFL PEDROWNOTGRNT SPEEDING  \\\n",
       "0  0.965742  1.588951              0         0             0        0   \n",
       "1 -0.164955  1.297410              0         0             0        0   \n",
       "2 -0.306293 -1.034920              0         0             0        0   \n",
       "3  0.824405 -0.743379              0         0             0        0   \n",
       "4 -1.578327  1.588951              0         0             0        0   \n",
       "\n",
       "  HITPARKEDCAR         X         Y  PERSONCOUNT   ...     \\\n",
       "0            0 -0.567408  0.499007    -0.330202   ...      \n",
       "1            0 -0.135973 -0.210629     1.155765   ...      \n",
       "2            0 -0.144879 -0.266036     0.412781   ...      \n",
       "3            0 -1.930751  1.282708    -0.330202   ...      \n",
       "4            0 -0.269405 -0.018097    -0.330202   ...      \n",
       "\n",
       "   Dark - Unknown Lighting  Parked Car  Rear Ended  Angles  Sideswipe  \\\n",
       "0                        0           0           0       1          0   \n",
       "1                        0           0           0       0          1   \n",
       "2                        0           1           0       0          0   \n",
       "3                        0           1           0       0          0   \n",
       "4                        0           0           0       1          0   \n",
       "\n",
       "   Left Turn  Pedestrian  Cycles  Right Turn  Head On  \n",
       "0          0           0       0           0        0  \n",
       "1          0           0       0           0        0  \n",
       "2          0           0       0           0        0  \n",
       "3          0           0       0           0        0  \n",
       "4          0           0       0           0        0  \n",
       "\n",
       "[5 rows x 47 columns]"
      ]
     },
     "execution_count": 50,
     "metadata": {},
     "output_type": "execute_result"
    }
   ],
   "source": [
    "X.head()"
   ]
  },
  {
   "cell_type": "code",
   "execution_count": 51,
   "metadata": {},
   "outputs": [],
   "source": [
    "X=X.apply(pd.to_numeric)\n"
   ]
  },
  {
   "cell_type": "code",
   "execution_count": 52,
   "metadata": {},
   "outputs": [
    {
     "name": "stdout",
     "output_type": "stream",
     "text": [
      "<class 'pandas.core.frame.DataFrame'>\n",
      "Int64Index: 194673 entries, 0 to 194672\n",
      "Data columns (total 47 columns):\n",
      "Hour                                                 194673 non-null float64\n",
      "Month                                                194673 non-null float64\n",
      "INATTENTIONIND                                       194673 non-null int64\n",
      "UNDERINFL                                            194673 non-null int64\n",
      "PEDROWNOTGRNT                                        194673 non-null int64\n",
      "SPEEDING                                             194673 non-null int64\n",
      "HITPARKEDCAR                                         194673 non-null int64\n",
      "X                                                    194673 non-null float64\n",
      "Y                                                    194673 non-null float64\n",
      "PERSONCOUNT                                          194673 non-null float64\n",
      "PEDCOUNT                                             194673 non-null float64\n",
      "PEDCYLCOUNT                                          194673 non-null float64\n",
      "VEHCOUNT                                             194673 non-null float64\n",
      "Block                                                194673 non-null int64\n",
      "Intersection                                         194673 non-null int64\n",
      "Alley                                                194673 non-null int64\n",
      "Mid-Block (not related to intersection)              194673 non-null int64\n",
      "At Intersection (intersection related)               194673 non-null int64\n",
      "Mid-Block (but intersection related)                 194673 non-null int64\n",
      "Driveway Junction                                    194673 non-null int64\n",
      "At Intersection (but not related to intersection)    194673 non-null int64\n",
      "Ramp Junction                                        194673 non-null int64\n",
      "Clear                                                194673 non-null int64\n",
      "Raining                                              194673 non-null int64\n",
      "Overcast                                             194673 non-null int64\n",
      "Snowing                                              194673 non-null int64\n",
      "Fog/Smog/Smoke                                       194673 non-null int64\n",
      "Sleet/Hail/Freezing Rain                             194673 non-null int64\n",
      "Blowing Sand/Dirt                                    194673 non-null int64\n",
      "Severe Crosswind                                     194673 non-null int64\n",
      "Partly Cloudy                                        194673 non-null int64\n",
      "Daylight                                             194673 non-null int64\n",
      "Dark - Street Lights On                              194673 non-null int64\n",
      "Dusk                                                 194673 non-null int64\n",
      "Dawn                                                 194673 non-null int64\n",
      "Dark - No Street Lights                              194673 non-null int64\n",
      "Dark - Street Lights Off                             194673 non-null int64\n",
      "Dark - Unknown Lighting                              194673 non-null int64\n",
      "Parked Car                                           194673 non-null int64\n",
      "Rear Ended                                           194673 non-null int64\n",
      "Angles                                               194673 non-null int64\n",
      "Sideswipe                                            194673 non-null int64\n",
      "Left Turn                                            194673 non-null int64\n",
      "Pedestrian                                           194673 non-null int64\n",
      "Cycles                                               194673 non-null int64\n",
      "Right Turn                                           194673 non-null int64\n",
      "Head On                                              194673 non-null int64\n",
      "dtypes: float64(8), int64(39)\n",
      "memory usage: 71.3 MB\n"
     ]
    }
   ],
   "source": [
    "X.info()"
   ]
  },
  {
   "cell_type": "markdown",
   "metadata": {},
   "source": [
    "# split data to train, test set"
   ]
  },
  {
   "cell_type": "code",
   "execution_count": 53,
   "metadata": {},
   "outputs": [],
   "source": [
    "from sklearn.model_selection import train_test_split\n",
    "X_train,X_test,y_train,y_test=train_test_split(X,Y,test_size=.33,random_state=13)"
   ]
  },
  {
   "cell_type": "code",
   "execution_count": 54,
   "metadata": {},
   "outputs": [],
   "source": [
    "from sklearn import metrics\n"
   ]
  },
  {
   "cell_type": "code",
   "execution_count": 55,
   "metadata": {},
   "outputs": [],
   "source": [
    "from sklearn.ensemble import RandomForestClassifier,VotingClassifier,GradientBoostingClassifier\n",
    "from sklearn.linear_model import LogisticRegression\n",
    "from sklearn.svm import SVC\n",
    "from sklearn.neighbors import KNeighborsClassifier\n",
    "from sklearn.linear_model import LinearRegression\n",
    "from sklearn.neighbors import KNeighborsRegressor\n",
    "from sklearn.neural_network import MLPRegressor,BernoulliRBM\n",
    "from sklearn.naive_bayes import GaussianNB,CategoricalNB\n",
    "from sklearn import preprocessing\n",
    "from sklearn.tree import DecisionTreeClassifier,DecisionTreeRegressor"
   ]
  },
  {
   "cell_type": "markdown",
   "metadata": {},
   "source": [
    "# logistic regression models"
   ]
  },
  {
   "cell_type": "code",
   "execution_count": 60,
   "metadata": {},
   "outputs": [
    {
     "data": {
      "text/plain": [
       "(0.484531341311987, 0.783976464361876)"
      ]
     },
     "execution_count": 60,
     "metadata": {},
     "output_type": "execute_result"
    }
   ],
   "source": [
    "model_lr=LogisticRegression(solver='liblinear',max_iter=100)\n",
    "model_lr.fit(X_train,y_train)\n",
    "pred_lr=model_lr.predict(X_test)\n",
    "pred_lr_prob=model_lr.predict_proba(X_test)\n",
    "metrics.log_loss(y_test,pred_lr_prob),model_lr.score(X_test,y_test)\n"
   ]
  },
  {
   "cell_type": "code",
   "execution_count": 61,
   "metadata": {},
   "outputs": [],
   "source": [
    "def pred_2nd(pred):\n",
    "    pred1=[]\n",
    "    for i in pred:\n",
    "        pred1.append(i[1])\n",
    "    return pred1\n"
   ]
  },
  {
   "cell_type": "code",
   "execution_count": 62,
   "metadata": {},
   "outputs": [],
   "source": [
    "pred_lr_prob2=pred_2nd(pred_lr_prob)\n",
    "fprlr, tprlr, thresholdslr = metrics.roc_curve(y_test, pred_lr_prob2, pos_label=2)\n"
   ]
  },
  {
   "cell_type": "code",
   "execution_count": 63,
   "metadata": {},
   "outputs": [
    {
     "name": "stdout",
     "output_type": "stream",
     "text": [
      "col_0             1     2\n",
      "SEVERITYCODE             \n",
      "1             43743  1275\n",
      "2             12603  6622\n",
      "              precision    recall  f1-score   support\n",
      "\n",
      "           1       0.78      0.97      0.86     45018\n",
      "           2       0.84      0.34      0.49     19225\n",
      "\n",
      "    accuracy                           0.78     64243\n",
      "   macro avg       0.81      0.66      0.68     64243\n",
      "weighted avg       0.79      0.78      0.75     64243\n",
      "\n"
     ]
    }
   ],
   "source": [
    "print(pd.crosstab(y_test,pred_lr))\n",
    "print(metrics.classification_report(y_test,pred_lr))\n"
   ]
  },
  {
   "cell_type": "markdown",
   "metadata": {},
   "source": [
    "# KNN model"
   ]
  },
  {
   "cell_type": "code",
   "execution_count": null,
   "metadata": {},
   "outputs": [
    {
     "name": "stdout",
     "output_type": "stream",
     "text": [
      "15\n",
      "19\n"
     ]
    }
   ],
   "source": [
    "acc_matrix=[]\n",
    "acc_matrix1=[]\n",
    "for i in range(15,45,4):\n",
    "    model3=KNeighborsClassifier(n_neighbors=i)\n",
    "    model3.fit(X_train,y_train)\n",
    "    acc_matrix.append(metrics.log_loss(y_test,model3.predict(X_test)))\n",
    "    print (i)\n",
    "#best model i=47\n",
    "# model_KNN=KNeighborsClassifier(n_neighbors=5)\n",
    "# model_KNN.fit(X_train,y_train)\n"
   ]
  },
  {
   "cell_type": "code",
   "execution_count": 66,
   "metadata": {},
   "outputs": [
    {
     "name": "stdout",
     "output_type": "stream",
     "text": [
      "[24.20345612787699, 24.20345612787699, 24.20345612787699, 24.20345612787699, 24.20345612787699]\n"
     ]
    },
    {
     "data": {
      "text/plain": [
       "[<matplotlib.lines.Line2D at 0x29ce9092d30>]"
      ]
     },
     "execution_count": 66,
     "metadata": {},
     "output_type": "execute_result"
    },
    {
     "data": {
      "image/png": "[encoded data removed]",
      "text/plain": [
       "<Figure size 432x288 with 1 Axes>"
      ]
     },
     "metadata": {
      "needs_background": "light"
     },
     "output_type": "display_data"
    }
   ],
   "source": [
    "# pred_knn_prob=model_KNN.predict_proba(X_test)\n",
    "# pred_knn=model_KNN.predict(X_test)\n",
    "print(acc_matrix)\n",
    "plt.plot(acc_matrix)\n",
    "#pred=model_KNN.predict_proba(X_test)"
   ]
  },
  {
   "cell_type": "code",
   "execution_count": 94,
   "metadata": {},
   "outputs": [
    {
     "data": {
      "text/plain": [
       "(0.7505720467599583, 24.20345612787699)"
      ]
     },
     "execution_count": 94,
     "metadata": {},
     "output_type": "execute_result"
    }
   ],
   "source": [
    "#pred=model_KNN.predict_proba(X_test)\n",
    "metrics.accuracy_score(y_test,pred_knn),metrics.log_loss(y_test,pred_knn)\n"
   ]
  },
  {
   "cell_type": "code",
   "execution_count": 95,
   "metadata": {},
   "outputs": [],
   "source": [
    "pred_knn_prob2=pred_2nd(pred_knn_prob)\n",
    "fprknn, tprknn, thresholdsknn = metrics.roc_curve(y_test, pred_knn_prob2, pos_label=2)"
   ]
  },
  {
   "cell_type": "code",
   "execution_count": 96,
   "metadata": {
    "scrolled": true
   },
   "outputs": [
    {
     "name": "stdout",
     "output_type": "stream",
     "text": [
      "col_0             1     2\n",
      "SEVERITYCODE             \n",
      "1             40638  4380\n",
      "2             11644  7581\n",
      "              precision    recall  f1-score   support\n",
      "\n",
      "           1       0.78      0.90      0.84     45018\n",
      "           2       0.63      0.39      0.49     19225\n",
      "\n",
      "    accuracy                           0.75     64243\n",
      "   macro avg       0.71      0.65      0.66     64243\n",
      "weighted avg       0.73      0.75      0.73     64243\n",
      "\n"
     ]
    }
   ],
   "source": [
    "print(pd.crosstab(y_test,pred_knn))\n",
    "print(metrics.classification_report(y_test,pred_knn))\n"
   ]
  },
  {
   "cell_type": "markdown",
   "metadata": {},
   "source": [
    "# Decession tree model"
   ]
  },
  {
   "cell_type": "code",
   "execution_count": 97,
   "metadata": {},
   "outputs": [
    {
     "name": "stdout",
     "output_type": "stream",
     "text": [
      "9.937209446823575 0.7122021076226204\n",
      "col_0             1      2\n",
      "SEVERITYCODE              \n",
      "1             35415   9603\n",
      "2              8886  10339\n",
      "              precision    recall  f1-score   support\n",
      "\n",
      "           1       0.80      0.79      0.79     45018\n",
      "           2       0.52      0.54      0.53     19225\n",
      "\n",
      "    accuracy                           0.71     64243\n",
      "   macro avg       0.66      0.66      0.66     64243\n",
      "weighted avg       0.72      0.71      0.71     64243\n",
      "\n"
     ]
    }
   ],
   "source": [
    "\n",
    "\n",
    "model_DT=DecisionTreeClassifier()\n",
    "model_DT.fit(X_train,y_train)\n",
    "pred_dt_prob=model_DT.predict_proba(X_test)\n",
    "print(metrics.log_loss(y_test,pred_dt_prob),model_DT.score(X_test,y_test))\n",
    "pred_dt_prob2=pred_2nd(pred_dt_prob)\n",
    "fprdt, tprdt, thresholdsdt = metrics.roc_curve(y_test, pred_dt_prob2, pos_label=2)\n",
    "pred_dt=model_DT.predict(X_test)\n",
    "print(pd.crosstab(y_test,pred_dt))\n",
    "print(metrics.classification_report(y_test,pred_dt))"
   ]
  },
  {
   "cell_type": "markdown",
   "metadata": {},
   "source": [
    "# RandomForestClassifier"
   ]
  },
  {
   "cell_type": "code",
   "execution_count": 98,
   "metadata": {},
   "outputs": [
    {
     "name": "stdout",
     "output_type": "stream",
     "text": [
      "0.4768522140244663 0.7845057049017014\n",
      "col_0             1     2\n",
      "SEVERITYCODE             \n",
      "1             41589  3429\n",
      "2             10415  8810\n",
      "              precision    recall  f1-score   support\n",
      "\n",
      "           1       0.80      0.92      0.86     45018\n",
      "           2       0.72      0.46      0.56     19225\n",
      "\n",
      "    accuracy                           0.78     64243\n",
      "   macro avg       0.76      0.69      0.71     64243\n",
      "weighted avg       0.78      0.78      0.77     64243\n",
      "\n"
     ]
    }
   ],
   "source": [
    "model_RF=RandomForestClassifier()\n",
    "model_RF.fit(X_train,y_train)\n",
    "pred_rf_prob=model_RF.predict_proba(X_test)\n",
    "print(metrics.log_loss(y_test,pred_rf_prob),model_RF.score(X_test,y_test))\n",
    "pred_rf_prob2=pred_2nd(pred_rf_prob)\n",
    "fprrf, tprrf, thresholdsrf = metrics.roc_curve(y_test, pred_rf_prob2, pos_label=2)\n",
    "pred_rf=model_RF.predict(X_test)\n",
    "print(pd.crosstab(y_test,pred_rf))\n",
    "print(metrics.classification_report(y_test,pred_rf))"
   ]
  },
  {
   "cell_type": "markdown",
   "metadata": {},
   "source": [
    "# GradientBoostingClassifier"
   ]
  },
  {
   "cell_type": "code",
   "execution_count": 99,
   "metadata": {},
   "outputs": [
    {
     "name": "stdout",
     "output_type": "stream",
     "text": [
      "0.4502537063638439 0.7911056457512881\n",
      "col_0             1     2\n",
      "SEVERITYCODE             \n",
      "1             43503  1515\n",
      "2             11905  7320\n",
      "              precision    recall  f1-score   support\n",
      "\n",
      "           1       0.79      0.97      0.87     45018\n",
      "           2       0.83      0.38      0.52     19225\n",
      "\n",
      "    accuracy                           0.79     64243\n",
      "   macro avg       0.81      0.67      0.69     64243\n",
      "weighted avg       0.80      0.79      0.76     64243\n",
      "\n"
     ]
    }
   ],
   "source": [
    "model_GBC=GradientBoostingClassifier()\n",
    "model_GBC.fit(X_train,y_train)\n",
    "pred_gbc_prob=model_GBC.predict_proba(X_test)\n",
    "print(metrics.log_loss(y_test,pred_gbc_prob),model_GBC.score(X_test,y_test))\n",
    "pred_gbc_prob2=pred_2nd(pred_gbc_prob)\n",
    "fprgb, tprgb, thresholdsgb = metrics.roc_curve(y_test, pred_gbc_prob2, pos_label=2)\n",
    "pred_gbc=model_GBC.predict(X_test)\n",
    "print(pd.crosstab(y_test,pred_gbc))\n",
    "print(metrics.classification_report(y_test,pred_gbc))"
   ]
  },
  {
   "cell_type": "markdown",
   "metadata": {},
   "source": [
    "# SVM model with kfold 1/10 for training 9/10 for validation "
   ]
  },
  {
   "cell_type": "code",
   "execution_count": 81,
   "metadata": {},
   "outputs": [
    {
     "name": "stdout",
     "output_type": "stream",
     "text": [
      "[0.5180534598718124, 0.5175988579958942, 0.5153464682231665, 0.5188306273048107, 0.5140644532699206, 0.5156217060148527, 0.518807683661681, 0.5165178992868374, 0.5175679756981698, 0.5176262473701154]\n"
     ]
    }
   ],
   "source": [
    "from sklearn.model_selection import KFold\n",
    "from sklearn.model_selection import cross_val_score\n",
    "model_svc=SVC(probability=True)\n",
    "# prepare the cross-validation procedure\n",
    "cv = KFold(n_splits=10, random_state=1, shuffle=True)\n",
    "# create model\n",
    "models_svm=[]\n",
    "log_loss=[]\n",
    "for test_index,train_index in cv.split(X):\n",
    "    model_svc.fit(X.iloc[train_index,:],Y.iloc[train_index])\n",
    "    pred_svc_prob=model_svc.predict_proba(X.iloc[test_index,:])\n",
    "    log_loss.append(metrics.log_loss(Y.iloc[test_index],pred_svc_prob))\n",
    "    models_svm.append(model_svc)\n",
    "print(log_loss)"
   ]
  },
  {
   "cell_type": "code",
   "execution_count": 86,
   "metadata": {
    "scrolled": true
   },
   "outputs": [
    {
     "name": "stdout",
     "output_type": "stream",
     "text": [
      "0.5179515772217549 0.7784505704901702\n"
     ]
    }
   ],
   "source": [
    "# best model\n",
    "#models_svm[4].score(X.iloc[test_index,:],Y.iloc[test_index])\n",
    "pred_svm_prob=models_svm[4].predict_proba(X_test)\n",
    "print(metrics.log_loss(y_test,pred_svm_prob),models_svm[4].score(X_test,y_test))\n",
    "pred_svm_prob2=pred_2nd(pred_svm_prob)\n",
    "fprsvm, tprsvm, thresholdssvm = metrics.roc_curve(y_test, pred_svm_prob2, pos_label=2)"
   ]
  },
  {
   "cell_type": "code",
   "execution_count": 83,
   "metadata": {},
   "outputs": [
    {
     "name": "stdout",
     "output_type": "stream",
     "text": [
      "col_0             1     2\n",
      "SEVERITYCODE             \n",
      "1             44550   468\n",
      "2             13765  5460\n",
      "              precision    recall  f1-score   support\n",
      "\n",
      "           1       0.76      0.99      0.86     45018\n",
      "           2       0.92      0.28      0.43     19225\n",
      "\n",
      "    accuracy                           0.78     64243\n",
      "   macro avg       0.84      0.64      0.65     64243\n",
      "weighted avg       0.81      0.78      0.73     64243\n",
      "\n"
     ]
    }
   ],
   "source": [
    "pred_svm=models_svm[4].predict(X_test)\n",
    "print(pd.crosstab(y_test,pred_svm))\n",
    "print(metrics.classification_report(y_test,pred_svm))"
   ]
  },
  {
   "cell_type": "markdown",
   "metadata": {},
   "source": [
    "# VotingClassifier"
   ]
  },
  {
   "cell_type": "code",
   "execution_count": 1,
   "metadata": {},
   "outputs": [
    {
     "ename": "NameError",
     "evalue": "name 'VotingClassifier' is not defined",
     "output_type": "error",
     "traceback": [
      "\u001b[1;31m---------------------------------------------------------------------------\u001b[0m",
      "\u001b[1;31mNameError\u001b[0m                                 Traceback (most recent call last)",
      "\u001b[1;32m<ipython-input-1-bc648ad7ab58>\u001b[0m in \u001b[0;36m<module>\u001b[1;34m\u001b[0m\n\u001b[1;32m----> 1\u001b[1;33m \u001b[0mmodelv\u001b[0m\u001b[1;33m=\u001b[0m\u001b[0mVotingClassifier\u001b[0m\u001b[1;33m(\u001b[0m\u001b[0mestimators\u001b[0m\u001b[1;33m=\u001b[0m\u001b[1;33m[\u001b[0m\u001b[1;33m(\u001b[0m\u001b[1;34m'model_SVM'\u001b[0m\u001b[1;33m,\u001b[0m\u001b[0mmodels_svm\u001b[0m\u001b[1;33m[\u001b[0m\u001b[1;36m4\u001b[0m\u001b[1;33m]\u001b[0m\u001b[1;33m)\u001b[0m\u001b[1;33m,\u001b[0m\u001b[1;33m(\u001b[0m\u001b[1;34m'model_KNN'\u001b[0m\u001b[1;33m,\u001b[0m \u001b[0mmodel_KNN\u001b[0m\u001b[1;33m)\u001b[0m\u001b[1;33m,\u001b[0m\u001b[1;33m(\u001b[0m\u001b[1;34m'model_DT'\u001b[0m\u001b[1;33m,\u001b[0m \u001b[0mmodel_DT\u001b[0m\u001b[1;33m)\u001b[0m\u001b[1;33m,\u001b[0m \u001b[1;33m(\u001b[0m\u001b[1;34m'model_RF'\u001b[0m\u001b[1;33m,\u001b[0m \u001b[0mmodel_RF\u001b[0m\u001b[1;33m)\u001b[0m\u001b[1;33m,\u001b[0m \u001b[1;33m(\u001b[0m\u001b[1;34m'model_GBC'\u001b[0m\u001b[1;33m,\u001b[0m \u001b[0mmodel_GBC\u001b[0m\u001b[1;33m)\u001b[0m\u001b[1;33m]\u001b[0m\u001b[1;33m,\u001b[0m \u001b[0mvoting\u001b[0m\u001b[1;33m=\u001b[0m\u001b[1;34m'soft'\u001b[0m\u001b[1;33m)\u001b[0m\u001b[1;33m\u001b[0m\u001b[1;33m\u001b[0m\u001b[0m\n\u001b[0m\u001b[0;32m      2\u001b[0m \u001b[0mmodelv\u001b[0m\u001b[1;33m.\u001b[0m\u001b[0mfit\u001b[0m\u001b[1;33m(\u001b[0m\u001b[0mX_train\u001b[0m\u001b[1;33m,\u001b[0m\u001b[0my_train\u001b[0m\u001b[1;33m)\u001b[0m\u001b[1;31m#('model_KNN', model_KNN),\u001b[0m\u001b[1;33m\u001b[0m\u001b[1;33m\u001b[0m\u001b[0m\n\u001b[0;32m      3\u001b[0m \u001b[0mpred_v_prob\u001b[0m\u001b[1;33m=\u001b[0m\u001b[0mmodelv\u001b[0m\u001b[1;33m.\u001b[0m\u001b[0mpredict_proba\u001b[0m\u001b[1;33m(\u001b[0m\u001b[0mX_test\u001b[0m\u001b[1;33m)\u001b[0m\u001b[1;33m\u001b[0m\u001b[1;33m\u001b[0m\u001b[0m\n\u001b[0;32m      4\u001b[0m \u001b[0mprint\u001b[0m\u001b[1;33m(\u001b[0m\u001b[0mmetrics\u001b[0m\u001b[1;33m.\u001b[0m\u001b[0mlog_loss\u001b[0m\u001b[1;33m(\u001b[0m\u001b[0my_test\u001b[0m\u001b[1;33m,\u001b[0m\u001b[0mpred_v_prob\u001b[0m\u001b[1;33m)\u001b[0m\u001b[1;33m,\u001b[0m\u001b[0mmodelv\u001b[0m\u001b[1;33m.\u001b[0m\u001b[0mscore\u001b[0m\u001b[1;33m(\u001b[0m\u001b[0mX_test\u001b[0m\u001b[1;33m,\u001b[0m\u001b[0my_test\u001b[0m\u001b[1;33m)\u001b[0m\u001b[1;33m)\u001b[0m\u001b[1;33m\u001b[0m\u001b[1;33m\u001b[0m\u001b[0m\n\u001b[0;32m      5\u001b[0m \u001b[0mpred_v_prob2\u001b[0m\u001b[1;33m=\u001b[0m\u001b[0mpred_2nd\u001b[0m\u001b[1;33m(\u001b[0m\u001b[0mpred_v_prob\u001b[0m\u001b[1;33m)\u001b[0m\u001b[1;33m\u001b[0m\u001b[1;33m\u001b[0m\u001b[0m\n",
      "\u001b[1;31mNameError\u001b[0m: name 'VotingClassifier' is not defined"
     ]
    }
   ],
   "source": [
    "modelv=VotingClassifier(estimators=[('model_SVM',models_svm[4]),('model_KNN', model_KNN),('model_DT', model_DT), ('model_RF', model_RF), ('model_GBC', model_GBC)], voting='soft')\n",
    "modelv.fit(X_train,y_train)#('model_KNN', model_KNN),\n",
    "pred_v_prob=modelv.predict_proba(X_test)\n",
    "print(metrics.log_loss(y_test,pred_v_prob),modelv.score(X_test,y_test))\n",
    "pred_v_prob2=pred_2nd(pred_v_prob)\n",
    "fprv, tprv, thresholdsv = metrics.roc_curve(y_test, pred_v_prob2, pos_label=2)\n",
    "pred_v=modelv.predict(X_test)\n",
    "print(pd.crosstab(y_test,pred_v))\n",
    "print(metrics.classification_report(y_test,pred_v))"
   ]
  },
  {
   "cell_type": "code",
   "execution_count": null,
   "metadata": {},
   "outputs": [],
   "source": [
    "plt.figure(figsize=(10,10))\n",
    "plt.plot(fprlr,tprlr,label='LR',c='m',linestyle='dashed')\n",
    "plt.plot(fprknn,tprknn,label='KNN',c='b',linestyle='dashed')\n",
    "plt.plot(fprdt,tprdt,label='DT',c='g',linestyle='dashed')\n",
    "plt.plot(fprrf,tprrf,label='RF',c='y',linestyle='dashed')\n",
    "plt.plot(fprsvm,tprsvm,label='SVM',c='c',linestyle='dashed')\n",
    "\n",
    "plt.plot(fprv,tprv,label='Vote',c='b',linestyle='dashed')\n",
    "plt.plot(fprgb,tprgb,label='GB',c='r',linestyle='dashed')\n",
    "plt.xlabel(\"False Positive ratio\")\n",
    "plt.ylabel(\"True Positive ratio\")\n",
    "plt.legend()"
   ]
  },
  {
   "cell_type": "code",
   "execution_count": 106,
   "metadata": {},
   "outputs": [],
   "source": [
    "importance=pd.DataFrame({'importance':model_GBC.feature_importances_} ,index=X_train.columns)"
   ]
  },
  {
   "cell_type": "code",
   "execution_count": 107,
   "metadata": {},
   "outputs": [
    {
     "data": {
      "text/plain": [
       "<matplotlib.axes._subplots.AxesSubplot at 0x200a958e390>"
      ]
     },
     "execution_count": 107,
     "metadata": {},
     "output_type": "execute_result"
    },
    {
     "data": {
      "image/png": "[encoded data removed]",
      "text/plain": [
       "<Figure size 720x720 with 1 Axes>"
      ]
     },
     "metadata": {
      "needs_background": "light"
     },
     "output_type": "display_data"
    }
   ],
   "source": [
    "fig=plt.figure(figsize=(10,10))\n",
    "ax=plt.subplot(111)\n",
    "importance.sort_values(by='importance',ascending=False).plot(kind='bar',ax=ax)"
   ]
  },
  {
   "cell_type": "code",
   "execution_count": 98,
   "metadata": {},
   "outputs": [],
   "source": [
    "\n",
    "\n",
    "pred_svc_prob=model_svc.predict_proba(X_test)\n",
    "print(metrics.log_loss(y_test,pred_svc_prob),model_svc.score(X_test,y_test))\n",
    "pred_svc_prob2=pred_2nd(pred_svc_prob)\n",
    "fprgb, tprgb, thresholdsgb = metrics.roc_curve(y_test, pred, pos_label=2)\n",
    "pred_svc=model_svc.predict(X_test)\n",
    "print(pd.crosstab(y_test,pred_svc))\n",
    "print(metrics.classification_report(y_test,pred_svc))"
   ]
  },
  {
   "cell_type": "code",
   "execution_count": null,
   "metadata": {},
   "outputs": [],
   "source": []
  }
 ],
 "metadata": {
  "kernelspec": {
   "display_name": "Python 3",
   "language": "python",
   "name": "python3"
  },
  "language_info": {
   "codemirror_mode": {
    "name": "ipython",
    "version": 3
   },
   "file_extension": ".py",
   "mimetype": "text/x-python",
   "name": "python",
   "nbconvert_exporter": "python",
   "pygments_lexer": "ipython3",
   "version": "3.6.8"
  }
 },
 "nbformat": 4,
 "nbformat_minor": 2
}
